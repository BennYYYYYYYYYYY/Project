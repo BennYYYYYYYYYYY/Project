{
 "cells": [
  {
   "cell_type": "code",
   "execution_count": null,
   "metadata": {},
   "outputs": [],
   "source": [
    "from prompt_use import llms_prompt\n",
    "from content_sentence_use import content_sentence_run\n",
    "import ollama\n",
    "from langchain_ollama import OllamaLLM"
   ]
  },
  {
   "cell_type": "code",
   "execution_count": null,
   "metadata": {},
   "outputs": [],
   "source": [
    "article_folder_5 = r\"article_chunk_5\"\n",
    "article_folder_10 = r\"article_chunk_10\""
   ]
  },
  {
   "cell_type": "markdown",
   "metadata": {},
   "source": [
    "# LLaMA 3.2 1B"
   ]
  },
  {
   "cell_type": "code",
   "execution_count": 3,
   "metadata": {},
   "outputs": [
    {
     "name": "stdout",
     "output_type": "stream",
     "text": [
      "現在使用的模型為:  llama3.2:1b\n"
     ]
    }
   ],
   "source": [
    "# llama3.2:1b\n",
    "# 封裝 LLMs\n",
    "llm = OllamaLLM(\n",
    "    model=\"llama3.2:1b\",\n",
    "    temperature=0,\n",
    "    max_tokens=36\n",
    ") \n",
    "\n",
    "# 確定模型\n",
    "print(\"現在使用的模型為: \", llm.model)"
   ]
  },
  {
   "cell_type": "code",
   "execution_count": null,
   "metadata": {},
   "outputs": [],
   "source": [
    "variable_use = \"Timeliness\"\n",
    "prompt = llms_prompt(variable_use)\n",
    "llama_chain = prompt | llm\n",
    "content_sentence_run(\"llama3.2\", llama_chain, article_folder_10, variable_use, 1, 0)"
   ]
  },
  {
   "cell_type": "markdown",
   "metadata": {},
   "source": [
    "# Gemma 3 1B"
   ]
  },
  {
   "cell_type": "code",
   "execution_count": 3,
   "metadata": {},
   "outputs": [
    {
     "name": "stdout",
     "output_type": "stream",
     "text": [
      "現在使用的模型為:  gemma3:1b\n"
     ]
    }
   ],
   "source": [
    "llm = OllamaLLM(\n",
    "    model=\"gemma3:1b\",\n",
    "    temperature=0,\n",
    "    max_tokens=36\n",
    ") \n",
    "\n",
    "# 確定模型\n",
    "print(\"現在使用的模型為: \", llm.model)"
   ]
  },
  {
   "cell_type": "code",
   "execution_count": null,
   "metadata": {},
   "outputs": [],
   "source": [
    "# gemma3:1b\n",
    "variable_use = \"Timeliness\"\n",
    "prompt = llms_prompt(variable_use)\n",
    "gemma_chain = prompt | llm\n",
    "content_sentence_run(\"gemma3\", gemma_chain, article_folder_10, variable_use, 1, 0)"
   ]
  },
  {
   "cell_type": "markdown",
   "metadata": {},
   "source": [
    "# DeepSeek-R1-1.5B "
   ]
  },
  {
   "cell_type": "code",
   "execution_count": null,
   "metadata": {},
   "outputs": [],
   "source": [
    "llm = OllamaLLM(\n",
    "    model=\"deepseek-r1:1.5b\",\n",
    "    temperature=0,\n",
    ") \n",
    "\n",
    "print(\"現在使用的模型為: \", llm.model)"
   ]
  },
  {
   "cell_type": "code",
   "execution_count": null,
   "metadata": {},
   "outputs": [],
   "source": [
    "# deepseek-r1\n",
    "variable_use = \"Readability\"\n",
    "prompt = llms_prompt(variable_use)\n",
    "deepseek_chain = prompt | llm\n",
    "content_sentence_run(\"deepseek-r1\", deepseek_chain, article_folder_10, variable_use, 1, 0)"
   ]
  }
 ],
 "metadata": {
  "kernelspec": {
   "display_name": "ollama",
   "language": "python",
   "name": "python3"
  },
  "language_info": {
   "codemirror_mode": {
    "name": "ipython",
    "version": 3
   },
   "file_extension": ".py",
   "mimetype": "text/x-python",
   "name": "python",
   "nbconvert_exporter": "python",
   "pygments_lexer": "ipython3",
   "version": "3.9.21"
  }
 },
 "nbformat": 4,
 "nbformat_minor": 2
}
