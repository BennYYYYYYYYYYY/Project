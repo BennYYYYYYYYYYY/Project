{
 "cells": [
  {
   "cell_type": "code",
   "execution_count": null,
   "metadata": {},
   "outputs": [],
   "source": [
    "from langchain_openai import ChatOpenAI\n",
    "from prompt_use import llms_prompt_few_shot, llms_prompt_zero_shot, llms_prompt_zero_shot_cot\n",
    "from sentiment_esg_use import sentiment_esg_run, sentiment_esg_run_few_shot_new, sentiment_esg_run_zero_shot\n",
    "from content_sentence_use import content_sentence_run\n",
    "from dotenv import load_dotenv\n",
    "import os\n",
    "import pandas as pd\n",
    "load_dotenv()\n",
    "api_key = os.environ.get(\"OPENAI_API_KEY\")"
   ]
  },
  {
   "cell_type": "code",
   "execution_count": 2,
   "metadata": {},
   "outputs": [],
   "source": [
    "# LLM 封裝\n",
    "llm = ChatOpenAI(\n",
    "    model=\"gpt-4o\",\n",
    "    temperature=0,\n",
    "    max_tokens=35\n",
    ")"
   ]
  },
  {
   "cell_type": "code",
   "execution_count": null,
   "metadata": {},
   "outputs": [],
   "source": [
    "file_sentiment = r\"Sentiment_classification_training_dataset.xlsx\"\n",
    "file_esg = r\"ESG_classification_training_dataset.xlsx\"\n",
    "\n",
    "df_sentiment = pd.read_excel(file_sentiment)\n",
    "df_esg = pd.read_excel(file_esg)"
   ]
  },
  {
   "cell_type": "markdown",
   "metadata": {},
   "source": [
    "# Sentiment/ESG Zero-shot CoT"
   ]
  },
  {
   "cell_type": "code",
   "execution_count": null,
   "metadata": {},
   "outputs": [],
   "source": [
    "sentence_folder = r\"sentence_data\"\n",
    "# sentence_folder = r\"sentence_data_T\""
   ]
  },
  {
   "cell_type": "code",
   "execution_count": null,
   "metadata": {},
   "outputs": [],
   "source": [
    "variable_use = \"Sentiment\"\n",
    "prompt = llms_prompt_zero_shot_cot(variable_use)\n",
    "chain = prompt | llm\n",
    "sentiment_esg_run(\"gpt\", chain, sentence_folder, variable_use, 1, 0)"
   ]
  },
  {
   "cell_type": "markdown",
   "metadata": {},
   "source": [
    "# Sentiment/ESG Zero-shot "
   ]
  },
  {
   "cell_type": "code",
   "execution_count": null,
   "metadata": {},
   "outputs": [],
   "source": [
    "# Sentiment\n",
    "variable_use = \"Sentiment\"\n",
    "prompt = llms_prompt_zero_shot(variable_use)\n",
    "chain = prompt | llm\n",
    "sentiment_esg_run_zero_shot(\"gpt\", chain, sentence_folder, variable_use, 1, 0)\n",
    "\n",
    "\n",
    "# ESG\n",
    "variable_use = \"ESG\"\n",
    "prompt = llms_prompt_zero_shot(variable_use)\n",
    "chain = prompt | llm\n",
    "sentiment_esg_run_zero_shot(\"gpt\", chain, sentence_folder, variable_use, 1, 0)"
   ]
  },
  {
   "cell_type": "markdown",
   "metadata": {},
   "source": [
    "# Sentiment/ESG Few-shot "
   ]
  },
  {
   "cell_type": "code",
   "execution_count": null,
   "metadata": {},
   "outputs": [],
   "source": [
    "# Sentiment\n",
    "variable_use = \"Sentiment\"\n",
    "sentiment_esg_run_few_shot_new(\"gpt\", llm, df_sentiment, sentence_folder, variable_use, 1, 0)\n",
    "\n",
    "# ESG\n",
    "variable_use = \"ESG\"\n",
    "sentiment_esg_run_few_shot_new(\"gpt\", llm, df_esg, sentence_folder, variable_use, 1, 0)"
   ]
  }
 ],
 "metadata": {
  "kernelspec": {
   "display_name": "transformer",
   "language": "python",
   "name": "python3"
  },
  "language_info": {
   "codemirror_mode": {
    "name": "ipython",
    "version": 3
   },
   "file_extension": ".py",
   "mimetype": "text/x-python",
   "name": "python",
   "nbconvert_exporter": "python",
   "pygments_lexer": "ipython3",
   "version": "3.9.21"
  }
 },
 "nbformat": 4,
 "nbformat_minor": 2
}
