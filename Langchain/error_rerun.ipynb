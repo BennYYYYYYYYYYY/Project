{
 "cells": [
  {
   "cell_type": "code",
   "execution_count": null,
   "id": "66068249",
   "metadata": {},
   "outputs": [],
   "source": [
    "from prompt_use import llms_prompt_few_shot, llms_prompt_zero_shot, llms_prompt_zero_shot_cot\n",
    "from sentiment_esg_use import sentiment_esg_run, sentiment_esg_run_few_shot_new, sentiment_esg_run_zero_shot\n",
    "from langchain_xai import ChatXAI\n",
    "from langchain_openai import ChatOpenAI\n",
    "from dotenv import load_dotenv\n",
    "import os\n",
    "import pandas as pd\n",
    "\n",
    "load_dotenv()"
   ]
  },
  {
   "cell_type": "code",
   "execution_count": 5,
   "id": "8e0b9867",
   "metadata": {},
   "outputs": [],
   "source": [
    "llm_chatgpt = ChatOpenAI(\n",
    "    model=\"gpt-4o\",\n",
    "    temperature=0,\n",
    "    max_tokens=35\n",
    ")"
   ]
  },
  {
   "cell_type": "code",
   "execution_count": 2,
   "id": "5175e8f3",
   "metadata": {},
   "outputs": [],
   "source": [
    "llm_grok = ChatXAI(\n",
    "    model=\"grok-3\",  \n",
    "    temperature=0,\n",
    "    max_tokens=35\n",
    ")"
   ]
  },
  {
   "cell_type": "code",
   "execution_count": null,
   "id": "c8d0dd70",
   "metadata": {},
   "outputs": [],
   "source": [
    "file_sentiment = r\"Sentiment_classification_training_dataset.xlsx\"\n",
    "file_esg = r\"ESG_classification_training_dataset.xlsx\"\n",
    "\n",
    "df_sentiment = pd.read_excel(file_sentiment)\n",
    "df_esg = pd.read_excel(file_esg)"
   ]
  },
  {
   "cell_type": "code",
   "execution_count": 4,
   "id": "f4a3d8f1",
   "metadata": {},
   "outputs": [],
   "source": [
    "sentiment = (\"Sentiment\", df_sentiment)\n",
    "esg = (\"ESG\", df_esg)"
   ]
  },
  {
   "cell_type": "markdown",
   "id": "2d0cf7b5",
   "metadata": {},
   "source": [
    "## Grok few sentiment"
   ]
  },
  {
   "cell_type": "code",
   "execution_count": null,
   "id": "ffe01e53",
   "metadata": {},
   "outputs": [],
   "source": [
    "prompt = llms_prompt_few_shot(*sentiment)\n",
    "chain = prompt | llm_grok\n",
    "res = chain.invoke(\"\"\"\n",
    "\n",
    "\"\"\")\n",
    "res.content"
   ]
  },
  {
   "cell_type": "markdown",
   "id": "0e59abd0",
   "metadata": {},
   "source": [
    "## Grok few ESG"
   ]
  },
  {
   "cell_type": "code",
   "execution_count": null,
   "id": "33290180",
   "metadata": {},
   "outputs": [],
   "source": [
    "prompt = llms_prompt_few_shot(*esg)\n",
    "chain = prompt | llm_grok\n",
    "res = chain.invoke(\"\"\"\n",
    "\n",
    "\"\"\")\n",
    "res.content"
   ]
  },
  {
   "cell_type": "markdown",
   "id": "fc1588d3",
   "metadata": {},
   "source": [
    "## Grok zero sentiment"
   ]
  },
  {
   "cell_type": "code",
   "execution_count": null,
   "id": "cb1e9c5d",
   "metadata": {},
   "outputs": [],
   "source": [
    "# zero shot\n",
    "prompt = llms_prompt_zero_shot(\"Sentiment\")\n",
    "chain = prompt | llm_grok\n",
    "res = chain.invoke(\"\"\"\n",
    "\n",
    "\"\"\")\n",
    "res.content"
   ]
  },
  {
   "cell_type": "markdown",
   "id": "698edeee",
   "metadata": {},
   "source": [
    "## Grok zero ESG"
   ]
  },
  {
   "cell_type": "code",
   "execution_count": null,
   "id": "5b39f77d",
   "metadata": {},
   "outputs": [],
   "source": [
    "prompt = llms_prompt_zero_shot(\"ESG\")\n",
    "chain = prompt | llm_grok\n",
    "res = chain.invoke(\"\"\"\n",
    "\n",
    "\"\"\")\n",
    "res.content"
   ]
  },
  {
   "cell_type": "code",
   "execution_count": null,
   "id": "908c9ba9",
   "metadata": {},
   "outputs": [],
   "source": [
    "x = llms_prompt_few_shot(*sentiment)\n",
    "print(x.format(value=\"value\"))"
   ]
  }
 ],
 "metadata": {
  "kernelspec": {
   "display_name": "transformer",
   "language": "python",
   "name": "python3"
  },
  "language_info": {
   "codemirror_mode": {
    "name": "ipython",
    "version": 3
   },
   "file_extension": ".py",
   "mimetype": "text/x-python",
   "name": "python",
   "nbconvert_exporter": "python",
   "pygments_lexer": "ipython3",
   "version": "3.9.21"
  }
 },
 "nbformat": 4,
 "nbformat_minor": 5
}
