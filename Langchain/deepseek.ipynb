{
 "cells": [
  {
   "cell_type": "code",
   "execution_count": 2,
   "id": "de7cacc9",
   "metadata": {},
   "outputs": [],
   "source": [
    "from langchain_deepseek import ChatDeepSeek\n",
    "from prompt_use import llms_prompt_zero_shot_cot\n",
    "from sentiment_esg_use import sentiment_esg_run\n",
    "from content_sentence_use import content_sentence_run\n",
    "from dotenv import load_dotenv\n",
    "import os"
   ]
  },
  {
   "cell_type": "code",
   "execution_count": 3,
   "id": "f66932c5",
   "metadata": {},
   "outputs": [],
   "source": [
    "load_dotenv()\n",
    "api_key = os.environ.get(\"DEEPSEEK_API_KEY\")"
   ]
  },
  {
   "cell_type": "code",
   "execution_count": 4,
   "id": "6c698bcf",
   "metadata": {},
   "outputs": [],
   "source": [
    "llm = ChatDeepSeek(\n",
    "    model=\"deepseek-chat\",  \n",
    "    temperature=0,\n",
    "    max_tokens=35\n",
    ")"
   ]
  },
  {
   "cell_type": "code",
   "execution_count": null,
   "id": "bdad96c4",
   "metadata": {},
   "outputs": [],
   "source": [
    "article_folder = r\"article_chunk_10\""
   ]
  },
  {
   "cell_type": "code",
   "execution_count": null,
   "id": "73d219af",
   "metadata": {},
   "outputs": [],
   "source": [
    "['Readability', 'Subjectivity', 'GreenWashing', 'Ambiguity', 'Timeliness']"
   ]
  },
  {
   "cell_type": "code",
   "execution_count": null,
   "id": "c5a49018",
   "metadata": {},
   "outputs": [],
   "source": [
    "variable_use = \"Timeliness\"\n",
    "\n",
    "prompt = llms_prompt_zero_shot_cot(variable_use)\n",
    "\n",
    "deepseek_chain = prompt | llm\n",
    "\n",
    "content_sentence_run(\"deepseek\", deepseek_chain, article_folder, variable_use, 1, 1)"
   ]
  }
 ],
 "metadata": {
  "kernelspec": {
   "display_name": "transformer",
   "language": "python",
   "name": "python3"
  },
  "language_info": {
   "codemirror_mode": {
    "name": "ipython",
    "version": 3
   },
   "file_extension": ".py",
   "mimetype": "text/x-python",
   "name": "python",
   "nbconvert_exporter": "python",
   "pygments_lexer": "ipython3",
   "version": "3.9.21"
  }
 },
 "nbformat": 4,
 "nbformat_minor": 5
}
