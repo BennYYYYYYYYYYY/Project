{
 "cells": [
  {
   "cell_type": "code",
   "execution_count": null,
   "id": "aefd1c5e",
   "metadata": {},
   "outputs": [],
   "source": [
    "from langchain_anthropic import ChatAnthropic\n",
    "from prompt_use import llms_prompt\n",
    "from sentiment_esg_use import sentiment_esg_run\n",
    "from content_sentence_use import content_sentence_run\n",
    "from dotenv import load_dotenv\n",
    "import os"
   ]
  },
  {
   "cell_type": "code",
   "execution_count": 2,
   "id": "e7678843",
   "metadata": {},
   "outputs": [],
   "source": [
    "load_dotenv()\n",
    "api_key = os.environ.get(\"ANTHROPIC_API_KEY\")"
   ]
  },
  {
   "cell_type": "code",
   "execution_count": 3,
   "id": "ea8dfb01",
   "metadata": {},
   "outputs": [],
   "source": [
    "llm = ChatAnthropic(\n",
    "    model=\"claude-3-7-sonnet-20250219\",  \n",
    "    temperature=0,\n",
    "    max_tokens=35\n",
    ")"
   ]
  },
  {
   "cell_type": "code",
   "execution_count": null,
   "id": "6e5894f4",
   "metadata": {},
   "outputs": [],
   "source": [
    "article_folder = r\"article_chunk_10\""
   ]
  },
  {
   "cell_type": "code",
   "execution_count": null,
   "id": "ebf53e53",
   "metadata": {},
   "outputs": [],
   "source": [
    "variable_use = \"Timeliness\"\n",
    "\n",
    "prompt = llms_prompt(variable_use)\n",
    "\n",
    "claude_chain = prompt | llm\n",
    "\n",
    "content_sentence_run(\"claude\", claude_chain, article_folder, variable_use, 99, 1)"
   ]
  }
 ],
 "metadata": {
  "kernelspec": {
   "display_name": "transformer",
   "language": "python",
   "name": "python3"
  },
  "language_info": {
   "codemirror_mode": {
    "name": "ipython",
    "version": 3
   },
   "file_extension": ".py",
   "mimetype": "text/x-python",
   "name": "python",
   "nbconvert_exporter": "python",
   "pygments_lexer": "ipython3",
   "version": "3.9.21"
  }
 },
 "nbformat": 4,
 "nbformat_minor": 5
}
