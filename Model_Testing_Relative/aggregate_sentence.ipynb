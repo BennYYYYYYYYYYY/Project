{
 "cells": [
  {
   "cell_type": "code",
   "execution_count": 2,
   "metadata": {},
   "outputs": [],
   "source": [
    "import pandas as pd\n",
    "import os"
   ]
  },
  {
   "cell_type": "code",
   "execution_count": null,
   "metadata": {},
   "outputs": [],
   "source": [
    "def aggregate_sentence(folder):\n",
    "    folder_output = r\"article_aggregate_from_sentence\"\n",
    "    file_start = 1\n",
    "    for file in os.listdir(folder): \n",
    "        file_with_right_sequence = str(file_start)+(os.path.splitext(file)[1])\n",
    "        file_use = os.path.join(folder, file_with_right_sequence)\n",
    "        df = pd.read_excel(file_use, usecols=[\"sentence\"])\n",
    "        article = df[\"sentence\"].str.cat(sep=\" \")\n",
    "        try:\n",
    "            with open(os.path.join(folder_output, str(file_start)+\".txt\"), \"w\", encoding=\"utf-8\") as f:\n",
    "                f.write(article)\n",
    "        except Exception as e:\n",
    "            print(file_start, e)\n",
    "        file_start += 1\n",
    "\n",
    "        "
   ]
  }
 ],
 "metadata": {
  "kernelspec": {
   "display_name": "transformer",
   "language": "python",
   "name": "python3"
  },
  "language_info": {
   "codemirror_mode": {
    "name": "ipython",
    "version": 3
   },
   "file_extension": ".py",
   "mimetype": "text/x-python",
   "name": "python",
   "nbconvert_exporter": "python",
   "pygments_lexer": "ipython3",
   "version": "3.9.21"
  }
 },
 "nbformat": 4,
 "nbformat_minor": 2
}
