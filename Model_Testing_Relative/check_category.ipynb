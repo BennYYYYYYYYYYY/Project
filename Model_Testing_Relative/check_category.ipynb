{
 "cells": [
  {
   "cell_type": "code",
   "execution_count": null,
   "metadata": {},
   "outputs": [],
   "source": [
    "import pandas as pd\n",
    "import os\n",
    "file = r\"sentence_label_data\""
   ]
  },
  {
   "cell_type": "code",
   "execution_count": null,
   "metadata": {},
   "outputs": [],
   "source": [
    "def esg_category_outcome(folder_path):\n",
    "    from collections import Counter\n",
    "\n",
    "    category_list = []\n",
    "    file_with_empty_value = []\n",
    "    \n",
    "    for filename in os.listdir(folder_path):\n",
    "        if filename.endswith(\".xlsx\"):\n",
    "            file_path = os.path.join(folder_path, filename)\n",
    "        \n",
    "            df = pd.read_excel(io=file_path, usecols=[\"gpt_ESG\"])\n",
    "            \n",
    "            # make sure there is no NaN or NA\n",
    "            if not df[\"gpt_ESG\"].isna().any():\n",
    "                # 0 means None ESG\n",
    "                df_filter = df[df[\"gpt_ESG\"] != 0]\n",
    "                # Which category has the most amount.\n",
    "                category_one_hot = df_filter[\"gpt_ESG\"].value_counts().index.tolist()[0]\n",
    "                if category_one_hot == 1:\n",
    "                    category = \"E\"\n",
    "                elif category_one_hot == 2:\n",
    "                    category = \"S\"\n",
    "                else:\n",
    "                    category = \"G\"\n",
    "                # print(f\"File {filename}'s ESG category is {category}\")\n",
    "                category_list.append(category)\n",
    "            \n",
    "            else:\n",
    "                # a list with all excel that has problem\n",
    "                file_with_empty_value.append(filename)\n",
    "    \n",
    "    if not file_with_empty_value:\n",
    "\n",
    "        if_any_empty = \"沒有少標的句子\"\n",
    "    else:\n",
    "        if_any_empty = file_with_empty_value\n",
    "\n",
    "    check = Counter(category_list)\n",
    "    \n",
    "    print(f\"E={round(check['E'] / len(category_list), 2)}, S={round(check['S'] / len(category_list), 2)}, G={round(check['G'] / len(category_list), 2)} ,{if_any_empty}\")"
   ]
  },
  {
   "cell_type": "code",
   "execution_count": null,
   "metadata": {},
   "outputs": [],
   "source": [
    "esg_category_outcome(file)"
   ]
  }
 ],
 "metadata": {
  "kernelspec": {
   "display_name": "transformer",
   "language": "python",
   "name": "python3"
  },
  "language_info": {
   "codemirror_mode": {
    "name": "ipython",
    "version": 3
   },
   "file_extension": ".py",
   "mimetype": "text/x-python",
   "name": "python",
   "nbconvert_exporter": "python",
   "pygments_lexer": "ipython3",
   "version": "3.9.21"
  }
 },
 "nbformat": 4,
 "nbformat_minor": 2
}
