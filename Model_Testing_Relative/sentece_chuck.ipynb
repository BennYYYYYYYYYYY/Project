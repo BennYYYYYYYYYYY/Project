{
 "cells": [
  {
   "cell_type": "code",
   "execution_count": 1,
   "id": "372ee8a3",
   "metadata": {},
   "outputs": [],
   "source": [
    "import pandas as pd\n",
    "import os"
   ]
  },
  {
   "cell_type": "code",
   "execution_count": null,
   "id": "bcd1abd2",
   "metadata": {},
   "outputs": [],
   "source": [
    "path_test = r\"sentence_data\"\n",
    "\n",
    "\n",
    "def sentence_chunk(input_folder, output_folder):\n",
    "    for file in os.listdir(input_folder):\n",
    "        file_path = os.path.join(input_folder, file)\n",
    "        df = pd.read_excel(file_path, usecols=[\"sentence\"])\n",
    "        chunk_s = df['sentence'].groupby(df.index // 5).agg(lambda x: x.str.cat(sep=' '))\n",
    "        chunk_df = chunk_s.to_frame(name=\"sentence\")\n",
    "        chunk_df.index.name = \"number\"\n",
    "        try:\n",
    "            chunk_df.to_excel(os.path.join(output_folder, file), index=True)\n",
    "        except Exception as e:\n",
    "            print(file, e)\n",
    "            \n",
    "\n"
   ]
  },
  {
   "cell_type": "code",
   "execution_count": null,
   "id": "97211a25",
   "metadata": {},
   "outputs": [],
   "source": [
    "input_folder = r\"sentence_data\"\n",
    "output_folder = r\"article_chunk_5\"\n",
    "\n",
    "sentence_chunk(input_folder, output_folder)"
   ]
  }
 ],
 "metadata": {
  "kernelspec": {
   "display_name": "ollama",
   "language": "python",
   "name": "python3"
  },
  "language_info": {
   "codemirror_mode": {
    "name": "ipython",
    "version": 3
   },
   "file_extension": ".py",
   "mimetype": "text/x-python",
   "name": "python",
   "nbconvert_exporter": "python",
   "pygments_lexer": "ipython3",
   "version": "3.9.21"
  }
 },
 "nbformat": 4,
 "nbformat_minor": 5
}
