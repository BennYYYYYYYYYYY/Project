{
 "cells": [
  {
   "cell_type": "code",
   "execution_count": 1,
   "id": "1d617d9e",
   "metadata": {},
   "outputs": [],
   "source": [
    "import pandas as pd\n",
    "import seaborn as sns\n",
    "import matplotlib.pyplot as plt\n",
    "import pandas as pd\n",
    "import statsmodels.api as sm\n",
    "from statsmodels.formula.api import ols\n",
    "from statsmodels.stats.multicomp import pairwise_tukeyhsd"
   ]
  },
  {
   "cell_type": "code",
   "execution_count": 2,
   "id": "cea7ab3b",
   "metadata": {},
   "outputs": [],
   "source": [
    "df_read = pd.read_excel(r\"result_readability.xlsx\")\n",
    "df_read.drop(columns=[\"number\"], inplace=True)\n",
    "\n",
    "df_ambig = pd.read_excel(r\"result_ambiguity.xlsx\")\n",
    "df_ambig.drop(columns=[\"number\"], inplace=True)\n",
    "\n",
    "df_tone = pd.read_excel(r\"sentiment_Net_Tone.xlsx\")\n",
    "\n",
    "df_power = pd.read_excel(r\"sentiment_Power.xlsx\")\n",
    "\n",
    "df_green = pd.read_excel(r\"result_greenwashing.xlsx\")\n",
    "df_green.drop(columns=[\"number\"], inplace=True)\n",
    "\n",
    "df_sub = pd.read_excel(r\"result_subjectivity.xlsx\")\n",
    "df_sub.drop(columns=[\"number\"], inplace=True)\n",
    "\n",
    "df_time = pd.read_excel(r\"result_timeliness.xlsx\")\n",
    "df_time.drop(columns=[\"number\"], inplace=True)"
   ]
  },
  {
   "cell_type": "markdown",
   "id": "f545246e",
   "metadata": {},
   "source": [
    "## 基本統計"
   ]
  },
  {
   "cell_type": "code",
   "execution_count": null,
   "id": "c88a9d45",
   "metadata": {},
   "outputs": [],
   "source": [
    "df_ambig.columns"
   ]
  },
  {
   "cell_type": "code",
   "execution_count": null,
   "id": "3d4cbb56",
   "metadata": {},
   "outputs": [],
   "source": [
    "df_ambig.query(\"`llama3.2_ambiguity` > 10 | `llama3.2_ambiguity` < 1\")"
   ]
  },
  {
   "cell_type": "code",
   "execution_count": 5,
   "id": "3770258a",
   "metadata": {},
   "outputs": [],
   "source": [
    "# df_sub.loc[73, \"llama3.2_greenwashing\"] = 10\n",
    "df_ambig.clip(lower=1, upper=10, inplace=True)"
   ]
  },
  {
   "cell_type": "code",
   "execution_count": null,
   "id": "0eedb637",
   "metadata": {},
   "outputs": [],
   "source": [
    "for model in df_ambig.columns:\n",
    "    print(df_ambig[model].describe().round(2).drop(index=[\"min\", \"max\"]), \"\\n\")"
   ]
  },
  {
   "cell_type": "markdown",
   "id": "cbc53a3c",
   "metadata": {},
   "source": [
    "## Boxplot"
   ]
  },
  {
   "cell_type": "code",
   "execution_count": 15,
   "id": "59ec01ef",
   "metadata": {},
   "outputs": [],
   "source": [
    "# DataFrame 轉成長格式（long format）\n",
    "def boxplot_run(variable_name ,df, word_to_erase):\n",
    "    df.columns = df.columns.str.replace(word_to_erase, '', regex=False)\n",
    "    df = df.rename(columns={\n",
    "        \"llama3.2\":\"LLaMA 3.2 1B\",\n",
    "        \"gemma3\":\"Gemma 3 1B\",\n",
    "        \"gpt4o\":\"ChatGPT4o\",\n",
    "        \"grok3\":\"Grok 3\",\n",
    "        \"claude\":\"Claude 3.7 Sonnet\",\n",
    "        \"deepseek\":\"DeepSeek V3\"\n",
    "    })\n",
    "    df_long = df.melt(var_name='Model', value_name='Score')\n",
    "    plt.figure(figsize=(10,6))\n",
    "    sns.boxplot(x='Model', y='Score', data=df_long)\n",
    "    plt.title(f'Boxplot of {variable_name} Scores by Model')\n",
    "    plt.xticks(rotation=45)\n",
    "    plt.show()\n"
   ]
  },
  {
   "cell_type": "code",
   "execution_count": null,
   "id": "0d61b5ba",
   "metadata": {},
   "outputs": [],
   "source": [
    "para = [\n",
    "    \"Ambiguity\",\n",
    "    df_ambig,\n",
    "    \"_ambiguity\"\n",
    "]\n",
    "\n",
    "boxplot_run(*para)"
   ]
  }
 ],
 "metadata": {
  "kernelspec": {
   "display_name": "transformer",
   "language": "python",
   "name": "python3"
  },
  "language_info": {
   "codemirror_mode": {
    "name": "ipython",
    "version": 3
   },
   "file_extension": ".py",
   "mimetype": "text/x-python",
   "name": "python",
   "nbconvert_exporter": "python",
   "pygments_lexer": "ipython3",
   "version": "3.9.21"
  }
 },
 "nbformat": 4,
 "nbformat_minor": 5
}
