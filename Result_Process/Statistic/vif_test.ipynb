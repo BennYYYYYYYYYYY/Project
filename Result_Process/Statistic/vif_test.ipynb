{
 "cells": [
  {
   "cell_type": "code",
   "execution_count": 14,
   "id": "44b8d4dd",
   "metadata": {},
   "outputs": [],
   "source": [
    "import pandas as pd\n",
    "import statsmodels.api as sm\n",
    "from statsmodels.stats.outliers_influence import variance_inflation_factor\n",
    "from tqdm.auto import tqdm"
   ]
  },
  {
   "cell_type": "code",
   "execution_count": 4,
   "id": "f1072ab7",
   "metadata": {},
   "outputs": [],
   "source": [
    "df_control = pd.read_excel(r\"control_variable_2.xlsx\")\n",
    "df_control.drop(columns=[\"nid\"], inplace=True)"
   ]
  },
  {
   "cell_type": "code",
   "execution_count": 6,
   "id": "83914775",
   "metadata": {},
   "outputs": [],
   "source": [
    "dummies_industry = pd.get_dummies(df_control[\"Industry\"], prefix=\"industry\", drop_first=True).astype(int)\n",
    "dummies_year = pd.get_dummies(df_control[\"Year\"], prefix=\"year\", drop_first=True).astype(int)"
   ]
  },
  {
   "cell_type": "code",
   "execution_count": null,
   "id": "84f3eaa9",
   "metadata": {},
   "outputs": [],
   "source": [
    "df_control.drop(columns=[\"Industry\", \"Year\"], inplace=True)\n",
    "df_control.head(1)"
   ]
  },
  {
   "cell_type": "code",
   "execution_count": null,
   "id": "5363ae1b",
   "metadata": {},
   "outputs": [],
   "source": [
    "df_car = pd.read_excel(r\"cumulated_abnormal_return.xlsx\")\n",
    "df_car.drop(columns=[\"number\", \"CAR [0,3]\", \"CAR [0,4]\"], inplace=True)\n",
    "df_car.head(1)"
   ]
  },
  {
   "cell_type": "code",
   "execution_count": null,
   "id": "385883fa",
   "metadata": {},
   "outputs": [],
   "source": [
    "df_ambiguity = pd.read_excel(r\"result_ambiguity.xlsx\")\n",
    "df_1 = df_ambiguity.drop(columns=[\"number\"])\n",
    "\n",
    "df_2 = pd.read_excel(r\"result_greenwashing.xlsx\")\n",
    "df_2 = df_2.drop(columns=[\"number\"])\n",
    "\n",
    "df_3 = pd.read_excel(r\"result_readability.xlsx\")\n",
    "df_3 = df_3.drop(columns=[\"number\"])\n",
    "\n",
    "df_4 = pd.read_excel(r\"result_subjectivity.xlsx\")\n",
    "df_4 = df_4.drop(columns=[\"number\"])\n",
    "\n",
    "df_5 = pd.read_excel(r\"result_timeliness.xlsx\")\n",
    "df_5 = df_5.drop(columns=[\"number\"])\n",
    "\n",
    "df_tone = pd.read_excel(r\"sentiment_Net_Tone.xlsx\")\n",
    "df_power = pd.read_excel(r\"sentiment_Power.xlsx\")"
   ]
  },
  {
   "cell_type": "code",
   "execution_count": null,
   "id": "815e5648",
   "metadata": {},
   "outputs": [],
   "source": [
    "control_variables_three = [\"log_Firm_size\", \"ROA_t-1\", \"market_cap\"]\n",
    "control_variables_two = [\"ROA_t-1\", \"market_cap\"]\n",
    "\n",
    "def vif_with_fix_effect(control_variables_list):\n",
    "    for df_variable in tqdm([df_1, df_2, df_3, df_4, df_5], desc=\"衝鴨!!!\"):\n",
    "        df = pd.concat([df_control, df_variable, dummies_industry, dummies_year], axis=1)\n",
    "        for model in df_variable.columns:\n",
    "            X = df[[model] + control_variables_list + list(dummies_industry.columns) + list(dummies_year.columns)]\n",
    "            X = sm.add_constant(X)\n",
    "\n",
    "            vif_data = pd.DataFrame()\n",
    "            vif_data[\"feature\"] = X.columns\n",
    "            vif_data[\"VIF\"] = [variance_inflation_factor(X.values, i) for i in range(X.shape[1])]\n",
    "\n",
    "            important_features = ['const', model] + control_variables_list\n",
    "            vif_data = vif_data[vif_data['feature'].isin(important_features)]\n",
    "\n",
    "            vif_data.to_excel(f\"VIF_Two_Control/{model}_VIF.xlsx\", index=False)"
   ]
  },
  {
   "cell_type": "code",
   "execution_count": 22,
   "id": "85f7e060",
   "metadata": {},
   "outputs": [],
   "source": [
    "def sentiment_vif_with_fix_effect(control_variables_list, df_tone, df_power):\n",
    "        df = pd.concat([df_control, df_tone, df_power, dummies_industry, dummies_year], axis=1)\n",
    "        for df_tone, df_power in tqdm(zip(df_tone, df_power)):\n",
    "            X = df[[df_tone] + [df_power] + control_variables_list + list(dummies_industry.columns) + list(dummies_year.columns)]\n",
    "            X = sm.add_constant(X)\n",
    "\n",
    "            vif_data = pd.DataFrame()\n",
    "            vif_data[\"feature\"] = X.columns\n",
    "            vif_data[\"VIF\"] = [variance_inflation_factor(X.values, i) for i in range(X.shape[1])]\n",
    "\n",
    "            important_features = ['const', df_tone, df_power] + control_variables_list\n",
    "            vif_data = vif_data[vif_data['feature'].isin(important_features)]\n",
    "\n",
    "            vif_data.to_excel(f\"VIF_Two_Control/{df_power}_VIF.xlsx\", index=False)"
   ]
  },
  {
   "cell_type": "code",
   "execution_count": null,
   "id": "eb78c22b",
   "metadata": {},
   "outputs": [],
   "source": [
    "vif_with_fix_effect(control_variables_two)"
   ]
  },
  {
   "cell_type": "code",
   "execution_count": null,
   "id": "cd1e91e1",
   "metadata": {},
   "outputs": [],
   "source": [
    "sentiment_vif_with_fix_effect(control_variables_two, df_tone, df_power)"
   ]
  }
 ],
 "metadata": {
  "kernelspec": {
   "display_name": "base",
   "language": "python",
   "name": "python3"
  },
  "language_info": {
   "codemirror_mode": {
    "name": "ipython",
    "version": 3
   },
   "file_extension": ".py",
   "mimetype": "text/x-python",
   "name": "python",
   "nbconvert_exporter": "python",
   "pygments_lexer": "ipython3",
   "version": "3.12.7"
  }
 },
 "nbformat": 4,
 "nbformat_minor": 5
}
