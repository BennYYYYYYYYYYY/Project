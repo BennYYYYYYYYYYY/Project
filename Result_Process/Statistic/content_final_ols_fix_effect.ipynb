{
 "cells": [
  {
   "cell_type": "code",
   "execution_count": 1,
   "id": "eb22b820",
   "metadata": {},
   "outputs": [],
   "source": [
    "import pandas as pd\n",
    "import statsmodels.api as sm\n",
    "from scipy import stats"
   ]
  },
  {
   "cell_type": "code",
   "execution_count": null,
   "id": "9af8fa90",
   "metadata": {},
   "outputs": [],
   "source": [
    "df_control = pd.read_excel(r\"control_variable_2.xlsx\")\n",
    "df_control.drop(columns=[\"nid\"], inplace=True)\n",
    "df_control.head(1)"
   ]
  },
  {
   "cell_type": "markdown",
   "id": "1ea68872",
   "metadata": {},
   "source": [
    "# 固定效應"
   ]
  },
  {
   "cell_type": "code",
   "execution_count": 3,
   "id": "0eaa86d9",
   "metadata": {},
   "outputs": [],
   "source": [
    "dummies_industry = pd.get_dummies(df_control[\"Industry\"], prefix=\"industry\", drop_first=True).astype(int)\n",
    "dummies_year = pd.get_dummies(df_control[\"Year\"], prefix=\"year\", drop_first=True).astype(int)\n"
   ]
  },
  {
   "cell_type": "markdown",
   "id": "1323dc6c",
   "metadata": {},
   "source": [
    "# 控制 - 固定"
   ]
  },
  {
   "cell_type": "code",
   "execution_count": null,
   "id": "307aeb25",
   "metadata": {},
   "outputs": [],
   "source": [
    "df_control.drop(columns=[\"Industry\", \"Year\"], inplace=True)\n",
    "df_control.head(1)"
   ]
  },
  {
   "cell_type": "markdown",
   "id": "38ec0e03",
   "metadata": {},
   "source": [
    "# CAR"
   ]
  },
  {
   "cell_type": "code",
   "execution_count": null,
   "id": "13ad4810",
   "metadata": {},
   "outputs": [],
   "source": [
    "df_car = pd.read_excel(r\"cumulated_abnormal_return.xlsx\", usecols=[\"CAR [0,1]\",\"CAR [0,6]\"])\n",
    "df_car = df_car * 100\n",
    "df_car.head(1)"
   ]
  },
  {
   "cell_type": "markdown",
   "id": "55130a36",
   "metadata": {},
   "source": [
    "# 各變數數據"
   ]
  },
  {
   "cell_type": "code",
   "execution_count": 7,
   "id": "5aadf438",
   "metadata": {},
   "outputs": [],
   "source": [
    "df_ambiguity = pd.read_excel(r\"result_ambiguity.xlsx\")\n",
    "df_1 = df_ambiguity.drop(columns=[\"number\"])"
   ]
  },
  {
   "cell_type": "code",
   "execution_count": 8,
   "id": "a6cdbacd",
   "metadata": {},
   "outputs": [],
   "source": [
    "df_2 = pd.read_excel(r\"result_greenwashing.xlsx\")\n",
    "df_2 = df_2.drop(columns=[\"number\"])"
   ]
  },
  {
   "cell_type": "code",
   "execution_count": 9,
   "id": "d123d954",
   "metadata": {},
   "outputs": [],
   "source": [
    "df_3 = pd.read_excel(r\"result_readability.xlsx\")\n",
    "df_3 = df_3.drop(columns=[\"number\"])"
   ]
  },
  {
   "cell_type": "code",
   "execution_count": 10,
   "id": "8deeeb9f",
   "metadata": {},
   "outputs": [],
   "source": [
    "df_4 = pd.read_excel(r\"result_subjectivity.xlsx\")\n",
    "df_4 = df_4.drop(columns=[\"number\"])"
   ]
  },
  {
   "cell_type": "code",
   "execution_count": 11,
   "id": "dfcf55e3",
   "metadata": {},
   "outputs": [],
   "source": [
    "df_5 = pd.read_excel(r\"result_timeliness.xlsx\")\n",
    "df_5 = df_5.drop(columns=[\"number\"])"
   ]
  },
  {
   "cell_type": "markdown",
   "id": "bfe0b206",
   "metadata": {},
   "source": [
    "# Content CAR "
   ]
  },
  {
   "cell_type": "code",
   "execution_count": null,
   "id": "e7b73e84",
   "metadata": {},
   "outputs": [],
   "source": [
    "def get_variable_statistic_outcome(dummies_industry, dummies_year, df_model, df_control, df_car):\n",
    "    all_statistic_list = []\n",
    "    df = pd.concat([df_model, df_control, dummies_industry, dummies_year], axis=1)\n",
    "    # Genrative Model\n",
    "    for model_use in df_model.columns:\n",
    "        # CAR Windeow\n",
    "        for car in df_car.columns:\n",
    "            Y = df_car[car]\n",
    "            control_variables = [\"ROA_t-1\", \"market_cap\"]\n",
    "            X = df[[model_use] + control_variables + list(dummies_industry.columns) + list(dummies_year.columns)]\n",
    "            X = sm.add_constant(X)\n",
    "            result = sm.OLS(Y, X).fit()\n",
    "\n",
    "            # print(result.summary())\n",
    "\n",
    "            # Coef \n",
    "            coef_list_for_row_1 = [\"Coef\", model_use, car]\n",
    "            for var in [model_use, \"const\", \"ROA_t-1\", \"market_cap\"]:\n",
    "                coef_for_each_variable = str(round(result.params[var], 3))\n",
    "                p_value = round(result.pvalues[var], 3)\n",
    "\n",
    "                if p_value < 0.01:\n",
    "                    coef_for_each_variable += \"***\"\n",
    "                elif p_value < 0.05:\n",
    "                    coef_for_each_variable += \"**\"\n",
    "                elif p_value < 0.1:\n",
    "                    coef_for_each_variable += \"*\"\n",
    "                else:\n",
    "                    pass  \n",
    "\n",
    "                coef_list_for_row_1.append(coef_for_each_variable)\n",
    "\n",
    "\n",
    "\n",
    "            # Std.ERROR\n",
    "            std_error_list_for_row_3 = [\"Std_Error\", model_use, car]\n",
    "            for var in [model_use, \"const\", \"ROA_t-1\", \"market_cap\"]:\n",
    "                std_error = round(result.bse[var], 3)\n",
    "                std_error_list_for_row_3.append(std_error)\n",
    "                \n",
    "\n",
    "            \n",
    "            # Adjusted R-square\n",
    "            adj_r2_list_for_row_4 = [\"Adj_R2\", model_use, car]\n",
    "            for _ in range(3):\n",
    "                adjusted_r2 = round(result.rsquared_adj, 3)\n",
    "                adj_r2_list_for_row_4.append(adjusted_r2)\n",
    "\n",
    "\n",
    "            # Put all data in list\n",
    "            all_statistic_list.append(coef_list_for_row_1)\n",
    "            # all_statistic_list.append(t_test_list_for_row_2)\n",
    "            all_statistic_list.append(std_error_list_for_row_3)\n",
    "            all_statistic_list.append(adj_r2_list_for_row_4)\n",
    "\n",
    "\n",
    "    df = pd.DataFrame(all_statistic_list, columns=[\"Metric\" ,\"Model\", \"CAR\", \"Text_variable\", \"Const\",\"ROA_t-1\", \"market_cap\"])\n",
    "    return df\n",
    "            "
   ]
  },
  {
   "cell_type": "markdown",
   "id": "1dc852f9",
   "metadata": {},
   "source": [
    "---"
   ]
  },
  {
   "cell_type": "markdown",
   "id": "cc021781",
   "metadata": {},
   "source": [
    "# Sentiment \n"
   ]
  },
  {
   "cell_type": "code",
   "execution_count": null,
   "id": "22ee2a97",
   "metadata": {},
   "outputs": [],
   "source": [
    "# Sentiment\n",
    "df_tone = pd.read_excel(r\"sentiment_Net_Tone.xlsx\")\n",
    "df_power = pd.read_excel(r\"sentiment_Power.xlsx\")"
   ]
  },
  {
   "cell_type": "code",
   "execution_count": null,
   "id": "91721cee",
   "metadata": {},
   "outputs": [],
   "source": [
    "def sentiment_get_variable_statistic_outcome(dummies_industry, dummies_year, df_tone, df_power, df_control, df_car):\n",
    "    all_statistic_list = []\n",
    "    df = pd.concat([df_tone, df_power, df_control, dummies_industry, dummies_year], axis=1)\n",
    "    # Genrative Model\n",
    "    for model_tone, model_power in zip(df_tone.columns, df_power.columns):\n",
    "        # CAR Windeow\n",
    "        for car in df_car.columns:\n",
    "            Y = df_car[car]\n",
    "            control_variables = [\"ROA_t-1\", \"market_cap\"]\n",
    "            X = df[[model_tone] + [model_power] + control_variables + list(dummies_industry.columns) + list(dummies_year.columns)]\n",
    "            X = sm.add_constant(X)\n",
    "            result = sm.OLS(Y, X).fit()\n",
    "\n",
    "            # Coef \n",
    "            coef_list_for_row_1 = [\"Coef\", model_power, car]\n",
    "            for var in [model_tone, model_power, \"const\", \"ROA_t-1\", \"market_cap\"]:\n",
    "                coef_for_each_variable = str(round(result.params[var], 3))\n",
    "                p_value = round(result.pvalues[var], 3)\n",
    "\n",
    "                if p_value < 0.01:\n",
    "                    coef_for_each_variable += \"***\"\n",
    "                elif p_value < 0.05:\n",
    "                    coef_for_each_variable += \"**\"\n",
    "                elif p_value < 0.1:\n",
    "                    coef_for_each_variable += \"*\"\n",
    "                else:\n",
    "                    pass  \n",
    "\n",
    "                coef_list_for_row_1.append(coef_for_each_variable)\n",
    "\n",
    "            # Std.ERROR\n",
    "            std_error_list_for_row_3 = [\"Std_Error\", model_power, car]\n",
    "            for var in [model_tone, model_power, \"const\", \"ROA_t-1\", \"market_cap\"]:\n",
    "                std_error = round(result.bse[var], 3)\n",
    "                std_error_list_for_row_3.append(std_error)\n",
    "                \n",
    "            # Adjusted R-square\n",
    "            adj_r2_list_for_row_4 = [\"Adj_R2\", model_power, car]\n",
    "            for _ in range(3):\n",
    "                adjusted_r2 = round(result.rsquared_adj, 3)\n",
    "                adj_r2_list_for_row_4.append(adjusted_r2)\n",
    "\n",
    "            # Put all data in list\n",
    "            all_statistic_list.append(coef_list_for_row_1)\n",
    "            # all_statistic_list.append(t_test_list_for_row_2)\n",
    "            all_statistic_list.append(std_error_list_for_row_3)\n",
    "            all_statistic_list.append(adj_r2_list_for_row_4)\n",
    "\n",
    "    df = pd.DataFrame(all_statistic_list, columns=[\"Metric\" ,\"Model\", \"CAR\", \"Net_Tone\", \"Sentiment_Power\", \"Const\", \"ROA_t-1\", \"market_cap\"])\n",
    "    return df\n",
    "            "
   ]
  },
  {
   "cell_type": "markdown",
   "id": "b9f8cde5",
   "metadata": {},
   "source": [
    "# Bi-LSTM "
   ]
  },
  {
   "cell_type": "code",
   "execution_count": null,
   "id": "962f3776",
   "metadata": {},
   "outputs": [],
   "source": [
    "df = get_variable_statistic_outcome(dummies_industry, dummies_year, df_tone, df_control, df_car)\n",
    "df.to_excel(\"Bi-LSTM_1.xlsx\", index=False)"
   ]
  },
  {
   "cell_type": "code",
   "execution_count": null,
   "id": "2fec4003",
   "metadata": {},
   "outputs": [],
   "source": [
    "df = get_variable_statistic_outcome(dummies_industry, dummies_year, df_power, df_control, df_car)\n",
    "df.to_excel(\"Bi_LSTM_2.xlsx\", index=False)"
   ]
  }
 ],
 "metadata": {
  "kernelspec": {
   "display_name": "transformer",
   "language": "python",
   "name": "python3"
  },
  "language_info": {
   "codemirror_mode": {
    "name": "ipython",
    "version": 3
   },
   "file_extension": ".py",
   "mimetype": "text/x-python",
   "name": "python",
   "nbconvert_exporter": "python",
   "pygments_lexer": "ipython3",
   "version": "3.9.21"
  }
 },
 "nbformat": 4,
 "nbformat_minor": 5
}
