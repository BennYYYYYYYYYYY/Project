{
 "cells": [
  {
   "cell_type": "code",
   "execution_count": 4,
   "id": "e0db1992",
   "metadata": {},
   "outputs": [],
   "source": [
    "import pandas as pd\n",
    "from scipy.stats import wilcoxon"
   ]
  },
  {
   "cell_type": "code",
   "execution_count": null,
   "id": "1df9dea4",
   "metadata": {},
   "outputs": [],
   "source": [
    "df = pd.read_excel(r\"CAR.xlsx\")\n",
    "df"
   ]
  },
  {
   "cell_type": "code",
   "execution_count": null,
   "id": "28d7b99c",
   "metadata": {},
   "outputs": [],
   "source": [
    "for car in df.columns:\n",
    "    car_values = df[car]\n",
    "    statistic, p_value = wilcoxon(car_values)\n",
    "    if p_value < 0.05:\n",
    "        p_value = str(round(p_value, 3))+\"***\"\n",
    "    else:\n",
    "        pass   \n",
    "    print(f\"{car}:{p_value}\")"
   ]
  }
 ],
 "metadata": {
  "kernelspec": {
   "display_name": "transformer",
   "language": "python",
   "name": "python3"
  },
  "language_info": {
   "codemirror_mode": {
    "name": "ipython",
    "version": 3
   },
   "file_extension": ".py",
   "mimetype": "text/x-python",
   "name": "python",
   "nbconvert_exporter": "python",
   "pygments_lexer": "ipython3",
   "version": "3.9.21"
  }
 },
 "nbformat": 4,
 "nbformat_minor": 5
}
