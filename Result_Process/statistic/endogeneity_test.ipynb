{
 "cells": [
  {
   "cell_type": "code",
   "execution_count": 1,
   "id": "29791392",
   "metadata": {},
   "outputs": [],
   "source": [
    "import statsmodels.api as sm\n",
    "import pandas as pd"
   ]
  },
  {
   "cell_type": "code",
   "execution_count": null,
   "id": "c7720ac3",
   "metadata": {},
   "outputs": [],
   "source": [
    "df_1 = pd.read_excel(r\"iv_data.xlsx\", usecols=[\"log_content length\"])\n",
    "df_2 = pd.read_excel(r\"control_variable.xlsx\")\n",
    "df_2.drop(columns=[\"nid\"], inplace=True)\n",
    "df = pd.concat([df_1, df_2], axis=1)\n",
    "df.head(1)"
   ]
  },
  {
   "cell_type": "code",
   "execution_count": 3,
   "id": "2a05c51a",
   "metadata": {},
   "outputs": [],
   "source": [
    "df_1 = pd.read_excel(r\"result_ambiguity.xlsx\")\n",
    "df_1.drop(columns=[\"number\"], inplace=True)\n",
    "\n",
    "df_2 = pd.read_excel(r\"result_greenwashing.xlsx\")\n",
    "df_2.drop(columns=[\"number\"], inplace=True)\n",
    "\n",
    "df_3 = pd.read_excel(r\"result_readability.xlsx\")\n",
    "df_3.drop(columns=[\"number\"], inplace=True)\n",
    "\n",
    "df_4 = pd.read_excel(r\"result_subjectivity.xlsx\")\n",
    "df_4.drop(columns=[\"number\"], inplace=True)\n",
    "\n",
    "df_5 = pd.read_excel(r\"result_timeliness.xlsx\")\n",
    "df_5.drop(columns=[\"number\"], inplace=True)"
   ]
  },
  {
   "cell_type": "markdown",
   "id": "0af93970",
   "metadata": {},
   "source": [
    "# 1. Predict Variable by IV"
   ]
  },
  {
   "cell_type": "code",
   "execution_count": null,
   "id": "59a16bb3",
   "metadata": {},
   "outputs": [],
   "source": [
    "X = df[[df.columns[0], df.columns[1], df.columns[2], df.columns[3]]]\n",
    "X = sm.add_constant(X)"
   ]
  },
  {
   "cell_type": "code",
   "execution_count": null,
   "id": "3675c64c",
   "metadata": {},
   "outputs": [],
   "source": [
    "result = {}\n",
    "for model in df_5.columns:\n",
    "    Y = df_5[model]\n",
    "    first_stage = sm.OLS(Y, X).fit()\n",
    "    result[model] = first_stage.resid.tolist()\n"
   ]
  },
  {
   "cell_type": "code",
   "execution_count": null,
   "id": "45fff432",
   "metadata": {},
   "outputs": [],
   "source": [
    "df_resident = pd.DataFrame(result)\n",
    "df_resident.head(1)"
   ]
  },
  {
   "cell_type": "markdown",
   "id": "b817d30a",
   "metadata": {},
   "source": [
    "# 2. Outcome Model 加上 residual"
   ]
  },
  {
   "cell_type": "code",
   "execution_count": null,
   "id": "7086e93a",
   "metadata": {},
   "outputs": [],
   "source": [
    "df_car = pd.read_excel(r\"cumulated_abnormal_return.xlsx\")\n",
    "df_car.drop(columns=[\"number\", \"CAR [0,3]\", \"CAR [0,4]\"], inplace=True)\n",
    "df_car.head(1)"
   ]
  },
  {
   "cell_type": "code",
   "execution_count": null,
   "id": "68cdd929",
   "metadata": {},
   "outputs": [],
   "source": [
    "def endogeneity_test(df, df_car, df_resident):\n",
    "    result = {}\n",
    "    df_use = pd.concat([df, df_resident], axis=1)\n",
    "    for model in df_use.columns[4:]:\n",
    "        X2 = df_use[[df_use.columns[1], df_use.columns[2], df_use.columns[3], model]]\n",
    "        X2 = sm.add_constant(X2)\n",
    "        each_model_result = []\n",
    "        for car in df_car.columns:\n",
    "            Y2 = df_car[car]\n",
    "            second_stage = sm.OLS(Y2, X2).fit()\n",
    "            resident_pvalue = second_stage.pvalues[model] \n",
    "            if resident_pvalue < 0.05:\n",
    "                resident_pvalue = str(round(resident_pvalue, 4))+\"***\"\n",
    "            else:\n",
    "                resident_pvalue = round(resident_pvalue, 4)\n",
    "            each_model_result.append(resident_pvalue)\n",
    "        \n",
    "        result[model] = each_model_result\n",
    "    \n",
    "    df_endogeneity = pd.DataFrame(result)\n",
    "    df_endogeneity.to_excel(f\"{model}_endogeneity.xlsx\", index=False)"
   ]
  },
  {
   "cell_type": "code",
   "execution_count": 25,
   "id": "06f5c13c",
   "metadata": {},
   "outputs": [],
   "source": [
    "endogeneity_test(df, df_car, df_resident)"
   ]
  }
 ],
 "metadata": {
  "kernelspec": {
   "display_name": "base",
   "language": "python",
   "name": "python3"
  },
  "language_info": {
   "codemirror_mode": {
    "name": "ipython",
    "version": 3
   },
   "file_extension": ".py",
   "mimetype": "text/x-python",
   "name": "python",
   "nbconvert_exporter": "python",
   "pygments_lexer": "ipython3",
   "version": "3.11.5"
  }
 },
 "nbformat": 4,
 "nbformat_minor": 5
}
