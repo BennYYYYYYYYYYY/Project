{
 "cells": [
  {
   "cell_type": "code",
   "execution_count": 1,
   "id": "def82154",
   "metadata": {},
   "outputs": [],
   "source": [
    "import pandas as pd\n",
    "import statsmodels.api as sm\n",
    "\n",
    "from scipy import stats"
   ]
  },
  {
   "cell_type": "code",
   "execution_count": null,
   "id": "c4a5aa92",
   "metadata": {},
   "outputs": [],
   "source": [
    "df_car = pd.read_excel(r\"CAR.xlsx\")\n",
    "df_car = df_car * 100\n",
    "df_car.head(1)"
   ]
  },
  {
   "cell_type": "code",
   "execution_count": null,
   "id": "d45cc32e",
   "metadata": {},
   "outputs": [],
   "source": [
    "car_test_dic = {}\n",
    "\n",
    "for car in df_car.columns:\n",
    "    t_test, p_value = stats.ttest_1samp(df_car[car], 0)\n",
    "    p_value = round(p_value, 3)\n",
    "    mean = round(df_car[car].mean(), 5)\n",
    "    st_error = round((mean / t_test), 5)\n",
    "    t_test = str(round(t_test, 3))\n",
    "    n = len(df_car[car])\n",
    "    \n",
    "\n",
    "    if p_value < 0.01:\n",
    "        t_test += \"***\"\n",
    "    elif p_value < 0.05:\n",
    "        t_test += \"**\"\n",
    "    elif p_value < 0.1:\n",
    "        t_test += \"*\"\n",
    "    else:\n",
    "        pass\n",
    "\n",
    "    car_test_dic[car] = [n, mean, st_error, t_test, p_value]\n",
    "\n",
    "\n",
    "df = pd.DataFrame(car_test_dic)\n",
    "df_t = df.T\n",
    "\n",
    "df_car_test_outcome = df_t.rename(columns={\n",
    "    0:\"N\",\n",
    "    1:\"Mean CAR\",\n",
    "    2:\"Std. Error\",\n",
    "    3:\"t-stat\",\n",
    "    4:\"p-value\"\n",
    "})\n",
    "\n",
    "df_car_test_outcome.index.name = \"CAR Window\"\n",
    "df_car_test_outcome\n",
    "\n",
    "df_car_test_outcome.to_excel(\"car_sig.xlsx\", index=True)"
   ]
  }
 ],
 "metadata": {
  "kernelspec": {
   "display_name": "transformer",
   "language": "python",
   "name": "python3"
  },
  "language_info": {
   "codemirror_mode": {
    "name": "ipython",
    "version": 3
   },
   "file_extension": ".py",
   "mimetype": "text/x-python",
   "name": "python",
   "nbconvert_exporter": "python",
   "pygments_lexer": "ipython3",
   "version": "3.9.21"
  }
 },
 "nbformat": 4,
 "nbformat_minor": 5
}
