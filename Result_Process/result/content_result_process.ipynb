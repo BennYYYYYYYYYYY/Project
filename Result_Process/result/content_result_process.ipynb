{
 "cells": [
  {
   "cell_type": "code",
   "execution_count": 1,
   "id": "ffcc7881",
   "metadata": {},
   "outputs": [],
   "source": [
    "import pandas as pd\n",
    "import os"
   ]
  },
  {
   "cell_type": "code",
   "execution_count": null,
   "id": "c775e2fc",
   "metadata": {},
   "outputs": [],
   "source": [
    "data_folder = r\"article_chunk_10\""
   ]
  },
  {
   "cell_type": "code",
   "execution_count": null,
   "id": "f7b711fa",
   "metadata": {},
   "outputs": [],
   "source": [
    "def aggregate_result(input_folder):\n",
    "    outcome_mean_series_list = []\n",
    "    for filename in os.listdir(input_folder):\n",
    "        file_excel = os.path.join(input_folder, filename)\n",
    "        df = pd.read_excel(file_excel)\n",
    "        s = df.mean(axis=0, numeric_only=True)\n",
    "        outcome_mean_series_list.append(s)\n",
    "    df_row = pd.DataFrame(outcome_mean_series_list)\n",
    "    df = df_row.round(2)\n",
    "    return df"
   ]
  },
  {
   "cell_type": "code",
   "execution_count": null,
   "id": "a723f3ee",
   "metadata": {},
   "outputs": [],
   "source": [
    "df = aggregate_result(data_folder)"
   ]
  },
  {
   "cell_type": "code",
   "execution_count": null,
   "id": "c1a65f2d",
   "metadata": {},
   "outputs": [],
   "source": [
    "df.drop(columns=[\"number\"], inplace=True)"
   ]
  },
  {
   "cell_type": "code",
   "execution_count": 41,
   "id": "0d5e6167",
   "metadata": {},
   "outputs": [],
   "source": [
    "df[\"number\"] = df.index + 1"
   ]
  },
  {
   "cell_type": "code",
   "execution_count": 55,
   "id": "28f900b0",
   "metadata": {},
   "outputs": [],
   "source": [
    "df = df.set_index(\"number\")"
   ]
  },
  {
   "cell_type": "code",
   "execution_count": null,
   "id": "3c9543a8",
   "metadata": {},
   "outputs": [],
   "source": [
    "variable_list = [\"readability\", \"subjectivity\", \"greenwashing\", \"ambiguity\", \"timeliness\"]\n",
    "\n",
    "for varable in variable_list:\n",
    "    df_variable = df.filter(like=varable)\n",
    "    df_variable.to_excel(f\"result_{varable}.xlsx\") "
   ]
  }
 ],
 "metadata": {
  "kernelspec": {
   "display_name": "transformer",
   "language": "python",
   "name": "python3"
  },
  "language_info": {
   "codemirror_mode": {
    "name": "ipython",
    "version": 3
   },
   "file_extension": ".py",
   "mimetype": "text/x-python",
   "name": "python",
   "nbconvert_exporter": "python",
   "pygments_lexer": "ipython3",
   "version": "3.9.21"
  }
 },
 "nbformat": 4,
 "nbformat_minor": 5
}
