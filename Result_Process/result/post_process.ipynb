{
 "cells": [
  {
   "cell_type": "code",
   "execution_count": 1,
   "id": "95b325ca",
   "metadata": {},
   "outputs": [],
   "source": [
    "import pandas as pd\n",
    "import os"
   ]
  },
  {
   "cell_type": "code",
   "execution_count": null,
   "id": "0c7c52ac",
   "metadata": {},
   "outputs": [],
   "source": [
    "def post_process(input_rowdata_folder, output_sentiment_folder, output_esg_folder):\n",
    "    for filename in os.listdir(input_rowdata_folder):\n",
    "        if filename.endswith(\".xlsx\"):\n",
    "            file_path = os.path.join(input_rowdata_folder, filename)\n",
    "            df_row = pd.read_excel(file_path)\n",
    "            df =df_row.drop(columns=[\"researcher_sentiment\", \"gemma3_sentiment\", \"gemma3_ESG\"])\n",
    "            df_cleaned = df.rename(columns={\n",
    "                \"gpt_sentiment\":\"gpt_cot_sentiment\",\n",
    "                \"gpt_ESG\":\"gpt_cot_ESG\",\n",
    "                \"grok_sentiment\":\"grok_cot_sentiment\",\n",
    "                \"grok_ESG\":\"grok_cot_ESG\"\n",
    "            })\n",
    "\n",
    "            df_sentiment = df_cleaned.filter(like=\"sentiment\", axis=1)\n",
    "            df_esg = df_cleaned.filter(like=\"ESG\", axis=1)\n",
    "\n",
    "            try:\n",
    "                df_sentiment.to_excel(os.path.join(output_sentiment_folder, filename), index=False)\n",
    "                df_esg.to_excel(os.path.join(output_esg_folder, filename), index=False)\n",
    "            except Exception as e:\n",
    "                print('問題：',filename, e)"
   ]
  },
  {
   "cell_type": "code",
   "execution_count": null,
   "id": "f1380070",
   "metadata": {},
   "outputs": [],
   "source": [
    "input_data_folder = r\"sentence_data\"\n",
    "output_sentiment_folder = r\"sentiment\"\n",
    "output_esg_folder = r\"esg\"\n",
    "\n",
    "post_process(input_data_folder, output_sentiment_folder, output_esg_folder)"
   ]
  },
  {
   "cell_type": "code",
   "execution_count": null,
   "id": "b4777e2d",
   "metadata": {},
   "outputs": [],
   "source": [
    "def post_merge_check(folder_new, folder_old):\n",
    "    for file_new, file_old in zip(os.listdir(folder_new), os.listdir(folder_old)):\n",
    "        excel_new = os.path.join(folder_new, file_new)\n",
    "        excel_old = os.path.join(folder_old, file_old)\n",
    "        df_new = pd.read_excel(excel_new)\n",
    "        df_old = pd.read_excel(excel_old)\n",
    "        if len(df_new) == len(df_old):\n",
    "            pass\n",
    "        else:\n",
    "            print(file_new)"
   ]
  },
  {
   "cell_type": "code",
   "execution_count": null,
   "id": "8bfe27a8",
   "metadata": {},
   "outputs": [],
   "source": [
    "folder_new = r\"sentiment\"\n",
    "folder_old = r\"DL_sentiment_result\"\n",
    "x = (folder_new, folder_old)\n",
    "\n",
    "post_merge_check(folder_new, folder_old)"
   ]
  },
  {
   "cell_type": "code",
   "execution_count": null,
   "id": "8e3847e4",
   "metadata": {},
   "outputs": [],
   "source": [
    "def merge_data(folder_new, folder_old, output_folder):\n",
    "    for file_new, file_old in zip(os.listdir(folder_new), os.listdir(folder_old)):\n",
    "        excel_new = os.path.join(folder_new, file_new)\n",
    "        excel_old = os.path.join(folder_old, file_old)\n",
    "        df_new = pd.read_excel(excel_new)\n",
    "        df_old = pd.read_excel(excel_old, usecols=['number', 'sentence', 'final label'])\n",
    "        df_old.rename(columns={\"final label\":\"researcher_sentiment\"}, inplace=True)\n",
    "        df_merge = pd.concat([df_old, df_new], axis=1)\n",
    "        df_merge.to_excel(os.path.join(output_folder, file_new), index=False)\n",
    "    print(\"Done\")"
   ]
  },
  {
   "cell_type": "code",
   "execution_count": null,
   "id": "5ada22db",
   "metadata": {},
   "outputs": [],
   "source": [
    "folder_new = r\"sentiment\"\n",
    "folder_old = r\"DL_sentiment_result\"\n",
    "output_folder_sentiment = r\"Sentiment_result\"\n",
    "\n",
    "x = (folder_new, folder_old, output_folder_sentiment)\n",
    "\n",
    "merge_data(*x)"
   ]
  },
  {
   "cell_type": "code",
   "execution_count": null,
   "id": "81828df8",
   "metadata": {},
   "outputs": [],
   "source": [
    "def merge_data_2(folder_new, folder_old, output_folder):\n",
    "    for file_new, file_old in zip(os.listdir(folder_new), os.listdir(folder_old)):\n",
    "        excel_new = os.path.join(folder_new, file_new)\n",
    "        excel_old = os.path.join(folder_old, file_old)\n",
    "        df_new = pd.read_excel(excel_new)\n",
    "        df_old = pd.read_excel(excel_old, usecols=['number', 'sentence'])\n",
    "        df_old.rename(columns={\"final label\":\"researcher_sentiment\"}, inplace=True)\n",
    "        df_merge = pd.concat([df_old, df_new], axis=1)\n",
    "        df_merge.to_excel(os.path.join(output_folder, file_new), index=False)\n",
    "    print(\"Done\")"
   ]
  },
  {
   "cell_type": "code",
   "execution_count": null,
   "id": "5c86bef4",
   "metadata": {},
   "outputs": [],
   "source": [
    "folder_1 = r\"esg\"\n",
    "folder_2 = r\"DL_sentiment_result\"\n",
    "folder_3 = r\"ESG_result\"\n",
    "\n",
    "y = (folder_1, folder_2, folder_3)\n",
    "merge_data_2(*y)"
   ]
  }
 ],
 "metadata": {
  "kernelspec": {
   "display_name": "transformer",
   "language": "python",
   "name": "python3"
  },
  "language_info": {
   "codemirror_mode": {
    "name": "ipython",
    "version": 3
   },
   "file_extension": ".py",
   "mimetype": "text/x-python",
   "name": "python",
   "nbconvert_exporter": "python",
   "pygments_lexer": "ipython3",
   "version": "3.9.21"
  }
 },
 "nbformat": 4,
 "nbformat_minor": 5
}
