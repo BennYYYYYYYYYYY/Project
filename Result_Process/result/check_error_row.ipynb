{
 "cells": [
  {
   "cell_type": "code",
   "execution_count": 2,
   "id": "44edc355",
   "metadata": {},
   "outputs": [],
   "source": [
    "import pandas as pd\n",
    "import os"
   ]
  },
  {
   "cell_type": "code",
   "execution_count": 12,
   "id": "3fb4f771",
   "metadata": {},
   "outputs": [],
   "source": [
    "def check_error(input_rowdata_folder):\n",
    "    rerun_set = set()\n",
    "    for filename in os.listdir(input_rowdata_folder):\n",
    "        if filename.endswith(\".xlsx\"):\n",
    "            file_path = os.path.join(input_rowdata_folder, filename)\n",
    "            df = pd.read_excel(file_path)\n",
    "            for column in df.columns:\n",
    "                if df[column].astype(str).str.contains(\"ERROR\").any():\n",
    "                    rerun_set.add(filename) \n",
    "    return rerun_set"
   ]
  },
  {
   "cell_type": "code",
   "execution_count": null,
   "id": "7d2648fe",
   "metadata": {},
   "outputs": [],
   "source": [
    "re_run_name_set = check_error(r\"sentence_data\")"
   ]
  },
  {
   "cell_type": "code",
   "execution_count": 30,
   "id": "59e9cd81",
   "metadata": {},
   "outputs": [],
   "source": [
    "re_run_list = list(re_run_name_set)"
   ]
  },
  {
   "cell_type": "code",
   "execution_count": null,
   "id": "736f9b71",
   "metadata": {},
   "outputs": [],
   "source": [
    "import re\n",
    "\n",
    "new_list = [int(re.sub(r\"\\.xlsx$\", \"\", i)) for i in re_run_list]\n",
    "new_list.sort()\n",
    "print(new_list)"
   ]
  }
 ],
 "metadata": {
  "kernelspec": {
   "display_name": "transformer",
   "language": "python",
   "name": "python3"
  },
  "language_info": {
   "codemirror_mode": {
    "name": "ipython",
    "version": 3
   },
   "file_extension": ".py",
   "mimetype": "text/x-python",
   "name": "python",
   "nbconvert_exporter": "python",
   "pygments_lexer": "ipython3",
   "version": "3.9.21"
  }
 },
 "nbformat": 4,
 "nbformat_minor": 5
}
