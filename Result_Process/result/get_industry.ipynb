{
 "cells": [
  {
   "cell_type": "code",
   "execution_count": 1,
   "id": "19985f9e",
   "metadata": {},
   "outputs": [],
   "source": [
    "import yfinance as yf\n",
    "import pandas as pd"
   ]
  },
  {
   "cell_type": "code",
   "execution_count": 2,
   "id": "7a16cb4c",
   "metadata": {},
   "outputs": [],
   "source": [
    "def get_company_industry(ticker):\n",
    "    ticker = yf.Ticker(ticker)\n",
    "    info = ticker.info\n",
    "    industry = info.get('industry', 'N/A')       \n",
    "    return industry"
   ]
  },
  {
   "cell_type": "code",
   "execution_count": null,
   "id": "339d1a11",
   "metadata": {},
   "outputs": [],
   "source": [
    "df = pd.read_excel(r\"control_variable.xlsx\")"
   ]
  },
  {
   "cell_type": "code",
   "execution_count": null,
   "id": "69bd29d6",
   "metadata": {},
   "outputs": [],
   "source": [
    "industry_list = []\n",
    "for each_ticker in df[\"Ticker\"]:\n",
    "    industry = get_company_industry(each_ticker)\n",
    "    industry_list.append(industry)"
   ]
  },
  {
   "cell_type": "code",
   "execution_count": 10,
   "id": "b3dc9aac",
   "metadata": {},
   "outputs": [],
   "source": [
    "df[\"Industry\"] = industry_list"
   ]
  },
  {
   "cell_type": "code",
   "execution_count": null,
   "id": "c69be343",
   "metadata": {},
   "outputs": [],
   "source": [
    "len(df[\"Industry\"].value_counts())"
   ]
  },
  {
   "cell_type": "code",
   "execution_count": null,
   "id": "edf26f3e",
   "metadata": {},
   "outputs": [],
   "source": [
    "df.drop(columns=[\"Ticker\"], inplace=True)"
   ]
  },
  {
   "cell_type": "code",
   "execution_count": null,
   "id": "716532e2",
   "metadata": {},
   "outputs": [],
   "source": [
    "df.to_excel(\"control_variable_2.xlsx\", index=False)"
   ]
  }
 ],
 "metadata": {
  "kernelspec": {
   "display_name": "base",
   "language": "python",
   "name": "python3"
  },
  "language_info": {
   "codemirror_mode": {
    "name": "ipython",
    "version": 3
   },
   "file_extension": ".py",
   "mimetype": "text/x-python",
   "name": "python",
   "nbconvert_exporter": "python",
   "pygments_lexer": "ipython3",
   "version": "3.11.5"
  }
 },
 "nbformat": 4,
 "nbformat_minor": 5
}
