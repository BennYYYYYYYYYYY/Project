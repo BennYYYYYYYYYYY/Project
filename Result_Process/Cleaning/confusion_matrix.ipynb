{
 "cells": [
  {
   "cell_type": "code",
   "execution_count": 2,
   "id": "969d4408",
   "metadata": {},
   "outputs": [],
   "source": [
    "import pandas as pd\n",
    "from sklearn.metrics import confusion_matrix"
   ]
  },
  {
   "cell_type": "code",
   "execution_count": null,
   "id": "2992083d",
   "metadata": {},
   "outputs": [],
   "source": [
    "df = pd.read_excel(r\"Sentiment_Metric.xlsx\")\n",
    "df.info()"
   ]
  },
  {
   "cell_type": "code",
   "execution_count": null,
   "id": "6234e78d",
   "metadata": {},
   "outputs": [],
   "source": [
    "for model in df.columns[1:]:\n",
    "    y_true = df[\"researcher_sentiment\"]\n",
    "    y_pred = df[model]\n",
    "    cm = confusion_matrix(y_true, y_pred, labels=[1,0,2])\n",
    "    cm_transposed = cm.T\n",
    "    print(model,\"\\n\", cm_transposed, \"\\n\", \"row_total\",[int(cm_transposed[i].sum()) for i in range(3)], \"\\n\", \"中間機率\",[float(round(cm_transposed[i][i] / (cm_transposed[0][i] + cm_transposed[1][i] + cm_transposed[2][i]), 3)) for i in range(3)], \"\\n\")"
   ]
  },
  {
   "cell_type": "code",
   "execution_count": null,
   "id": "1d9cb059",
   "metadata": {},
   "outputs": [],
   "source": [
    "df = pd.read_excel(r\"ESG_Metric.xlsx\")\n",
    "df.info()"
   ]
  },
  {
   "cell_type": "code",
   "execution_count": null,
   "id": "7e3cec3a",
   "metadata": {},
   "outputs": [],
   "source": [
    "for model in df.columns[1:]:\n",
    "    y_true = df[\"researcher_ESG\"]\n",
    "    y_pred = df[model]\n",
    "    cm = confusion_matrix(y_true, y_pred, labels=[1,2,3,0])\n",
    "    cm_transposed = cm.T\n",
    "    print(model,\"\\n\", \n",
    "            cm_transposed, \"\\n\", \n",
    "            \"row_total\",[int(cm_transposed[i].sum()) for i in range(4)], \"\\n\",\n",
    "            \"中間機率\",[float(round(cm_transposed[i][i] / (cm_transposed[0][i] + cm_transposed[1][i] + cm_transposed[2][i] + cm_transposed[3][i]), 3)) for i in range(4)], \"\\n\")\n"
   ]
  }
 ],
 "metadata": {
  "kernelspec": {
   "display_name": "transformer",
   "language": "python",
   "name": "python3"
  },
  "language_info": {
   "codemirror_mode": {
    "name": "ipython",
    "version": 3
   },
   "file_extension": ".py",
   "mimetype": "text/x-python",
   "name": "python",
   "nbconvert_exporter": "python",
   "pygments_lexer": "ipython3",
   "version": "3.9.21"
  }
 },
 "nbformat": 4,
 "nbformat_minor": 5
}
