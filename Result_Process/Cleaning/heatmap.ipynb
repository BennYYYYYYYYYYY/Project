{
 "cells": [
  {
   "cell_type": "code",
   "execution_count": 1,
   "id": "424a3b2f",
   "metadata": {},
   "outputs": [],
   "source": [
    "import pandas as pd\n",
    "import matplotlib.pyplot as plt\n",
    "import seaborn as sns"
   ]
  },
  {
   "cell_type": "code",
   "execution_count": 4,
   "id": "d2f2a7de",
   "metadata": {},
   "outputs": [],
   "source": [
    "df = pd.read_excel(r\"Heatmap.xlsx\")\n",
    "df.index = df[\"Model\"]"
   ]
  },
  {
   "cell_type": "code",
   "execution_count": 7,
   "id": "3be981f4",
   "metadata": {},
   "outputs": [],
   "source": [
    "df = df.drop(columns=[\"Model\"])"
   ]
  },
  {
   "cell_type": "code",
   "execution_count": null,
   "id": "87d0ef36",
   "metadata": {},
   "outputs": [],
   "source": [
    "plt.figure(figsize=(10, 6))\n",
    "sns.heatmap(df, annot=True, cmap='Blues', linewidths=0.5, fmt=\".2f\", cbar_kws={'label': 'Score'})\n",
    "plt.title('Heatmap of Model Performances Across Variables', fontsize=16)\n",
    "plt.xticks(rotation=45, ha='right')\n",
    "plt.yticks(rotation=0)\n",
    "plt.tight_layout()\n",
    "plt.show()"
   ]
  }
 ],
 "metadata": {
  "kernelspec": {
   "display_name": "transformer",
   "language": "python",
   "name": "python3"
  },
  "language_info": {
   "codemirror_mode": {
    "name": "ipython",
    "version": 3
   },
   "file_extension": ".py",
   "mimetype": "text/x-python",
   "name": "python",
   "nbconvert_exporter": "python",
   "pygments_lexer": "ipython3",
   "version": "3.9.21"
  }
 },
 "nbformat": 4,
 "nbformat_minor": 5
}
