{
 "cells": [
  {
   "cell_type": "code",
   "execution_count": null,
   "metadata": {},
   "outputs": [
    {
     "name": "stdout",
     "output_type": "stream",
     "text": [
      "Collecting praw\n",
      "  Obtaining dependency information for praw from https://files.pythonhosted.org/packages/73/ca/60ec131c3b43bff58261167045778b2509b83922ce8f935ac89d871bd3ea/praw-7.8.1-py3-none-any.whl.metadata\n",
      "  Downloading praw-7.8.1-py3-none-any.whl.metadata (9.4 kB)\n",
      "Collecting prawcore<3,>=2.4 (from praw)\n",
      "  Obtaining dependency information for prawcore<3,>=2.4 from https://files.pythonhosted.org/packages/96/5c/8af904314e42d5401afcfaff69940dc448e974f80f7aa39b241a4fbf0cf1/prawcore-2.4.0-py3-none-any.whl.metadata\n",
      "  Downloading prawcore-2.4.0-py3-none-any.whl.metadata (5.0 kB)\n",
      "Collecting update_checker>=0.18 (from praw)\n",
      "  Obtaining dependency information for update_checker>=0.18 from https://files.pythonhosted.org/packages/0c/ba/8dd7fa5f0b1c6a8ac62f8f57f7e794160c1f86f31c6d0fb00f582372a3e4/update_checker-0.18.0-py3-none-any.whl.metadata\n",
      "  Downloading update_checker-0.18.0-py3-none-any.whl.metadata (2.3 kB)\n",
      "Requirement already satisfied: websocket-client>=0.54.0 in c:\\users\\user\\anaconda3\\lib\\site-packages (from praw) (0.58.0)\n",
      "Requirement already satisfied: requests<3.0,>=2.6.0 in c:\\users\\user\\anaconda3\\lib\\site-packages (from prawcore<3,>=2.4->praw) (2.32.3)\n",
      "Requirement already satisfied: six in c:\\users\\user\\anaconda3\\lib\\site-packages (from websocket-client>=0.54.0->praw) (1.16.0)\n",
      "Requirement already satisfied: charset-normalizer<4,>=2 in c:\\users\\user\\anaconda3\\lib\\site-packages (from requests<3.0,>=2.6.0->prawcore<3,>=2.4->praw) (2.0.4)\n",
      "Requirement already satisfied: idna<4,>=2.5 in c:\\users\\user\\anaconda3\\lib\\site-packages (from requests<3.0,>=2.6.0->prawcore<3,>=2.4->praw) (3.4)\n",
      "Requirement already satisfied: urllib3<3,>=1.21.1 in c:\\users\\user\\anaconda3\\lib\\site-packages (from requests<3.0,>=2.6.0->prawcore<3,>=2.4->praw) (1.25.11)\n",
      "Requirement already satisfied: certifi>=2017.4.17 in c:\\users\\user\\anaconda3\\lib\\site-packages (from requests<3.0,>=2.6.0->prawcore<3,>=2.4->praw) (2024.8.30)\n",
      "Downloading praw-7.8.1-py3-none-any.whl (189 kB)\n",
      "   ---------------------------------------- 0.0/189.3 kB ? eta -:--:--\n",
      "   -- ------------------------------------- 10.2/189.3 kB ? eta -:--:--\n",
      "   ------------------------------ --------- 143.4/189.3 kB 1.7 MB/s eta 0:00:01\n",
      "   ---------------------------------------- 189.3/189.3 kB 1.9 MB/s eta 0:00:00\n",
      "Downloading prawcore-2.4.0-py3-none-any.whl (17 kB)\n",
      "Downloading update_checker-0.18.0-py3-none-any.whl (7.0 kB)\n",
      "Installing collected packages: update_checker, prawcore, praw\n",
      "Successfully installed praw-7.8.1 prawcore-2.4.0 update_checker-0.18.0\n"
     ]
    },
    {
     "name": "stderr",
     "output_type": "stream",
     "text": [
      "DEPRECATION: Loading egg at c:\\users\\user\\anaconda3\\lib\\site-packages\\dlib-19.24.99-py3.11-win-amd64.egg is deprecated. pip 23.3 will enforce this behaviour change. A possible replacement is to use pip for package installation..\n"
     ]
    }
   ],
   "source": [
    "!pip install praw"
   ]
  },
  {
   "cell_type": "code",
   "execution_count": 9,
   "metadata": {},
   "outputs": [
    {
     "name": "stdout",
     "output_type": "stream",
     "text": [
      "Logged in as: None\n"
     ]
    }
   ],
   "source": [
    "import praw\n",
    "\n",
    "# 初始化 Reddit API\n",
    "reddit = praw.Reddit(\n",
    "    client_id='',       \n",
    "    client_secret='',  \n",
    "    user_agent='', \n",
    ")\n",
    "\n",
    "# 用戶名稱\n",
    "print(f\"Logged in as: {reddit.user.me()}\")\n"
   ]
  },
  {
   "cell_type": "code",
   "execution_count": 13,
   "metadata": {},
   "outputs": [
    {
     "name": "stdout",
     "output_type": "stream",
     "text": [
      "Title: ESG and Impact Investing is more imporant than ever after COVID 19 and the war in Ukraine....\n",
      "Score: 13\n",
      "URL: /r/Greenleiter/comments/tbncse/esg_and_impact_investing_is_more_imporant_than/\n",
      "Content: \n",
      "--------------------------------------------------\n",
      "Title: ESG investing training\n",
      "Score: 19\n",
      "URL: https://www.reddit.com/r/EsgInvesting/comments/tn4rv4/esg_investing_training/\n",
      "Content: I would like to learn more about ESG investing. I've looked into a few options, including Wharton ESG courses offered through Coursera and the CFA ESG certificate. However, what disappoints me is that those options only cover very high level descriptions. I'd like to have a training that's practical; one that walks you through concrete examples on how to use ESG data and/or platforms step by step to evaluate an investment, make investment decisions, and/or construct/monitor a portfolio.\n",
      "\n",
      "If the training is project-based so you can use ESG data to come up with your own analysis, that's even better. I have investment background and I'm thinking about transitioning my career into ESG investment. At the same time, I don't mind paying money for high quality training as long as the content is practical and can provide hands-on experience.\n",
      "\n",
      "I know ESG investing lacks standards and can be subjective, which is OK as long as the framework is sound. I just want to learn how professionals do their jobs.\n",
      "\n",
      "If anyone is doing this professionally, I'd also really appreciate a conversation.\n",
      "\n",
      "Thanks for any recommendations!\n",
      "--------------------------------------------------\n",
      "Title: Join Morningstar's Jackie Cook on 3/21 @ 4PM ET to discuss Sustainalytics: Measuring and Rating the ESG Performance of Publicly Listed Companies. Open Registration and Discussion.\n",
      "Score: 2\n",
      "URL: https://zoom.us/meeting/register/tJ0vde-vrjgjHtY0LAWpCbACAAzcSa8_0j-A\n",
      "Content: \n",
      "--------------------------------------------------\n",
      "Title: an article that mentions the concept of \"ESG-Washing\"\n",
      "Score: 6\n",
      "URL: https://www.reddit.com/r/EsgInvesting/comments/tfn89m/an_article_that_mentions_the_concept_of_esgwashing/\n",
      "Content: food for thought as to ESG investors addressing matters at hand:  \n",
      "\n",
      "\n",
      "Greenwashing Is Increasingly Making ESG Moot\n",
      "\n",
      "Fossil fuel holdings, Russia’s war and revelations about who’s investing there are battering the strategy’s original meaning.\n",
      "\n",
      "[https://www.bloomberg.com/news/articles/2022-03-16/greenwashing-is-increasingly-making-esg-investing-moot-green-insight](https://www.bloomberg.com/news/articles/2022-03-16/greenwashing-is-increasingly-making-esg-investing-moot-green-insight)\n",
      "\n",
      "By Tim Quinson\n",
      "\n",
      "March 16, 2022, 3:00 AM MST  \n",
      "\n",
      "\n",
      "\"... Criticisms of the ESG industry’s increasingly feckless profile have only grown louder since Vladimir Putin [ launched his war](https://www.bloomberg.com/news/articles/2022-03-15/ukraine-update-china-looks-to-avoid-russia-sanctions-sideswipe?srnd=premium&sref=fSOf3OlP)  against Ukraine almost three weeks ago, killing thousands so far. Since  then, it emerged that so-called ESG funds had at least $8.3 billion [allocated to Russian government bonds](https://www.bloomberg.com/news/articles/2022-03-08/esg-funds-had-8-3-billion-in-russia-assets-right-before-the-war?sref=Ufko9ynM)  and companies. While the figure is small compared with the roughly $2.7  trillion devoted to ESG-related funds, the revelation has turbocharged  skepticism about the merits of ESG investing.   \n",
      "\n",
      "\n",
      "\"Putin’s attack even prompted Ukraine’s former finance minister, Natalie Jaresko, to criticize ESG. She wrote in a March 3 column for the Financial Times that the Kremlin’s war raises questions for companies that have “vociferously professed the virtues of environmental, social and governance factors.”  \n",
      "\n",
      "\n",
      "\" This is “[a moment of truth](https://www.bloomberg.com/opinion/articles/2022-03-11/personal-finance-esg-principles-need-to-apply-to-countries-first?sref=fSOf3OlP)” for ESG, she said. By her read, the phenomenon of greenwashing has now morphed into “ESG-washing.” ...\"\n",
      "--------------------------------------------------\n",
      "Title: article: Elon Musk says ESG rules have been ‘twisted to insanity’ and should be ‘deleted if not fixed’\n",
      "Score: 2\n",
      "URL: https://www.reddit.com/r/EsgInvesting/comments/tcnsg0/article_elon_musk_says_esg_rules_have_been/\n",
      "Content:   \n",
      "This seems worth noting.  Setting aside the click-bait aspect of having Musk's name in the mix of the discussion, the point of view that he has expressed here is (more or less) one that is echoed by many folks involved with sustainable international finance, including some who manage money in Europe.  \n",
      "[https://anglenews.com/elon-musk-says-esg-rules-have-been-twisted-to-insanity-and-should-be-deleted-if-not-fixed/](https://anglenews.com/elon-musk-says-esg-rules-have-been-twisted-to-insanity-and-should-be-deleted-if-not-fixed/)  \n",
      "Elon Musk says ESG rules have been ‘twisted to insanity’ and should be ‘deleted if not fixed’   \n",
      "by Angle News 2 days ago\n",
      "--------------------------------------------------\n",
      "Title: why ESG and Impact Investing is more important than ever...\n",
      "Score: 2\n",
      "URL: https://www.reddit.com/r/EsgInvesting/comments/tbna6p/why_esg_and_impact_investing_is_more_important/\n",
      "Content: Covid and Ukraine have highlighted, I think, the importance for ESG and Impact investing more than ever. not just on a company specific basis but at a macro level - so looking at the environment in which the company operates.\n",
      "\n",
      "[https://www.greenleiter.com/post/why-esg-and-impact-investing-matters-more-than-ever](https://www.greenleiter.com/post/why-esg-and-impact-investing-matters-more-than-ever)\n",
      "--------------------------------------------------\n"
     ]
    }
   ],
   "source": [
    "subreddit = reddit.subreddit('EsgInvesting') # 選擇目標 subreddit\n",
    "\n",
    "keywords = ['ESG', 'AI']  # 搜尋的關鍵字列表\n",
    "\n",
    "results = []\n",
    "for submission in subreddit.new(limit=20):  # 抓取new貼文，限制最多 50 條\n",
    "    # 檢查標題和內文是否包含所有關鍵字\n",
    "    title = submission.title.lower()  \n",
    "    selftext = submission.selftext.lower()  \n",
    "    if all(keyword.lower() in title + selftext for keyword in keywords):  # 同時包含 ESG 和 AI\n",
    "        results.append({\n",
    "            'title': submission.title,\n",
    "            'score': submission.score,\n",
    "            'created_utc': submission.created_utc,\n",
    "            'url': submission.url,\n",
    "            'content': submission.selftext\n",
    "        })\n",
    "\n",
    "# 輸出結果\n",
    "for post in results:\n",
    "    print(f\"Title: {post['title']}\")\n",
    "    print(f\"Score: {post['score']}\")\n",
    "    print(f\"URL: {post['url']}\")\n",
    "    print(f\"Content: {post['content']}\")\n",
    "    print(\"-\" * 50)\n"
   ]
  },
  {
   "cell_type": "code",
   "execution_count": 14,
   "metadata": {},
   "outputs": [
    {
     "ename": "KeyError",
     "evalue": "'created'",
     "output_type": "error",
     "traceback": [
      "\u001b[1;31m---------------------------------------------------------------------------\u001b[0m",
      "\u001b[1;31mKeyError\u001b[0m                                  Traceback (most recent call last)",
      "Cell \u001b[1;32mIn[14], line 7\u001b[0m\n\u001b[0;32m      5\u001b[0m     csv_writer\u001b[38;5;241m.\u001b[39mwriterow([\u001b[38;5;124m'\u001b[39m\u001b[38;5;124mTitle\u001b[39m\u001b[38;5;124m'\u001b[39m, \u001b[38;5;124m'\u001b[39m\u001b[38;5;124mScore\u001b[39m\u001b[38;5;124m'\u001b[39m, \u001b[38;5;124m'\u001b[39m\u001b[38;5;124mCreated\u001b[39m\u001b[38;5;124m'\u001b[39m, \u001b[38;5;124m'\u001b[39m\u001b[38;5;124mURL\u001b[39m\u001b[38;5;124m'\u001b[39m, \u001b[38;5;124m'\u001b[39m\u001b[38;5;124mContent\u001b[39m\u001b[38;5;124m'\u001b[39m])  \u001b[38;5;66;03m# 寫入表頭\u001b[39;00m\n\u001b[0;32m      6\u001b[0m     \u001b[38;5;28;01mfor\u001b[39;00m post \u001b[38;5;129;01min\u001b[39;00m results:\n\u001b[1;32m----> 7\u001b[0m         csv_writer\u001b[38;5;241m.\u001b[39mwriterow([post[\u001b[38;5;124m'\u001b[39m\u001b[38;5;124mtitle\u001b[39m\u001b[38;5;124m'\u001b[39m], post[\u001b[38;5;124m'\u001b[39m\u001b[38;5;124mscore\u001b[39m\u001b[38;5;124m'\u001b[39m], post[\u001b[38;5;124m'\u001b[39m\u001b[38;5;124mcreated\u001b[39m\u001b[38;5;124m'\u001b[39m], post[\u001b[38;5;124m'\u001b[39m\u001b[38;5;124murl\u001b[39m\u001b[38;5;124m'\u001b[39m], post[\u001b[38;5;124m'\u001b[39m\u001b[38;5;124mcontent\u001b[39m\u001b[38;5;124m'\u001b[39m]])\n\u001b[0;32m      9\u001b[0m \u001b[38;5;28mprint\u001b[39m(\u001b[38;5;124m\"\u001b[39m\u001b[38;5;124mdone\u001b[39m\u001b[38;5;124m\"\u001b[39m)\n",
      "\u001b[1;31mKeyError\u001b[0m: 'created'"
     ]
    }
   ],
   "source": [
    "import csv\n",
    "\n",
    "with open('esg_ai_posts.csv', 'w', newline='', encoding='utf-8') as csvfile:\n",
    "    csv_writer = csv.writer(csvfile)\n",
    "    csv_writer.writerow(['Title', 'Score', 'Created', 'URL', 'Content'])  # 寫入表頭\n",
    "    for post in results:\n",
    "        csv_writer.writerow([post['title'], post['score'], post['created'], post['url'], post['content']])\n",
    "\n",
    "print(\"done\")"
   ]
  },
  {
   "cell_type": "code",
   "execution_count": 4,
   "metadata": {},
   "outputs": [
    {
     "name": "stdout",
     "output_type": "stream",
     "text": [
      "22\n"
     ]
    }
   ],
   "source": [
    "print(len(\"YPlRlyKTB-r20JRuL27aag\"))"
   ]
  }
 ],
 "metadata": {
  "kernelspec": {
   "display_name": "base",
   "language": "python",
   "name": "python3"
  },
  "language_info": {
   "codemirror_mode": {
    "name": "ipython",
    "version": 3
   },
   "file_extension": ".py",
   "mimetype": "text/x-python",
   "name": "python",
   "nbconvert_exporter": "python",
   "pygments_lexer": "ipython3",
   "version": "3.11.5"
  }
 },
 "nbformat": 4,
 "nbformat_minor": 2
}
