{
 "cells": [
  {
   "cell_type": "code",
   "execution_count": 1,
   "id": "0577d9a0",
   "metadata": {},
   "outputs": [],
   "source": [
    "import pandas as pd"
   ]
  },
  {
   "cell_type": "code",
   "execution_count": null,
   "id": "1657bad3",
   "metadata": {},
   "outputs": [],
   "source": [
    "df = pd.read_excel(r\"AR.xlsx\", usecols=[f\"AR{i}\" for i in range(0, -11, -1)])"
   ]
  },
  {
   "cell_type": "code",
   "execution_count": null,
   "id": "a26cef69",
   "metadata": {},
   "outputs": [],
   "source": [
    "df = df[df.columns[::-1]]\n",
    "df.columns"
   ]
  },
  {
   "cell_type": "code",
   "execution_count": null,
   "id": "30675af8",
   "metadata": {},
   "outputs": [],
   "source": [
    "df_car = df.iloc[:,:].cumsum(axis=1)\n",
    "df_car.columns = [f\"CAR[{i},0]\" for i in range(0, -11, -1)]"
   ]
  },
  {
   "cell_type": "code",
   "execution_count": null,
   "id": "9c8e6b71",
   "metadata": {},
   "outputs": [],
   "source": [
    "df_car = df_car[df_car.columns[::-1]]"
   ]
  },
  {
   "cell_type": "code",
   "execution_count": null,
   "id": "8e5ba215",
   "metadata": {},
   "outputs": [],
   "source": [
    "df_2 = pd.read_excel(r\"AR_2.xlsx\", usecols=[f\"AR{i}\" for i in range(11)])\n",
    "df_2"
   ]
  },
  {
   "cell_type": "code",
   "execution_count": null,
   "id": "101bfa70",
   "metadata": {},
   "outputs": [],
   "source": [
    "df_car_2 = df.iloc[:,:].cumsum(axis=1)\n",
    "df_car_2.columns = [f\"CAR[0, {i}]\" for i in range(11)]"
   ]
  },
  {
   "cell_type": "code",
   "execution_count": 8,
   "id": "3f4066ce",
   "metadata": {},
   "outputs": [],
   "source": [
    "df_use_1 = df_car.drop(columns=[\"CAR[0,0]\"])"
   ]
  },
  {
   "cell_type": "code",
   "execution_count": 9,
   "id": "c763c5be",
   "metadata": {},
   "outputs": [],
   "source": [
    "df_use_2 = df_car_2.copy()"
   ]
  },
  {
   "cell_type": "code",
   "execution_count": null,
   "id": "2a0af3c7",
   "metadata": {},
   "outputs": [],
   "source": [
    "df_save = pd.concat([df_use_1, df_use_2], axis=1)"
   ]
  },
  {
   "cell_type": "code",
   "execution_count": null,
   "id": "251d2901",
   "metadata": {},
   "outputs": [],
   "source": [
    "df_save.to_excel(\"CAR.xlsx\", index=False)"
   ]
  }
 ],
 "metadata": {
  "kernelspec": {
   "display_name": "transformer",
   "language": "python",
   "name": "python3"
  },
  "language_info": {
   "codemirror_mode": {
    "name": "ipython",
    "version": 3
   },
   "file_extension": ".py",
   "mimetype": "text/x-python",
   "name": "python",
   "nbconvert_exporter": "python",
   "pygments_lexer": "ipython3",
   "version": "3.9.21"
  }
 },
 "nbformat": 4,
 "nbformat_minor": 5
}
