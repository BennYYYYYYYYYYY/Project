{
 "cells": [
  {
   "cell_type": "code",
   "execution_count": 9,
   "id": "1190ece4",
   "metadata": {},
   "outputs": [],
   "source": [
    "import yfinance as yf\n",
    "import pandas as pd\n",
    "from datetime import datetime\n",
    "from datetime import timedelta\n",
    "import statsmodels.api as sm"
   ]
  },
  {
   "cell_type": "markdown",
   "id": "6fa1b0ca",
   "metadata": {},
   "source": [
    "# Estimate Event Date Period"
   ]
  },
  {
   "cell_type": "code",
   "execution_count": null,
   "id": "53c27107",
   "metadata": {},
   "outputs": [],
   "source": [
    "file = r\"event_data.xlsx\"\n",
    "df = pd.read_excel(file)"
   ]
  },
  {
   "cell_type": "code",
   "execution_count": 24,
   "id": "a00f4a5b",
   "metadata": {},
   "outputs": [],
   "source": [
    "event_start_list = []\n",
    "even_end_list = []\n",
    "\n",
    "for value in df[\"Eventdate\"]:\n",
    "    try:\n",
    "        date = datetime.strptime(value, \"%Y-%m-%d\")\n",
    "        event_window_start = (date - timedelta(days=206)).date()\n",
    "        event_window_close = (date - timedelta(days=6)).date()\n",
    "        event_start_list.append(event_window_start)\n",
    "        even_end_list.append(event_window_close)\n",
    "    except Exception as e:\n",
    "        print(e)\n",
    "\n",
    "df[\"Estimate_event_date_start\"] = event_start_list\n",
    "df[\"Estimate_event_date_end\"] = even_end_list  \n",
    "\n",
    "df.drop(columns=[\"Event date1\"], inplace=True)\n",
    "df.to_excel(\"event_study_data.xlsx\", index=False)"
   ]
  },
  {
   "cell_type": "markdown",
   "id": "8be14f69",
   "metadata": {},
   "source": [
    "## Market Model"
   ]
  },
  {
   "cell_type": "code",
   "execution_count": null,
   "id": "16812f2c",
   "metadata": {},
   "outputs": [],
   "source": [
    "new_file = r\"event_study_data.xlsx\"\n",
    "df_new = pd.read_excel(new_file)"
   ]
  },
  {
   "cell_type": "code",
   "execution_count": null,
   "id": "a2185646",
   "metadata": {},
   "outputs": [],
   "source": [
    "event_alpha_list = []\n",
    "event_beta_list = []\n",
    "\n",
    "for ticker, event_start, event_end in zip(df_new[\"Ticker\"], df_new[\"Estimate_event_date_start\"], df_new[\"Estimate_event_date_end\"]):\n",
    "    event_start = event_start.date() - timedelta(days=1) # In order to calculate the Return, period t-1's data is a must.  \n",
    "    event_end = event_end.date() + timedelta(days=1) # yf's history \"end\" parameter is exclusive.\n",
    "    \n",
    "    # Get Company's data \n",
    "    company = yf.Ticker(ticker)\n",
    "    df_company = company.history(start=event_start, end=event_end, auto_adjust=True)  \n",
    "    company_price = df_company[\"Close\"].pct_change()\n",
    "    company_price.dropna(inplace=True) # First value can't be calcuated, will return NaN\n",
    "\n",
    "    # Get S&P500 Index data \n",
    "    sp = yf.Ticker(\"^GSPC\")\n",
    "    df_sp = sp.history(start=event_start, end=event_end, auto_adjust=True)  \n",
    "    sp_price = df_sp[\"Close\"].pct_change() # calculate Return for each day\n",
    "    sp_price.dropna(inplace=True)\n",
    "\n",
    "    # Integrate data into Dataframe\n",
    "    df = pd.DataFrame({\"x\": sp_price, \"y\": company_price})\n",
    "\n",
    "    # Market Model OLS\n",
    "    # X need to be 2D array as a matrix, and add constant manully\n",
    "    X = sm.add_constant(df[[\"x\"]])\n",
    "    # y can be Series\n",
    "    y = df[\"y\"]\n",
    "\n",
    "    model = sm.OLS(y, X).fit()\n",
    "\n",
    "    # Get the parameter needed\n",
    "    paraeters = model.params \n",
    "    alpha_parameter = paraeters.iloc[0].round(10)\n",
    "    beta_parameter = paraeters.iloc[1].round(10)\n",
    "\n",
    "    event_alpha_list.append(alpha_parameter)\n",
    "    event_beta_list.append(beta_parameter)"
   ]
  },
  {
   "cell_type": "code",
   "execution_count": null,
   "id": "00342801",
   "metadata": {},
   "outputs": [],
   "source": [
    "df_new[\"alpha\"] = event_alpha_list\n",
    "df_new[\"beta\"] = event_beta_list"
   ]
  },
  {
   "cell_type": "code",
   "execution_count": 63,
   "id": "747e910d",
   "metadata": {},
   "outputs": [],
   "source": [
    "df_new.to_excel(\"event_data_for_abnormal_return.xlsx\", index=False)"
   ]
  }
 ],
 "metadata": {
  "kernelspec": {
   "display_name": "base",
   "language": "python",
   "name": "python3"
  },
  "language_info": {
   "codemirror_mode": {
    "name": "ipython",
    "version": 3
   },
   "file_extension": ".py",
   "mimetype": "text/x-python",
   "name": "python",
   "nbconvert_exporter": "python",
   "pygments_lexer": "ipython3",
   "version": "3.11.5"
  }
 },
 "nbformat": 4,
 "nbformat_minor": 5
}
