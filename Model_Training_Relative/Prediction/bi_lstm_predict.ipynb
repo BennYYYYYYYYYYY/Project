{
 "cells": [
  {
   "cell_type": "code",
   "execution_count": 1,
   "id": "d4b59b71",
   "metadata": {},
   "outputs": [],
   "source": [
    "from bl_run import bi_lstm_classification_run\n",
    "from tensorflow.keras.models import load_model\n",
    "from tensorflow.keras.preprocessing.text import tokenizer_from_json\n"
   ]
  },
  {
   "cell_type": "markdown",
   "id": "c4adfc20",
   "metadata": {},
   "source": [
    "# Sentiment"
   ]
  },
  {
   "cell_type": "code",
   "execution_count": null,
   "id": "daaebb1c",
   "metadata": {},
   "outputs": [],
   "source": [
    "# Data\n",
    "sentiment_folder = r\"DL_Sentiment_result\""
   ]
  },
  {
   "cell_type": "code",
   "execution_count": null,
   "id": "85ffc61d",
   "metadata": {},
   "outputs": [],
   "source": [
    "# Download Model\n",
    "model_sentiment_path = r\"Bi-LSTM_SENTIMENT_TASK.h5\"\n",
    "model_sentiment = load_model(model_sentiment_path)"
   ]
  },
  {
   "cell_type": "code",
   "execution_count": null,
   "id": "97b95da9",
   "metadata": {},
   "outputs": [],
   "source": [
    "# Download Tokenizer\n",
    "with open(r\"bi_lstm_sentiment_task_tokenizer.json\") as f:\n",
    "    tokenizer_json = f.read()\n",
    "    tokenizer_sentiment = tokenizer_from_json(tokenizer_json)"
   ]
  },
  {
   "cell_type": "code",
   "execution_count": null,
   "id": "8f17cec6",
   "metadata": {},
   "outputs": [],
   "source": [
    "bi_lstm_classification_run(\"sentiment\", model_sentiment, tokenizer_sentiment, sentiment_folder, 1)"
   ]
  },
  {
   "cell_type": "markdown",
   "id": "bc414253",
   "metadata": {},
   "source": [
    "# ESG"
   ]
  },
  {
   "cell_type": "code",
   "execution_count": null,
   "id": "37957b28",
   "metadata": {},
   "outputs": [],
   "source": [
    "# Data\n",
    "esg_folder = r\"DL_ESG_result\""
   ]
  },
  {
   "cell_type": "code",
   "execution_count": null,
   "id": "33726498",
   "metadata": {},
   "outputs": [],
   "source": [
    "model_esg_path = r\"Bi-LSTM_ESG_TASK.h5\"\n",
    "model_esg = load_model(model_esg_path)"
   ]
  },
  {
   "cell_type": "code",
   "execution_count": null,
   "id": "f8f55af0",
   "metadata": {},
   "outputs": [],
   "source": [
    "with open(r\"bi_lstm_esg_task_tokenizer.json\") as f:\n",
    "    tokenizer_json = f.read()\n",
    "    tokenzier_esg = tokenizer_from_json(tokenizer_json)"
   ]
  },
  {
   "cell_type": "code",
   "execution_count": null,
   "id": "57c92b6e",
   "metadata": {},
   "outputs": [],
   "source": [
    "bi_lstm_classification_run(\"ESG\", model_esg, tokenzier_esg, esg_folder, 1)"
   ]
  }
 ],
 "metadata": {
  "kernelspec": {
   "display_name": "base",
   "language": "python",
   "name": "python3"
  },
  "language_info": {
   "codemirror_mode": {
    "name": "ipython",
    "version": 3
   },
   "file_extension": ".py",
   "mimetype": "text/x-python",
   "name": "python",
   "nbconvert_exporter": "python",
   "pygments_lexer": "ipython3",
   "version": "3.11.7"
  }
 },
 "nbformat": 4,
 "nbformat_minor": 5
}
