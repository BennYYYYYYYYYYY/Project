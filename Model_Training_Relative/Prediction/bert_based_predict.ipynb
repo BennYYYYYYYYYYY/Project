{
 "cells": [
  {
   "cell_type": "code",
   "execution_count": 1,
   "id": "5cc15c20",
   "metadata": {},
   "outputs": [],
   "source": [
    "from hf_run import hf_classification_run\n",
    "from transformers import AutoTokenizer, AutoModelForSequenceClassification\n",
    "import pandas as pd"
   ]
  },
  {
   "cell_type": "markdown",
   "id": "245ac2e9",
   "metadata": {},
   "source": [
    "# Dataset"
   ]
  },
  {
   "cell_type": "code",
   "execution_count": 2,
   "id": "1da389af",
   "metadata": {},
   "outputs": [],
   "source": [
    "setiment_folder = r\"DL_Sentiment_result\"\n",
    "esg_folder = r\"DL_ESG_result\""
   ]
  },
  {
   "cell_type": "markdown",
   "id": "70baee8c",
   "metadata": {},
   "source": [
    "# BERT - Sentiment"
   ]
  },
  {
   "cell_type": "code",
   "execution_count": null,
   "id": "9bb89cd6",
   "metadata": {},
   "outputs": [],
   "source": [
    "bert_sentiment = r\"BERT_SENTIMENT_TASK\"\n",
    "tokenizer_bert = AutoTokenizer.from_pretrained(\"bert-base-uncased\")\n",
    "model_bert_sentiment = AutoModelForSequenceClassification.from_pretrained(bert_sentiment)"
   ]
  },
  {
   "cell_type": "code",
   "execution_count": null,
   "id": "0bd22e5b",
   "metadata": {},
   "outputs": [],
   "source": [
    "hf_classification_run(\"BERT\",\"sentiment\", model_bert_sentiment, tokenizer_bert, setiment_folder, 1)"
   ]
  },
  {
   "cell_type": "markdown",
   "id": "b7e1e9f7",
   "metadata": {},
   "source": [
    "# BERT - ESG"
   ]
  },
  {
   "cell_type": "code",
   "execution_count": null,
   "id": "cd4bbb47",
   "metadata": {},
   "outputs": [],
   "source": [
    "bert_esg = r\"BERT_ESG_TASK\"\n",
    "model_bert_esg = AutoModelForSequenceClassification.from_pretrained(bert_esg)"
   ]
  },
  {
   "cell_type": "code",
   "execution_count": null,
   "id": "5d950843",
   "metadata": {},
   "outputs": [],
   "source": [
    "hf_classification_run(\"BERT\",\"ESG\", model_bert_esg, tokenizer_bert, esg_folder, 1)"
   ]
  },
  {
   "cell_type": "markdown",
   "id": "6fa8f18c",
   "metadata": {},
   "source": [
    "# FinBERT - Sentiment"
   ]
  },
  {
   "cell_type": "code",
   "execution_count": null,
   "id": "20a2ae14",
   "metadata": {},
   "outputs": [],
   "source": [
    "fin_bert_sentiment = r\"FinBERT_SENTIMENT_TASK\"\n",
    "tokenizer_fin_bert = AutoTokenizer.from_pretrained(\"ProsusAI/finbert\")\n",
    "model_fin_bert_sentiment = AutoModelForSequenceClassification.from_pretrained(fin_bert_sentiment)"
   ]
  },
  {
   "cell_type": "code",
   "execution_count": null,
   "id": "d1c939d2",
   "metadata": {},
   "outputs": [],
   "source": [
    "hf_classification_run(\"FinBERT\", \"sentiment\", model_fin_bert_sentiment, tokenizer_fin_bert, setiment_folder, 1)"
   ]
  },
  {
   "cell_type": "markdown",
   "id": "bb6298b1",
   "metadata": {},
   "source": [
    "# FinBERT - ESG"
   ]
  },
  {
   "cell_type": "code",
   "execution_count": null,
   "id": "34f9dcfa",
   "metadata": {},
   "outputs": [],
   "source": [
    "fin_bert_esg = r\"FinBERT_ESG_TASK\"\n",
    "model_fin_bert_esg = AutoModelForSequenceClassification.from_pretrained(fin_bert_esg)"
   ]
  },
  {
   "cell_type": "code",
   "execution_count": null,
   "id": "07b7a20d",
   "metadata": {},
   "outputs": [],
   "source": [
    "hf_classification_run(\"FinBERT\", \"ESG\", model_fin_bert_esg, tokenizer_fin_bert, esg_folder, 1)"
   ]
  },
  {
   "cell_type": "markdown",
   "id": "ba78f669",
   "metadata": {},
   "source": [
    "# FinBERT ESGECT - Sentiment"
   ]
  },
  {
   "cell_type": "code",
   "execution_count": null,
   "metadata": {},
   "outputs": [],
   "source": [
    "pretrained_finbert_sentiment = r\"FinBERT_ESGECT_SENTIMENT_TASK\"\n",
    "model_pretrained_finbert_sentiment = AutoModelForSequenceClassification.from_pretrained(pretrained_finbert_sentiment)"
   ]
  },
  {
   "cell_type": "code",
   "execution_count": null,
   "id": "f28cbf92",
   "metadata": {},
   "outputs": [],
   "source": [
    "hf_classification_run(\"FinBERT_ESGECT\", \"sentiment\", model_pretrained_finbert_sentiment, tokenizer_fin_bert, setiment_folder, 1)"
   ]
  },
  {
   "cell_type": "markdown",
   "id": "f3ff708b",
   "metadata": {},
   "source": [
    "# FinBERT ESGECT - ESG"
   ]
  },
  {
   "cell_type": "code",
   "execution_count": null,
   "id": "f1781bd5",
   "metadata": {},
   "outputs": [],
   "source": [
    "pretrained_finbert_esg = r\"FinBERT_ESGECT_ESG_TASK\"\n",
    "model_pretrained_finbert_esg = AutoModelForSequenceClassification.from_pretrained(pretrained_finbert_esg)"
   ]
  },
  {
   "cell_type": "code",
   "execution_count": null,
   "id": "55b85129",
   "metadata": {},
   "outputs": [],
   "source": [
    "hf_classification_run(\"FinBERT_ESGECT\", \"ESG\", model_pretrained_finbert_esg, tokenizer_fin_bert, esg_folder, 1)"
   ]
  }
 ],
 "metadata": {
  "kernelspec": {
   "display_name": "base",
   "language": "python",
   "name": "python3"
  },
  "language_info": {
   "codemirror_mode": {
    "name": "ipython",
    "version": 3
   },
   "file_extension": ".py",
   "mimetype": "text/x-python",
   "name": "python",
   "nbconvert_exporter": "python",
   "pygments_lexer": "ipython3",
   "version": "3.11.7"
  }
 },
 "nbformat": 4,
 "nbformat_minor": 5
}
