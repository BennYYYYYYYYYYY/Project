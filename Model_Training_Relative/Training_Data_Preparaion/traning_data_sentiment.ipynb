{
 "cells": [
  {
   "cell_type": "code",
   "execution_count": 1,
   "id": "aa245204",
   "metadata": {},
   "outputs": [],
   "source": [
    "import pandas as pd"
   ]
  },
  {
   "cell_type": "code",
   "execution_count": null,
   "id": "fc792a6f",
   "metadata": {},
   "outputs": [],
   "source": [
    "file = r\"Sentences_75Agree.txt\""
   ]
  },
  {
   "cell_type": "code",
   "execution_count": null,
   "id": "05a2606d",
   "metadata": {},
   "outputs": [],
   "source": [
    "with open(file, \"r\", encoding=\"ISO-8859-1\") as f:\n",
    "    lines = f.readlines()\n",
    "\n",
    "data = [[text.strip(), label.strip()] for text, label in \n",
    "        [line.strip().rsplit(\"@\", 1) for line in lines if \"@\" in line]]"
   ]
  },
  {
   "cell_type": "code",
   "execution_count": null,
   "id": "74fc38ab",
   "metadata": {},
   "outputs": [],
   "source": [
    "df = pd.DataFrame(data, columns=[\"text\", \"label\"])\n",
    "df[\"label\"].value_counts()\n",
    "df_use = df.copy()\n",
    "\n",
    "df_use[\"label\"] = df[\"label\"].replace({\n",
    "    \"neutral\":0,\n",
    "    \"positive\":1,\n",
    "    \"negative\":2\n",
    "}, regex=False)\n",
    "\n",
    "df_use[\"label\"].value_counts()\n",
    "# df_use.to_excel()"
   ]
  }
 ],
 "metadata": {
  "kernelspec": {
   "display_name": "transformer",
   "language": "python",
   "name": "python3"
  },
  "language_info": {
   "codemirror_mode": {
    "name": "ipython",
    "version": 3
   },
   "file_extension": ".py",
   "mimetype": "text/x-python",
   "name": "python",
   "nbconvert_exporter": "python",
   "pygments_lexer": "ipython3",
   "version": "3.9.21"
  }
 },
 "nbformat": 4,
 "nbformat_minor": 5
}
