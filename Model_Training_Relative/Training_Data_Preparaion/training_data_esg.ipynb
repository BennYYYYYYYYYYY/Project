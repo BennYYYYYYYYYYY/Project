{
 "cells": [
  {
   "cell_type": "markdown",
   "id": "f31886cc",
   "metadata": {},
   "source": [
    "# E=1, S=2, G=3, None=4"
   ]
  },
  {
   "cell_type": "markdown",
   "id": "934f6a69",
   "metadata": {},
   "source": [
    "# ESGBERT"
   ]
  },
  {
   "cell_type": "markdown",
   "id": "ace66f22",
   "metadata": {},
   "source": [
    "## Environment"
   ]
  },
  {
   "cell_type": "code",
   "execution_count": null,
   "id": "0748def6",
   "metadata": {},
   "outputs": [],
   "source": [
    "df = pd.read_csv(\"hf://datasets/ESGBERT/environmental_2k/environmental_2k.csv\", usecols=[\"text\", \"env\"])\n",
    "df = df[df[\"env\"] == 1]\n",
    "df.reset_index(inplace=True, drop=True)\n",
    "sample_df = df.sample(n=500, random_state=42, replace=False)\n",
    "sample_df.reset_index(drop=True, inplace=True)\n",
    "sample_df[\"env\"] = sample_df[\"env\"].replace({\n",
    "    1:1\n",
    "})\n",
    "\n",
    "sample_df_environment = sample_df.rename(columns={\"env\":\"label\"})\n",
    "sample_df_environment"
   ]
  },
  {
   "cell_type": "markdown",
   "id": "f7a8630c",
   "metadata": {},
   "source": [
    "## Social"
   ]
  },
  {
   "cell_type": "code",
   "execution_count": null,
   "id": "9d1ef184",
   "metadata": {},
   "outputs": [],
   "source": [
    "import pandas as pd\n",
    "df = pd.read_csv(\"hf://datasets/ESGBERT/social_2k/social_2k.csv\", usecols=[\"text\", \"soc\"])\n",
    "df = df[df[\"soc\"] == 1]\n",
    "df.reset_index(inplace=True, drop=True)\n",
    "sample_df_s = df.sample(n=500, random_state=42, replace=False)\n",
    "sample_df_s.reset_index(drop=True, inplace=True)\n",
    "sample_df_s[\"soc\"] = sample_df_s[\"soc\"].replace({\n",
    "    1:2\n",
    "})\n",
    "\n",
    "sample_df_social = sample_df_s.rename(columns={\"soc\":\"label\"})\n",
    "sample_df_social"
   ]
  },
  {
   "cell_type": "markdown",
   "id": "aa12f2aa",
   "metadata": {},
   "source": [
    "## Governance"
   ]
  },
  {
   "cell_type": "code",
   "execution_count": null,
   "id": "0dd92b02",
   "metadata": {},
   "outputs": [],
   "source": [
    "df = pd.read_csv(\"hf://datasets/ESGBERT/governance_2k/governance_2k.csv\", usecols=[\"text\", \"gov\"])\n",
    "df = df[df[\"gov\"] == 1]\n",
    "df.reset_index(inplace=True, drop=True)\n",
    "sample_df = df.sample(n=500, random_state=42, replace=False)\n",
    "sample_df.reset_index(drop=True, inplace=True)\n",
    "sample_df[\"gov\"] = sample_df[\"gov\"].replace({\n",
    "    1:3\n",
    "})\n",
    "\n",
    "sample_df_governance = sample_df.rename(columns={\"gov\":\"label\"})\n",
    "sample_df_governance"
   ]
  },
  {
   "cell_type": "markdown",
   "id": "728ef97d",
   "metadata": {},
   "source": [
    "## Concatenate ESGBERT Dataset"
   ]
  },
  {
   "cell_type": "code",
   "execution_count": null,
   "id": "fccf3840",
   "metadata": {},
   "outputs": [],
   "source": [
    "df_esgbert_dataset = pd.concat([sample_df_environment, sample_df_social, sample_df_governance], ignore_index=True)\n",
    "df_esgbert_dataset\n"
   ]
  },
  {
   "cell_type": "markdown",
   "id": "9d569592",
   "metadata": {},
   "source": [
    "---"
   ]
  },
  {
   "cell_type": "markdown",
   "id": "d11cb30a",
   "metadata": {},
   "source": [
    "# ESG-Miner"
   ]
  },
  {
   "cell_type": "code",
   "execution_count": null,
   "id": "cc146851",
   "metadata": {},
   "outputs": [],
   "source": [
    "df = pd.read_excel(r\"gold_standard_corpus.xlsx\", usecols=[\"headline\", \"esg_category\"])\n",
    "df[\"esg_category\"].value_counts()\n",
    "df.duplicated(subset=[\"headline\"]).sum()"
   ]
  },
  {
   "cell_type": "code",
   "execution_count": 62,
   "id": "3b35f4a3",
   "metadata": {},
   "outputs": [],
   "source": [
    "df.rename(columns={\"headline\":\"text\", \"esg_category\":\"label\"}, inplace=True)"
   ]
  },
  {
   "cell_type": "code",
   "execution_count": null,
   "id": "bdd564c3",
   "metadata": {},
   "outputs": [],
   "source": [
    "df[\"label\"].value_counts()"
   ]
  },
  {
   "cell_type": "markdown",
   "id": "969e98f4",
   "metadata": {},
   "source": [
    "## Non-ESG"
   ]
  },
  {
   "cell_type": "code",
   "execution_count": null,
   "id": "0e935a17",
   "metadata": {},
   "outputs": [],
   "source": [
    "df_non_esg = df[df[\"label\"] == \"non-esg\"]\n",
    "miner_sample_non = df_non_esg.sample(n=1000, random_state=42, replace=False)\n",
    "miner_sample_non.replace({\"non-esg\":0}, inplace=True)\n",
    "miner_sample_non.reset_index(drop=True, inplace=True)\n",
    "miner_sample_non"
   ]
  },
  {
   "cell_type": "markdown",
   "id": "8e3b4ec2",
   "metadata": {},
   "source": [
    "## E"
   ]
  },
  {
   "cell_type": "code",
   "execution_count": null,
   "id": "89bc9164",
   "metadata": {},
   "outputs": [],
   "source": [
    "df_e = df[df[\"label\"] == \"environmental\"]\n",
    "miner_sample_e = df_e.sample(n=500, random_state=42, replace=False)\n",
    "miner_sample_e.replace({\"environmental\":1}, inplace=True)\n",
    "miner_sample_e.reset_index(drop=True, inplace=True)\n",
    "miner_sample_e"
   ]
  },
  {
   "cell_type": "markdown",
   "id": "ca51961b",
   "metadata": {},
   "source": [
    "## S\n"
   ]
  },
  {
   "cell_type": "code",
   "execution_count": null,
   "id": "580cfa66",
   "metadata": {},
   "outputs": [],
   "source": [
    "df_s = df[df[\"label\"] == \"social\"]\n",
    "miner_sample_s = df_s.sample(n=500, random_state=42, replace=False)\n",
    "miner_sample_s.replace({\"social\":2}, inplace=True)\n",
    "miner_sample_s.reset_index(drop=True, inplace=True)\n",
    "miner_sample_s"
   ]
  },
  {
   "cell_type": "markdown",
   "id": "3e8b56b7",
   "metadata": {},
   "source": [
    "## G"
   ]
  },
  {
   "cell_type": "code",
   "execution_count": null,
   "id": "f942dda3",
   "metadata": {},
   "outputs": [],
   "source": [
    "df_g = df[df[\"label\"] == \"governance\"]\n",
    "miner_sample_g = df_g.sample(n=500, random_state=42, replace=False)\n",
    "miner_sample_g.replace({\"governance\":3}, inplace=True)\n",
    "miner_sample_g.reset_index(drop=True, inplace=True)\n",
    "miner_sample_g"
   ]
  },
  {
   "cell_type": "markdown",
   "id": "29d06977",
   "metadata": {},
   "source": [
    "## Concatenate ESG Miner"
   ]
  },
  {
   "cell_type": "code",
   "execution_count": null,
   "id": "993c202a",
   "metadata": {},
   "outputs": [],
   "source": [
    "df_miner_dataset = pd.concat([miner_sample_non, miner_sample_e, miner_sample_s, miner_sample_g], ignore_index=True)\n",
    "df_miner_dataset[\"label\"].value_counts()"
   ]
  },
  {
   "cell_type": "markdown",
   "id": "a10c0c12",
   "metadata": {},
   "source": [
    "# Final ESG Training Dataset"
   ]
  },
  {
   "cell_type": "code",
   "execution_count": null,
   "id": "ba9a75b0",
   "metadata": {},
   "outputs": [],
   "source": [
    "esg_train_dataset = df.concat([df_miner_dataset, df_esgbert_dataset])\n",
    "esg_train_dataset.to_excel(\"ESG_classification_training_dataset.xlsx\", index=False)"
   ]
  }
 ],
 "metadata": {
  "kernelspec": {
   "display_name": "base",
   "language": "python",
   "name": "python3"
  },
  "language_info": {
   "codemirror_mode": {
    "name": "ipython",
    "version": 3
   },
   "file_extension": ".py",
   "mimetype": "text/x-python",
   "name": "python",
   "nbconvert_exporter": "python",
   "pygments_lexer": "ipython3",
   "version": "3.11.7"
  }
 },
 "nbformat": 4,
 "nbformat_minor": 5
}
