{
 "cells": [
  {
   "cell_type": "code",
   "execution_count": 17,
   "metadata": {},
   "outputs": [
    {
     "data": {
      "text/plain": [
       "Index(['关键词', '点击量', 'Traffic ', '变动', '28 天的体量', '流量变化', '桌面端份额', '移动端份额',\n",
       "       'KD', '意图', '平均体量', 'CPC', '零点击', '热门网址', 'SERP Features'],\n",
       "      dtype='object')"
      ]
     },
     "execution_count": 17,
     "metadata": {},
     "output_type": "execute_result"
    }
   ],
   "source": [
    "import pandas as pd\n",
    "\n",
    "# organic\n",
    "f = pd.ExcelFile(r\"C:\\Users\\user\\Desktop\\Python\\Martech\\Python關鍵字分析\\new_folder\\2_ cathay-ins(2024_08_05-2024_09_01).xlsx\")\n",
    "df = f.parse()\n",
    "df.columns"
   ]
  },
  {
   "cell_type": "code",
   "execution_count": 19,
   "metadata": {},
   "outputs": [
    {
     "name": "stdout",
     "output_type": "stream",
     "text": [
      "<class 'pandas.core.frame.DataFrame'>\n",
      "RangeIndex: 1000 entries, 0 to 999\n",
      "Data columns (total 3 columns):\n",
      " #   Column  Non-Null Count  Dtype \n",
      "---  ------  --------------  ----- \n",
      " 0   关键词     1000 non-null   object\n",
      " 1   点击量     1000 non-null   object\n",
      " 2   平均体量    1000 non-null   object\n",
      "dtypes: object(3)\n",
      "memory usage: 23.6+ KB\n"
     ]
    }
   ],
   "source": [
    "df = df.loc[:,['关键词', '点击量', '平均体量']]\n",
    "df.info()"
   ]
  },
  {
   "cell_type": "code",
   "execution_count": 20,
   "metadata": {},
   "outputs": [
    {
     "name": "stdout",
     "output_type": "stream",
     "text": [
      "['<50' '0'] , 586\n",
      "0: 268, <50: 318\n"
     ]
    }
   ],
   "source": [
    "df.rename(columns={'关键词':\"Keyword\", '点击量':\"Clicks\", '平均体量':\"Avg_Volume\"}, inplace=True)\n",
    "str_clicks = df[\"Clicks\"].loc[df[\"Clicks\"].apply(lambda x: isinstance(x, str))]\n",
    "print(str_clicks.unique(),\",\", str_clicks.count())\n",
    "str_clicks_zero = str_clicks.loc[str_clicks.apply(lambda x: x == \"0\")]\n",
    "print(f\"0: {str_clicks_zero.count()}, <50: {586-str_clicks_zero.count()}\")"
   ]
  },
  {
   "cell_type": "code",
   "execution_count": 21,
   "metadata": {},
   "outputs": [
    {
     "name": "stdout",
     "output_type": "stream",
     "text": [
      "<class 'pandas.core.frame.DataFrame'>\n",
      "RangeIndex: 1000 entries, 0 to 999\n",
      "Data columns (total 3 columns):\n",
      " #   Column      Non-Null Count  Dtype \n",
      "---  ------      --------------  ----- \n",
      " 0   Keyword     1000 non-null   object\n",
      " 1   Clicks      1000 non-null   int64 \n",
      " 2   Avg_Volume  1000 non-null   object\n",
      "dtypes: int64(1), object(2)\n",
      "memory usage: 23.6+ KB\n"
     ]
    }
   ],
   "source": [
    "df[\"Clicks\"] = df[\"Clicks\"].apply(lambda x: 0 if not isinstance(x, int) else x)\n",
    "df.info()"
   ]
  },
  {
   "cell_type": "code",
   "execution_count": 27,
   "metadata": {},
   "outputs": [
    {
     "name": "stdout",
     "output_type": "stream",
     "text": [
      "<class 'pandas.core.series.Series'> 39     -\n",
      "54     -\n",
      "57     -\n",
      "65     -\n",
      "73     -\n",
      "      ..\n",
      "715    -\n",
      "717    -\n",
      "718    -\n",
      "725    -\n",
      "727    -\n",
      "Name: Avg_Volume, Length: 229, dtype: object\n",
      "['-'] 1\n",
      "<class 'pandas.core.frame.DataFrame'>\n",
      "RangeIndex: 1000 entries, 0 to 999\n",
      "Data columns (total 3 columns):\n",
      " #   Column      Non-Null Count  Dtype \n",
      "---  ------      --------------  ----- \n",
      " 0   Keyword     1000 non-null   object\n",
      " 1   Clicks      1000 non-null   int64 \n",
      " 2   Avg_Volume  1000 non-null   int64 \n",
      "dtypes: int64(2), object(1)\n",
      "memory usage: 23.6+ KB\n"
     ]
    }
   ],
   "source": [
    "str_avg = df[\"Avg_Volume\"].loc[df[\"Avg_Volume\"].apply(lambda x: isinstance(x, str))]\n",
    "print(type(str_avg), str_avg)\n",
    "print(str_avg.unique(), str_avg.nunique())\n",
    "df[\"Avg_Volume\"] = df[\"Avg_Volume\"].apply(lambda x: 0 if not isinstance(x, int) else x)\n",
    "df.info()"
   ]
  },
  {
   "cell_type": "code",
   "execution_count": 29,
   "metadata": {},
   "outputs": [
    {
     "name": "stdout",
     "output_type": "stream",
     "text": [
      "<class 'pandas.core.frame.DataFrame'>\n",
      "RangeIndex: 1000 entries, 0 to 999\n",
      "Data columns (total 3 columns):\n",
      " #   Column      Non-Null Count  Dtype  \n",
      "---  ------      --------------  -----  \n",
      " 0   Keyword     1000 non-null   object \n",
      " 1   Clicks      1000 non-null   float64\n",
      " 2   Avg_Volume  1000 non-null   float64\n",
      "dtypes: float64(2), object(1)\n",
      "memory usage: 23.6+ KB\n"
     ]
    }
   ],
   "source": [
    "df[\"Avg_Volume\"] = df[\"Avg_Volume\"].apply(lambda x: float(x))\n",
    "# df[\"Avg_Volume\"].info()\n",
    "df[\"Clicks\"] = df[\"Clicks\"].apply(lambda x: float(x))\n",
    "df.info()"
   ]
  },
  {
   "cell_type": "code",
   "execution_count": 75,
   "metadata": {},
   "outputs": [
    {
     "name": "stdout",
     "output_type": "stream",
     "text": [
      "<class 'pandas.core.frame.DataFrame'>\n",
      "RangeIndex: 1000 entries, 0 to 999\n",
      "Data columns (total 4 columns):\n",
      " #   Column      Non-Null Count  Dtype  \n",
      "---  ------      --------------  -----  \n",
      " 0   Keyword     1000 non-null   object \n",
      " 1   Clicks      1000 non-null   float64\n",
      " 2   Avg_Volume  1000 non-null   float64\n",
      " 3   CTR         939 non-null    float64\n",
      "dtypes: float64(3), object(1)\n",
      "memory usage: 31.4+ KB\n"
     ]
    },
    {
     "data": {
      "text/html": [
       "<div>\n",
       "<style scoped>\n",
       "    .dataframe tbody tr th:only-of-type {\n",
       "        vertical-align: middle;\n",
       "    }\n",
       "\n",
       "    .dataframe tbody tr th {\n",
       "        vertical-align: top;\n",
       "    }\n",
       "\n",
       "    .dataframe thead th {\n",
       "        text-align: right;\n",
       "    }\n",
       "</style>\n",
       "<table border=\"1\" class=\"dataframe\">\n",
       "  <thead>\n",
       "    <tr style=\"text-align: right;\">\n",
       "      <th></th>\n",
       "      <th>Keyword</th>\n",
       "      <th>Clicks</th>\n",
       "      <th>Avg_Volume</th>\n",
       "      <th>CTR</th>\n",
       "    </tr>\n",
       "  </thead>\n",
       "  <tbody>\n",
       "    <tr>\n",
       "      <th>0</th>\n",
       "      <td>國泰 寵物</td>\n",
       "      <td>130.0</td>\n",
       "      <td>1.0</td>\n",
       "      <td>13000.0</td>\n",
       "    </tr>\n",
       "    <tr>\n",
       "      <th>1</th>\n",
       "      <td>旅游不便险</td>\n",
       "      <td>110.0</td>\n",
       "      <td>9.0</td>\n",
       "      <td>1222.2</td>\n",
       "    </tr>\n",
       "  </tbody>\n",
       "</table>\n",
       "</div>"
      ],
      "text/plain": [
       "  Keyword  Clicks  Avg_Volume      CTR\n",
       "0   國泰 寵物   130.0         1.0  13000.0\n",
       "1   旅游不便险   110.0         9.0   1222.2"
      ]
     },
     "execution_count": 75,
     "metadata": {},
     "output_type": "execute_result"
    }
   ],
   "source": [
    "# CTR (Click Through Rate)\n",
    "df[\"CTR\"] = (df[\"Clicks\"] / df[\"Avg_Volume\"]).apply(lambda x: round(x*100, 1)) # add \"%\" later..\n",
    "df.info()\n",
    "df.head(2)\n"
   ]
  },
  {
   "cell_type": "code",
   "execution_count": 76,
   "metadata": {},
   "outputs": [],
   "source": [
    "# debug: divided by 0 bug\n",
    "ctr_zero = df['CTR'].loc[df['Avg_Volume'].apply(lambda x: x == 0.0)]\n",
    "ctr_zero\n",
    "df.loc[df['Avg_Volume'].apply(lambda x: x == 0.0), 'CTR'] = 0.0"
   ]
  },
  {
   "cell_type": "code",
   "execution_count": 77,
   "metadata": {},
   "outputs": [
    {
     "data": {
      "text/html": [
       "<div>\n",
       "<style scoped>\n",
       "    .dataframe tbody tr th:only-of-type {\n",
       "        vertical-align: middle;\n",
       "    }\n",
       "\n",
       "    .dataframe tbody tr th {\n",
       "        vertical-align: top;\n",
       "    }\n",
       "\n",
       "    .dataframe thead th {\n",
       "        text-align: right;\n",
       "    }\n",
       "</style>\n",
       "<table border=\"1\" class=\"dataframe\">\n",
       "  <thead>\n",
       "    <tr style=\"text-align: right;\">\n",
       "      <th></th>\n",
       "      <th>Keyword</th>\n",
       "      <th>Clicks</th>\n",
       "      <th>Avg_Volume</th>\n",
       "      <th>CTR</th>\n",
       "    </tr>\n",
       "  </thead>\n",
       "  <tbody>\n",
       "    <tr>\n",
       "      <th>0</th>\n",
       "      <td>國泰 寵物</td>\n",
       "      <td>130.0</td>\n",
       "      <td>1.0</td>\n",
       "      <td>13000.0</td>\n",
       "    </tr>\n",
       "    <tr>\n",
       "      <th>1</th>\n",
       "      <td>旅游不便险</td>\n",
       "      <td>110.0</td>\n",
       "      <td>9.0</td>\n",
       "      <td>1222.2</td>\n",
       "    </tr>\n",
       "    <tr>\n",
       "      <th>2</th>\n",
       "      <td>旅遊險 不便險</td>\n",
       "      <td>110.0</td>\n",
       "      <td>11.0</td>\n",
       "      <td>1000.0</td>\n",
       "    </tr>\n",
       "    <tr>\n",
       "      <th>3</th>\n",
       "      <td>國泰產險活動代碼</td>\n",
       "      <td>320.0</td>\n",
       "      <td>40.0</td>\n",
       "      <td>800.0</td>\n",
       "    </tr>\n",
       "    <tr>\n",
       "      <th>4</th>\n",
       "      <td>國泰bobe</td>\n",
       "      <td>280.0</td>\n",
       "      <td>37.0</td>\n",
       "      <td>756.8</td>\n",
       "    </tr>\n",
       "  </tbody>\n",
       "</table>\n",
       "</div>"
      ],
      "text/plain": [
       "    Keyword  Clicks  Avg_Volume      CTR\n",
       "0     國泰 寵物   130.0         1.0  13000.0\n",
       "1     旅游不便险   110.0         9.0   1222.2\n",
       "2   旅遊險 不便險   110.0        11.0   1000.0\n",
       "3  國泰產險活動代碼   320.0        40.0    800.0\n",
       "4    國泰bobe   280.0        37.0    756.8"
      ]
     },
     "execution_count": 77,
     "metadata": {},
     "output_type": "execute_result"
    }
   ],
   "source": [
    "df.sort_values(by=\"CTR\", ascending=False, inplace=True)\n",
    "df.head(5)\n"
   ]
  },
  {
   "cell_type": "code",
   "execution_count": 78,
   "metadata": {},
   "outputs": [
    {
     "data": {
      "text/html": [
       "<div>\n",
       "<style scoped>\n",
       "    .dataframe tbody tr th:only-of-type {\n",
       "        vertical-align: middle;\n",
       "    }\n",
       "\n",
       "    .dataframe tbody tr th {\n",
       "        vertical-align: top;\n",
       "    }\n",
       "\n",
       "    .dataframe thead th {\n",
       "        text-align: right;\n",
       "    }\n",
       "</style>\n",
       "<table border=\"1\" class=\"dataframe\">\n",
       "  <thead>\n",
       "    <tr style=\"text-align: right;\">\n",
       "      <th></th>\n",
       "      <th>Keyword</th>\n",
       "      <th>Clicks</th>\n",
       "      <th>Avg_Volume</th>\n",
       "      <th>CTR</th>\n",
       "    </tr>\n",
       "  </thead>\n",
       "  <tbody>\n",
       "    <tr>\n",
       "      <th>0</th>\n",
       "      <td>國泰 寵物</td>\n",
       "      <td>130.0</td>\n",
       "      <td>1.0</td>\n",
       "      <td>13000.0</td>\n",
       "    </tr>\n",
       "    <tr>\n",
       "      <th>1</th>\n",
       "      <td>旅游不便险</td>\n",
       "      <td>110.0</td>\n",
       "      <td>9.0</td>\n",
       "      <td>1222.2</td>\n",
       "    </tr>\n",
       "    <tr>\n",
       "      <th>2</th>\n",
       "      <td>旅遊險 不便險</td>\n",
       "      <td>110.0</td>\n",
       "      <td>11.0</td>\n",
       "      <td>1000.0</td>\n",
       "    </tr>\n",
       "    <tr>\n",
       "      <th>3</th>\n",
       "      <td>國泰產險活動代碼</td>\n",
       "      <td>320.0</td>\n",
       "      <td>40.0</td>\n",
       "      <td>800.0</td>\n",
       "    </tr>\n",
       "    <tr>\n",
       "      <th>4</th>\n",
       "      <td>國泰bobe</td>\n",
       "      <td>280.0</td>\n",
       "      <td>37.0</td>\n",
       "      <td>756.8</td>\n",
       "    </tr>\n",
       "  </tbody>\n",
       "</table>\n",
       "</div>"
      ],
      "text/plain": [
       "    Keyword  Clicks  Avg_Volume      CTR\n",
       "0     國泰 寵物   130.0         1.0  13000.0\n",
       "1     旅游不便险   110.0         9.0   1222.2\n",
       "2   旅遊險 不便險   110.0        11.0   1000.0\n",
       "3  國泰產險活動代碼   320.0        40.0    800.0\n",
       "4    國泰bobe   280.0        37.0    756.8"
      ]
     },
     "execution_count": 78,
     "metadata": {},
     "output_type": "execute_result"
    }
   ],
   "source": [
    "df.reset_index(drop=True, inplace=True)\n",
    "df.head(5)"
   ]
  },
  {
   "cell_type": "code",
   "execution_count": 79,
   "metadata": {},
   "outputs": [],
   "source": [
    "kw_list = \"國泰\"\n",
    "if isinstance(kw_list, str):\n",
    "    kw_list = [kw_list] \n",
    "    pattern = '|'.join(kw_list)\n",
    "# print(pattern)\n",
    "\n",
    "yes_df = df.loc[df['Keyword'].str.contains(pattern, na=False, regex=True)]\n",
    "no_df = df.loc[~df['Keyword'].str.contains(pattern, na=False, regex=True)]\n"
   ]
  },
  {
   "cell_type": "code",
   "execution_count": 86,
   "metadata": {},
   "outputs": [
    {
     "name": "stdout",
     "output_type": "stream",
     "text": [
      "<class 'pandas.core.frame.DataFrame'>\n",
      "RangeIndex: 211 entries, 0 to 210\n",
      "Data columns (total 4 columns):\n",
      " #   Column      Non-Null Count  Dtype  \n",
      "---  ------      --------------  -----  \n",
      " 0   Keyword     211 non-null    object \n",
      " 1   Clicks      211 non-null    float64\n",
      " 2   Avg_Volume  211 non-null    float64\n",
      " 3   CTR         211 non-null    object \n",
      "dtypes: float64(2), object(2)\n",
      "memory usage: 6.7+ KB\n"
     ]
    },
    {
     "data": {
      "text/html": [
       "<div>\n",
       "<style scoped>\n",
       "    .dataframe tbody tr th:only-of-type {\n",
       "        vertical-align: middle;\n",
       "    }\n",
       "\n",
       "    .dataframe tbody tr th {\n",
       "        vertical-align: top;\n",
       "    }\n",
       "\n",
       "    .dataframe thead th {\n",
       "        text-align: right;\n",
       "    }\n",
       "</style>\n",
       "<table border=\"1\" class=\"dataframe\">\n",
       "  <thead>\n",
       "    <tr style=\"text-align: right;\">\n",
       "      <th></th>\n",
       "      <th>Keyword</th>\n",
       "      <th>Clicks</th>\n",
       "      <th>Avg_Volume</th>\n",
       "      <th>CTR</th>\n",
       "    </tr>\n",
       "  </thead>\n",
       "  <tbody>\n",
       "    <tr>\n",
       "      <th>0</th>\n",
       "      <td>國泰 寵物</td>\n",
       "      <td>130.0</td>\n",
       "      <td>1.0</td>\n",
       "      <td>13000.0%</td>\n",
       "    </tr>\n",
       "    <tr>\n",
       "      <th>1</th>\n",
       "      <td>國泰產險活動代碼</td>\n",
       "      <td>320.0</td>\n",
       "      <td>40.0</td>\n",
       "      <td>800.0%</td>\n",
       "    </tr>\n",
       "    <tr>\n",
       "      <th>2</th>\n",
       "      <td>國泰bobe</td>\n",
       "      <td>280.0</td>\n",
       "      <td>37.0</td>\n",
       "      <td>756.8%</td>\n",
       "    </tr>\n",
       "    <tr>\n",
       "      <th>3</th>\n",
       "      <td>國泰申根保險</td>\n",
       "      <td>320.0</td>\n",
       "      <td>44.0</td>\n",
       "      <td>727.3%</td>\n",
       "    </tr>\n",
       "    <tr>\n",
       "      <th>4</th>\n",
       "      <td>國泰產險客服</td>\n",
       "      <td>4130.0</td>\n",
       "      <td>603.0</td>\n",
       "      <td>684.9%</td>\n",
       "    </tr>\n",
       "  </tbody>\n",
       "</table>\n",
       "</div>"
      ],
      "text/plain": [
       "    Keyword  Clicks  Avg_Volume       CTR\n",
       "0     國泰 寵物   130.0         1.0  13000.0%\n",
       "1  國泰產險活動代碼   320.0        40.0    800.0%\n",
       "2    國泰bobe   280.0        37.0    756.8%\n",
       "3    國泰申根保險   320.0        44.0    727.3%\n",
       "4    國泰產險客服  4130.0       603.0    684.9%"
      ]
     },
     "execution_count": 86,
     "metadata": {},
     "output_type": "execute_result"
    }
   ],
   "source": [
    "yes_df.info()\n",
    "yes_df.reset_index(drop=True, inplace=True)\n",
    "yes_df.loc[:, \"CTR\"] = yes_df[\"CTR\"].apply(lambda x: str(x) + '%')\n",
    "# yes_df.drop(\"try\", axis=1, inplace=True)\n",
    "yes_df.head(5)"
   ]
  },
  {
   "cell_type": "code",
   "execution_count": 88,
   "metadata": {},
   "outputs": [
    {
     "name": "stdout",
     "output_type": "stream",
     "text": [
      "<class 'pandas.core.frame.DataFrame'>\n",
      "RangeIndex: 789 entries, 0 to 788\n",
      "Data columns (total 4 columns):\n",
      " #   Column      Non-Null Count  Dtype  \n",
      "---  ------      --------------  -----  \n",
      " 0   Keyword     789 non-null    object \n",
      " 1   Clicks      789 non-null    float64\n",
      " 2   Avg_Volume  789 non-null    float64\n",
      " 3   CTR         789 non-null    float64\n",
      "dtypes: float64(3), object(1)\n",
      "memory usage: 24.8+ KB\n"
     ]
    },
    {
     "data": {
      "text/html": [
       "<div>\n",
       "<style scoped>\n",
       "    .dataframe tbody tr th:only-of-type {\n",
       "        vertical-align: middle;\n",
       "    }\n",
       "\n",
       "    .dataframe tbody tr th {\n",
       "        vertical-align: top;\n",
       "    }\n",
       "\n",
       "    .dataframe thead th {\n",
       "        text-align: right;\n",
       "    }\n",
       "</style>\n",
       "<table border=\"1\" class=\"dataframe\">\n",
       "  <thead>\n",
       "    <tr style=\"text-align: right;\">\n",
       "      <th></th>\n",
       "      <th>Keyword</th>\n",
       "      <th>Clicks</th>\n",
       "      <th>Avg_Volume</th>\n",
       "      <th>CTR</th>\n",
       "    </tr>\n",
       "  </thead>\n",
       "  <tbody>\n",
       "    <tr>\n",
       "      <th>0</th>\n",
       "      <td>旅游不便险</td>\n",
       "      <td>110.0</td>\n",
       "      <td>9.0</td>\n",
       "      <td>1222.2%</td>\n",
       "    </tr>\n",
       "    <tr>\n",
       "      <th>1</th>\n",
       "      <td>旅遊險 不便險</td>\n",
       "      <td>110.0</td>\n",
       "      <td>11.0</td>\n",
       "      <td>1000.0%</td>\n",
       "    </tr>\n",
       "    <tr>\n",
       "      <th>2</th>\n",
       "      <td>汽車第三責任險費用</td>\n",
       "      <td>1980.0</td>\n",
       "      <td>407.0</td>\n",
       "      <td>486.5%</td>\n",
       "    </tr>\n",
       "    <tr>\n",
       "      <th>3</th>\n",
       "      <td>高意媗</td>\n",
       "      <td>120.0</td>\n",
       "      <td>35.0</td>\n",
       "      <td>342.9%</td>\n",
       "    </tr>\n",
       "    <tr>\n",
       "      <th>4</th>\n",
       "      <td>日本滑雪地圖</td>\n",
       "      <td>80.0</td>\n",
       "      <td>24.0</td>\n",
       "      <td>333.3%</td>\n",
       "    </tr>\n",
       "  </tbody>\n",
       "</table>\n",
       "</div>"
      ],
      "text/plain": [
       "     Keyword  Clicks  Avg_Volume      CTR\n",
       "0      旅游不便险   110.0         9.0  1222.2%\n",
       "1    旅遊險 不便險   110.0        11.0  1000.0%\n",
       "2  汽車第三責任險費用  1980.0       407.0   486.5%\n",
       "3        高意媗   120.0        35.0   342.9%\n",
       "4     日本滑雪地圖    80.0        24.0   333.3%"
      ]
     },
     "execution_count": 88,
     "metadata": {},
     "output_type": "execute_result"
    }
   ],
   "source": [
    "no_df.info()\n",
    "no_df.reset_index(drop=True, inplace=True)\n",
    "no_df.loc[:, \"CTR\"] = no_df[\"CTR\"].apply(lambda x: str(x) + '%')\n",
    "no_df.head(5)"
   ]
  },
  {
   "cell_type": "code",
   "execution_count": 95,
   "metadata": {},
   "outputs": [],
   "source": [
    "def save_to_excel(path, df, brandname):\n",
    "    try:\n",
    "        with pd.ExcelWriter(path, mode='a') as writer:\n",
    "            df.to_excel(writer, sheet_name=brandname, index=False)\n",
    "    except FileNotFoundError:\n",
    "        print(\"No file existed, Creating a new file right away...\")\n",
    "        df.to_excel(path, sheet_name=brandname, index=False)\n",
    "    else:\n",
    "        print(\"Done!\")\n",
    "        "
   ]
  },
  {
   "cell_type": "code",
   "execution_count": 96,
   "metadata": {},
   "outputs": [
    {
     "name": "stdout",
     "output_type": "stream",
     "text": [
      "No file existed, Creating a new file right away...\n"
     ]
    }
   ],
   "source": [
    "save_to_excel(\"With_Brandname_CTR.xlsx\", yes_df, \"國泰\")"
   ]
  }
 ],
 "metadata": {
  "kernelspec": {
   "display_name": "base",
   "language": "python",
   "name": "python3"
  },
  "language_info": {
   "codemirror_mode": {
    "name": "ipython",
    "version": 3
   },
   "file_extension": ".py",
   "mimetype": "text/x-python",
   "name": "python",
   "nbconvert_exporter": "python",
   "pygments_lexer": "ipython3",
   "version": "3.11.5"
  }
 },
 "nbformat": 4,
 "nbformat_minor": 2
}
