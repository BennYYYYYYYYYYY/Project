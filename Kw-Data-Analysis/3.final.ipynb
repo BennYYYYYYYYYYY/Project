{
 "cells": [
  {
   "cell_type": "code",
   "execution_count": null,
   "metadata": {},
   "outputs": [],
   "source": [
    "# !pip install import-ipynb\n",
    "import import_ipynb\n",
    "import def_func as benny"
   ]
  },
  {
   "cell_type": "markdown",
   "metadata": {},
   "source": [
    "# 大成 code"
   ]
  },
  {
   "cell_type": "code",
   "execution_count": 5,
   "metadata": {},
   "outputs": [],
   "source": [
    "def final_paid_code(path, kw_list, brandname):\n",
    "    df = benny.read_excel(path)\n",
    "    three_df = benny.to_three_df(df)\n",
    "    df = benny.str_to_zero(three_df)\n",
    "    kw_df, no_kw_df = benny.group_by_kw(df, kw_list)\n",
    "    benny.paid_to_excel(brandname, kw_df, no_kw_df)\n",
    "\n",
    "\n",
    "def final_organic_code(path, kw_list, brandname):\n",
    "    df = benny.read_excel(path)\n",
    "    three_df = benny.to_three_df(df)\n",
    "    df = benny.str_to_zero(three_df)\n",
    "    kw_df, no_kw_df = benny.group_by_kw(df, kw_list)\n",
    "    benny.organic_to_excel(brandname, kw_df, no_kw_df)\n"
   ]
  },
  {
   "cell_type": "markdown",
   "metadata": {},
   "source": [
    "## 3. 明台paid"
   ]
  },
  {
   "cell_type": "code",
   "execution_count": 2,
   "metadata": {},
   "outputs": [
    {
     "name": "stdout",
     "output_type": "stream",
     "text": [
      "Index(['关键词', '点击量', 'Traffic ', '变动', '28 天的体量', '流量变化', '桌面端份额', '移动端份额',\n",
      "       '竞争', '意图', '平均体量', 'CPC', '零点击', '热门网址', 'SERP Features'],\n",
      "      dtype='object')\n",
      "<class 'pandas.core.frame.DataFrame'>\n",
      "RangeIndex: 90 entries, 0 to 89\n",
      "Data columns (total 3 columns):\n",
      " #   Column   Non-Null Count  Dtype \n",
      "---  ------   --------------  ----- \n",
      " 0   Keyword  90 non-null     object\n",
      " 1   Clicks   90 non-null     object\n",
      " 2   Website  90 non-null     object\n",
      "dtypes: object(3)\n",
      "memory usage: 2.2+ KB\n",
      "None\n",
      "Unique value: ['<50' '0'], Non int value to zero counts: 41\n",
      "<class 'pandas.core.frame.DataFrame'>\n",
      "RangeIndex: 90 entries, 0 to 89\n",
      "Data columns (total 3 columns):\n",
      " #   Column   Non-Null Count  Dtype \n",
      "---  ------   --------------  ----- \n",
      " 0   Keyword  90 non-null     object\n",
      " 1   Clicks   90 non-null     int64 \n",
      " 2   Website  90 non-null     object\n",
      "dtypes: int64(1), object(2)\n",
      "memory usage: 2.2+ KB\n",
      "文件保存成功！\n"
     ]
    }
   ],
   "source": [
    "df = benny.read_excel(r\"C:\\Users\\user\\Desktop\\Python\\Martech\\Python關鍵字分析\\new_folder\\3_ msig-mingtai(2024_08_05-2024_09_01) .xlsx\")\n",
    "three_df = benny.to_three_df(df)\n",
    "df = benny.str_to_zero(three_df)\n",
    "kw_df, no_kw_df = benny.group_by_kw(df, kw_list=[\"明台\",\"名台\"])\n",
    "benny.paid_to_excel(\"明台\", kw_df, no_kw_df)"
   ]
  },
  {
   "cell_type": "markdown",
   "metadata": {},
   "source": [
    "## 4. 明台organic"
   ]
  },
  {
   "cell_type": "code",
   "execution_count": 6,
   "metadata": {},
   "outputs": [
    {
     "name": "stdout",
     "output_type": "stream",
     "text": [
      "Index(['关键词', '点击量', 'Traffic ', '变动', '28 天的体量', '流量变化', '桌面端份额', '移动端份额',\n",
      "       'KD', '意图', '平均体量', 'CPC', '零点击', '热门网址', 'SERP Features'],\n",
      "      dtype='object')\n",
      "<class 'pandas.core.frame.DataFrame'>\n",
      "RangeIndex: 1000 entries, 0 to 999\n",
      "Data columns (total 3 columns):\n",
      " #   Column   Non-Null Count  Dtype \n",
      "---  ------   --------------  ----- \n",
      " 0   Keyword  1000 non-null   object\n",
      " 1   Clicks   1000 non-null   object\n",
      " 2   Website  1000 non-null   object\n",
      "dtypes: object(3)\n",
      "memory usage: 23.6+ KB\n",
      "None\n",
      "Unique value: ['<50' '0'], Non int value to zero counts: 721\n",
      "<class 'pandas.core.frame.DataFrame'>\n",
      "RangeIndex: 1000 entries, 0 to 999\n",
      "Data columns (total 3 columns):\n",
      " #   Column   Non-Null Count  Dtype \n",
      "---  ------   --------------  ----- \n",
      " 0   Keyword  1000 non-null   object\n",
      " 1   Clicks   1000 non-null   int64 \n",
      " 2   Website  1000 non-null   object\n",
      "dtypes: int64(1), object(2)\n",
      "memory usage: 23.6+ KB\n",
      "文件保存成功！\n"
     ]
    }
   ],
   "source": [
    "path = r\"C:\\Users\\user\\Desktop\\Python\\Martech\\Python關鍵字分析\\new_folder\\4_ msig-mingtai(2024_08_05-2024_09_01).xlsx\"\n",
    "kw_list = [\"明台\",\"名台\"]\n",
    "brandname = \"明台\"\n",
    "\n",
    "final_organic_code(path, kw_list, brandname)"
   ]
  },
  {
   "cell_type": "markdown",
   "metadata": {},
   "source": [
    "## 5. 新光paid"
   ]
  },
  {
   "cell_type": "code",
   "execution_count": 7,
   "metadata": {},
   "outputs": [
    {
     "name": "stdout",
     "output_type": "stream",
     "text": [
      "Index(['关键词', '点击量', 'Traffic ', '变动', '28 天的体量', '流量变化', '桌面端份额', '移动端份额',\n",
      "       '竞争', '意图', 'sk858.com.tw', 'cathay-ins.com.tw', 'tmnewa.com.tw',\n",
      "       'wwunion.com', 'tfmi.com.tw', '平均体量', 'CPC', '零点击', '热门网址',\n",
      "       'sk858.com.tw Serp Features', 'cathay-ins.com.tw Serp Features',\n",
      "       'tmnewa.com.tw Serp Features', 'wwunion.com Serp Features',\n",
      "       'tfmi.com.tw Serp Features', 'sk858.com.tw Top Url',\n",
      "       'cathay-ins.com.tw Top Url', 'tmnewa.com.tw Top Url',\n",
      "       'wwunion.com Top Url', 'tfmi.com.tw Top Url'],\n",
      "      dtype='object')\n",
      "<class 'pandas.core.frame.DataFrame'>\n",
      "RangeIndex: 588 entries, 0 to 587\n",
      "Data columns (total 3 columns):\n",
      " #   Column   Non-Null Count  Dtype \n",
      "---  ------   --------------  ----- \n",
      " 0   Keyword  588 non-null    object\n",
      " 1   Clicks   588 non-null    object\n",
      " 2   Website  588 non-null    object\n",
      "dtypes: object(3)\n",
      "memory usage: 13.9+ KB\n",
      "None\n",
      "Unique value: ['<50' '0'], Non int value to zero counts: 272\n",
      "<class 'pandas.core.frame.DataFrame'>\n",
      "RangeIndex: 588 entries, 0 to 587\n",
      "Data columns (total 3 columns):\n",
      " #   Column   Non-Null Count  Dtype \n",
      "---  ------   --------------  ----- \n",
      " 0   Keyword  588 non-null    object\n",
      " 1   Clicks   588 non-null    int64 \n",
      " 2   Website  588 non-null    object\n",
      "dtypes: int64(1), object(2)\n",
      "memory usage: 13.9+ KB\n",
      "文件保存成功！\n"
     ]
    }
   ],
   "source": [
    "path = r\"C:\\Users\\user\\Desktop\\Python\\Martech\\Python關鍵字分析\\new_folder\\5_ sk858_cathay-ins_tmnewa_wwunion.com_tfmi(2024_08_05-2024_09_01) .xlsx\"\n",
    "kw_list = [\"新光\"]\n",
    "brandname = \"新光\"\n",
    "final_paid_code(path, kw_list, brandname)\n"
   ]
  },
  {
   "cell_type": "markdown",
   "metadata": {},
   "source": [
    "## 6. 新光organic"
   ]
  },
  {
   "cell_type": "code",
   "execution_count": 8,
   "metadata": {},
   "outputs": [
    {
     "name": "stdout",
     "output_type": "stream",
     "text": [
      "Index(['关键词', '点击量', 'Traffic ', '变动', '28 天的体量', '流量变化', '桌面端份额', '移动端份额',\n",
      "       'KD', '意图', 'sk858.com.tw', 'cathay-ins.com.tw', 'tmnewa.com.tw',\n",
      "       'wwunion.com', 'tfmi.com.tw', '平均体量', 'CPC', '零点击', '热门网址',\n",
      "       'sk858.com.tw Serp Features', 'cathay-ins.com.tw Serp Features',\n",
      "       'tmnewa.com.tw Serp Features', 'wwunion.com Serp Features',\n",
      "       'tfmi.com.tw Serp Features', 'sk858.com.tw Top Url',\n",
      "       'cathay-ins.com.tw Top Url', 'tmnewa.com.tw Top Url',\n",
      "       'wwunion.com Top Url', 'tfmi.com.tw Top Url'],\n",
      "      dtype='object')\n",
      "<class 'pandas.core.frame.DataFrame'>\n",
      "RangeIndex: 1000 entries, 0 to 999\n",
      "Data columns (total 3 columns):\n",
      " #   Column   Non-Null Count  Dtype \n",
      "---  ------   --------------  ----- \n",
      " 0   Keyword  1000 non-null   object\n",
      " 1   Clicks   1000 non-null   object\n",
      " 2   Website  1000 non-null   object\n",
      "dtypes: object(3)\n",
      "memory usage: 23.6+ KB\n",
      "None\n",
      "Unique value: ['<50'], Non int value to zero counts: 162\n",
      "<class 'pandas.core.frame.DataFrame'>\n",
      "RangeIndex: 1000 entries, 0 to 999\n",
      "Data columns (total 3 columns):\n",
      " #   Column   Non-Null Count  Dtype \n",
      "---  ------   --------------  ----- \n",
      " 0   Keyword  1000 non-null   object\n",
      " 1   Clicks   1000 non-null   int64 \n",
      " 2   Website  1000 non-null   object\n",
      "dtypes: int64(1), object(2)\n",
      "memory usage: 23.6+ KB\n",
      "文件保存成功！\n"
     ]
    }
   ],
   "source": [
    "path = r\"C:\\Users\\user\\Desktop\\Python\\Martech\\Python關鍵字分析\\new_folder\\6_ sk858_cathay-ins_tmnewa_wwunion.com_tfmi(2024_08_05-2024_09_01).xlsx\"\n",
    "kw_list = [\"新光\"]\n",
    "brandname = \"新光\"\n",
    "final_organic_code(path, kw_list, brandname)"
   ]
  },
  {
   "cell_type": "markdown",
   "metadata": {},
   "source": [
    "## 7. 台灣產物paid"
   ]
  },
  {
   "cell_type": "code",
   "execution_count": 9,
   "metadata": {},
   "outputs": [
    {
     "name": "stdout",
     "output_type": "stream",
     "text": [
      "Index(['关键词', '点击量', 'Traffic ', '变动', '28 天的体量', '流量变化', '桌面端份额', '移动端份额',\n",
      "       '竞争', '意图', '平均体量', 'CPC', '零点击', '热门网址', 'SERP Features'],\n",
      "      dtype='object')\n",
      "<class 'pandas.core.frame.DataFrame'>\n",
      "RangeIndex: 78 entries, 0 to 77\n",
      "Data columns (total 3 columns):\n",
      " #   Column   Non-Null Count  Dtype \n",
      "---  ------   --------------  ----- \n",
      " 0   Keyword  78 non-null     object\n",
      " 1   Clicks   78 non-null     object\n",
      " 2   Website  78 non-null     object\n",
      "dtypes: object(3)\n",
      "memory usage: 2.0+ KB\n",
      "None\n",
      "Unique value: ['<50' '0'], Non int value to zero counts: 37\n",
      "<class 'pandas.core.frame.DataFrame'>\n",
      "RangeIndex: 78 entries, 0 to 77\n",
      "Data columns (total 3 columns):\n",
      " #   Column   Non-Null Count  Dtype \n",
      "---  ------   --------------  ----- \n",
      " 0   Keyword  78 non-null     object\n",
      " 1   Clicks   78 non-null     int64 \n",
      " 2   Website  78 non-null     object\n",
      "dtypes: int64(1), object(2)\n",
      "memory usage: 2.0+ KB\n",
      "文件保存成功！\n"
     ]
    }
   ],
   "source": [
    "path = r\"C:\\Users\\user\\Desktop\\Python\\Martech\\Python關鍵字分析\\new_folder\\7_ tfmi(2024_08_05-2024_09_01) .xlsx\"\n",
    "kw_list = [\"台灣產物\"]\n",
    "brandname = \"台灣產物\"\n",
    "final_paid_code(path, kw_list, brandname)"
   ]
  },
  {
   "cell_type": "markdown",
   "metadata": {},
   "source": [
    "## 8. 台灣產物organic"
   ]
  },
  {
   "cell_type": "code",
   "execution_count": 10,
   "metadata": {},
   "outputs": [
    {
     "name": "stdout",
     "output_type": "stream",
     "text": [
      "Index(['关键词', '点击量', 'Traffic ', '变动', '28 天的体量', '流量变化', '桌面端份额', '移动端份额',\n",
      "       'KD', '意图', '平均体量', 'CPC', '零点击', '热门网址', 'SERP Features'],\n",
      "      dtype='object')\n",
      "<class 'pandas.core.frame.DataFrame'>\n",
      "RangeIndex: 1000 entries, 0 to 999\n",
      "Data columns (total 3 columns):\n",
      " #   Column   Non-Null Count  Dtype \n",
      "---  ------   --------------  ----- \n",
      " 0   Keyword  1000 non-null   object\n",
      " 1   Clicks   1000 non-null   object\n",
      " 2   Website  1000 non-null   object\n",
      "dtypes: object(3)\n",
      "memory usage: 23.6+ KB\n",
      "None\n",
      "Unique value: ['<50' '0'], Non int value to zero counts: 832\n",
      "<class 'pandas.core.frame.DataFrame'>\n",
      "RangeIndex: 1000 entries, 0 to 999\n",
      "Data columns (total 3 columns):\n",
      " #   Column   Non-Null Count  Dtype \n",
      "---  ------   --------------  ----- \n",
      " 0   Keyword  1000 non-null   object\n",
      " 1   Clicks   1000 non-null   int64 \n",
      " 2   Website  1000 non-null   object\n",
      "dtypes: int64(1), object(2)\n",
      "memory usage: 23.6+ KB\n",
      "文件保存成功！\n"
     ]
    }
   ],
   "source": [
    "path = r\"C:\\Users\\user\\Desktop\\Python\\Martech\\Python關鍵字分析\\new_folder\\8_ tfmi(2024_08_05-2024_09_01).xlsx\"\n",
    "kw_list = [\"台灣產物\"]\n",
    "brandname = \"台灣產物\"\n",
    "final_organic_code(path, kw_list, brandname)"
   ]
  },
  {
   "cell_type": "markdown",
   "metadata": {},
   "source": [
    "## 9. 新安東京海上paid"
   ]
  },
  {
   "cell_type": "code",
   "execution_count": 11,
   "metadata": {},
   "outputs": [
    {
     "name": "stdout",
     "output_type": "stream",
     "text": [
      "Index(['关键词', '点击量', 'Traffic ', '变动', '28 天的体量', '流量变化', '桌面端份额', '移动端份额',\n",
      "       '竞争', '意图', '平均体量', 'CPC', '零点击', '热门网址', 'SERP Features'],\n",
      "      dtype='object')\n",
      "<class 'pandas.core.frame.DataFrame'>\n",
      "RangeIndex: 197 entries, 0 to 196\n",
      "Data columns (total 3 columns):\n",
      " #   Column   Non-Null Count  Dtype \n",
      "---  ------   --------------  ----- \n",
      " 0   Keyword  197 non-null    object\n",
      " 1   Clicks   197 non-null    object\n",
      " 2   Website  197 non-null    object\n",
      "dtypes: object(3)\n",
      "memory usage: 4.7+ KB\n",
      "None\n",
      "Unique value: ['<50' '0'], Non int value to zero counts: 98\n",
      "<class 'pandas.core.frame.DataFrame'>\n",
      "RangeIndex: 197 entries, 0 to 196\n",
      "Data columns (total 3 columns):\n",
      " #   Column   Non-Null Count  Dtype \n",
      "---  ------   --------------  ----- \n",
      " 0   Keyword  197 non-null    object\n",
      " 1   Clicks   197 non-null    int64 \n",
      " 2   Website  197 non-null    object\n",
      "dtypes: int64(1), object(2)\n",
      "memory usage: 4.7+ KB\n",
      "文件保存成功！\n"
     ]
    }
   ],
   "source": [
    "path = r\"C:\\Users\\user\\Desktop\\Python\\Martech\\Python關鍵字分析\\new_folder\\9_ tmnewa(2024_08_05-2024_09_01) .xlsx\"\n",
    "kw_list = [\"新安東京\", \"新東安\", \"新東京\"]\n",
    "brandname = \"新安東京\"\n",
    "final_paid_code(path, kw_list, brandname)"
   ]
  },
  {
   "cell_type": "markdown",
   "metadata": {},
   "source": [
    "## 10. 新安東京海上organic"
   ]
  },
  {
   "cell_type": "code",
   "execution_count": 12,
   "metadata": {},
   "outputs": [
    {
     "name": "stdout",
     "output_type": "stream",
     "text": [
      "Index(['关键词', '点击量', 'Traffic ', '变动', '28 天的体量', '流量变化', '桌面端份额', '移动端份额',\n",
      "       'KD', '意图', '平均体量', 'CPC', '零点击', '热门网址', 'SERP Features'],\n",
      "      dtype='object')\n",
      "<class 'pandas.core.frame.DataFrame'>\n",
      "RangeIndex: 1000 entries, 0 to 999\n",
      "Data columns (total 3 columns):\n",
      " #   Column   Non-Null Count  Dtype \n",
      "---  ------   --------------  ----- \n",
      " 0   Keyword  1000 non-null   object\n",
      " 1   Clicks   1000 non-null   object\n",
      " 2   Website  1000 non-null   object\n",
      "dtypes: object(3)\n",
      "memory usage: 23.6+ KB\n",
      "None\n",
      "Unique value: ['<50' '0'], Non int value to zero counts: 713\n",
      "<class 'pandas.core.frame.DataFrame'>\n",
      "RangeIndex: 1000 entries, 0 to 999\n",
      "Data columns (total 3 columns):\n",
      " #   Column   Non-Null Count  Dtype \n",
      "---  ------   --------------  ----- \n",
      " 0   Keyword  1000 non-null   object\n",
      " 1   Clicks   1000 non-null   int64 \n",
      " 2   Website  1000 non-null   object\n",
      "dtypes: int64(1), object(2)\n",
      "memory usage: 23.6+ KB\n",
      "文件保存成功！\n"
     ]
    }
   ],
   "source": [
    "path = r\"C:\\Users\\user\\Desktop\\Python\\Martech\\Python關鍵字分析\\new_folder\\10_ tmnewa(2024_08_05-2024_09_01).xlsx\"\n",
    "kw_list = [\"新安東京\", \"新東安\", \"新東京\"]\n",
    "brandname = \"新安東京\"\n",
    "final_organic_code(path, kw_list, brandname)"
   ]
  },
  {
   "cell_type": "code",
   "execution_count": 1,
   "metadata": {},
   "outputs": [
    {
     "name": "stdout",
     "output_type": "stream",
     "text": [
      "['Sheet1', '國泰_有國泰', '國泰_沒國泰', '明台_有明台', '明台_沒明台', '新光_有新光', '新光_沒新光', '台灣產物_有台灣產物', '台灣產物_沒台灣產物', '新安東京_有新安東京', '新安東京_沒新安東京']\n"
     ]
    }
   ],
   "source": [
    "# Organic\n",
    "\n",
    "import pandas as pd\n",
    "import os\n",
    "\n",
    "path = r\"C:\\Users\\user\\Desktop\\Python\\Martech\\Python關鍵字分析\\organic_all_data.xlsx\"\n",
    "yes_path = \"organic_with_brandname.xlsx\"\n",
    "no_path = \"organic_no_brandname.xlsx\"\n",
    "\n",
    "\n",
    "f = pd.ExcelFile(path)\n",
    "print(f.sheet_names)  \n",
    "\n",
    "counter = 1\n",
    "for sheet_name in f.sheet_names:\n",
    "    df = f.parse(sheet_name=sheet_name)\n",
    "    if counter % 2 == 1:  \n",
    "        if not os.path.exists(no_path):\n",
    "            df.to_excel(no_path, sheet_name=sheet_name, index=False)\n",
    "        else:\n",
    "            with pd.ExcelWriter(no_path, mode=\"a\", engine=\"openpyxl\") as writer:\n",
    "                df.to_excel(writer, sheet_name=sheet_name, index=False)\n",
    "    else:\n",
    "        if not os.path.exists(yes_path):\n",
    "            df.to_excel(yes_path, sheet_name=sheet_name, index=False)\n",
    "        else: \n",
    "            with pd.ExcelWriter(yes_path, mode=\"a\", engine=\"openpyxl\") as writer:\n",
    "                df.to_excel(writer, sheet_name=sheet_name, index=False)\n",
    "    \n",
    "    counter += 1\n",
    "\n",
    "\n"
   ]
  },
  {
   "cell_type": "code",
   "execution_count": 2,
   "metadata": {},
   "outputs": [],
   "source": [
    "org_path = r\"C:\\Users\\user\\Desktop\\Python\\Martech\\Python關鍵字分析\\organic_all_data.xlsx\"\n",
    "path_yes = r\"C:\\Users\\user\\Desktop\\Python\\Martech\\Python關鍵字分析\\organic_with_brandname.xlsx\"\n",
    "path_no = r\"C:\\Users\\user\\Desktop\\Python\\Martech\\Python關鍵字分析\\organic_no_brandname.xlsx\"\n",
    "\n",
    "f = pd.ExcelFile(org_path)\n",
    "df = f.parse(sheet_name=0)\n",
    "df.columns\n",
    "no_df = df.iloc[:,[1,3,5,7,9]]\n",
    "yes_df = df.iloc[:,[0,2,4,6,8]]\n",
    "with pd.ExcelWriter(path_no, mode=\"a\", if_sheet_exists=\"overlay\") as writer:\n",
    "    no_df.to_excel(writer, sheet_name=\"比較前五\", index=False)\n",
    "with pd.ExcelWriter(path_yes, mode=\"a\", if_sheet_exists=\"overlay\") as writer:\n",
    "    yes_df.to_excel(writer, sheet_name=\"比較前五\", index=False)\n",
    "\n"
   ]
  },
  {
   "cell_type": "code",
   "execution_count": 16,
   "metadata": {},
   "outputs": [
    {
     "name": "stdout",
     "output_type": "stream",
     "text": [
      "['Sheet1', '國泰paid_沒國泰', '國泰paid_有國泰', '明台paid_有明台', '明台paid_沒明台', '新光paid_有新光', '新光paid_沒新光', '台灣產物paid_有台灣產物', '台灣產物paid_沒台灣產物', '新安東京paid_有新安東京', '新安東京paid_沒新安東京']\n"
     ]
    }
   ],
   "source": [
    "# paid\n",
    "\n",
    "import pandas as pd\n",
    "import os\n",
    "\n",
    "path = r\"C:\\Users\\user\\Desktop\\Python\\Martech\\Python關鍵字分析\\paid_all_data.xlsx\"\n",
    "output_path1 = \"paid_with_brandname.xlsx\"\n",
    "output_path2 = \"paid_no_brandname.xlsx\"\n",
    "\n",
    "\n",
    "f = pd.ExcelFile(path)\n",
    "print(f.sheet_names)  \n",
    "\n",
    "group1_indices = [2, 3, 5, 7, 9] \n",
    "group2_indices = [1, 4, 6, 8, 10] \n",
    "\n",
    "\n",
    "counter = 1\n",
    "\n",
    "for i, sheet_name in enumerate(f.sheet_names):\n",
    "    df = f.parse(sheet_name=sheet_name)\n",
    "    \n",
    "    if i in group1_indices:  \n",
    "        if not os.path.exists(output_path1):\n",
    "            df.to_excel(output_path1, sheet_name=sheet_name, index=False)\n",
    "        else:\n",
    "            with pd.ExcelWriter(output_path1, mode=\"a\", engine=\"openpyxl\") as writer:\n",
    "                df.to_excel(writer, sheet_name=sheet_name, index=False)\n",
    "    \n",
    "    elif i in group2_indices:  \n",
    "        if not os.path.exists(output_path2):\n",
    "            df.to_excel(output_path2, sheet_name=sheet_name, index=False)\n",
    "        else:\n",
    "            with pd.ExcelWriter(output_path2, mode=\"a\", engine=\"openpyxl\") as writer:\n",
    "                df.to_excel(writer, sheet_name=sheet_name, index=False)\n",
    "\n",
    "        counter += 1\n",
    "\n",
    "\n"
   ]
  },
  {
   "cell_type": "code",
   "execution_count": 29,
   "metadata": {},
   "outputs": [],
   "source": [
    "paid_path = r\"C:\\Users\\user\\Desktop\\Python\\Martech\\Python關鍵字分析\\paid_all_data.xlsx\"\n",
    "f = pd.ExcelFile(path)\n",
    "path_yes = r\"C:\\Users\\user\\Desktop\\Python\\Martech\\Python關鍵字分析\\paid_with_brandname.xlsx\"\n",
    "path_no = r\"C:\\Users\\user\\Desktop\\Python\\Martech\\Python關鍵字分析\\paid_no_brandname.xlsx\"\n",
    "\n",
    "df = f.parse(sheet_name=0)\n",
    "df.columns\n",
    "no_df = df.iloc[:,[0,3,5,7,9]]\n",
    "yes_df = df.iloc[:,[1,2,4,6,8]]\n",
    "with pd.ExcelWriter(path_no, mode=\"a\", if_sheet_exists=\"overlay\") as writer:\n",
    "    no_df.to_excel(writer, sheet_name=\"比較前五\", index=False)\n",
    "with pd.ExcelWriter(path_yes, mode=\"a\", if_sheet_exists=\"overlay\") as writer:\n",
    "    yes_df.to_excel(writer, sheet_name=\"比較前五\", index=False)\n",
    "\n"
   ]
  }
 ],
 "metadata": {
  "kernelspec": {
   "display_name": "base",
   "language": "python",
   "name": "python3"
  },
  "language_info": {
   "codemirror_mode": {
    "name": "ipython",
    "version": 3
   },
   "file_extension": ".py",
   "mimetype": "text/x-python",
   "name": "python",
   "nbconvert_exporter": "python",
   "pygments_lexer": "ipython3",
   "version": "3.11.5"
  }
 },
 "nbformat": 4,
 "nbformat_minor": 2
}
