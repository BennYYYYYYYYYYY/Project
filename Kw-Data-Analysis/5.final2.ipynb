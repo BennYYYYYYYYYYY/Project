{
 "cells": [
  {
   "cell_type": "code",
   "execution_count": 1,
   "metadata": {},
   "outputs": [],
   "source": [
    "import def_func2 as benny"
   ]
  },
  {
   "cell_type": "code",
   "execution_count": 2,
   "metadata": {},
   "outputs": [],
   "source": [
    "brandname_list = [\"國泰\",\"明台\",\"新光\",\"台灣產物\",\"新安東京\"]\n",
    "paid_folder = r\"C:\\Users\\user\\Desktop\\Python\\Martech\\Python關鍵字分析\\paid\"\n",
    "organic_folder = r\"C:\\Users\\user\\Desktop\\Python\\Martech\\Python關鍵字分析\\organic\""
   ]
  },
  {
   "cell_type": "code",
   "execution_count": 3,
   "metadata": {},
   "outputs": [
    {
     "name": "stdout",
     "output_type": "stream",
     "text": [
      "No file existed, Creating a new file right away...\n",
      "No file existed, Creating a new file right away...\n",
      "processing...\n",
      "processing..\n",
      "processing...\n",
      "processing..\n",
      "processing...\n",
      "processing..\n",
      "processing...\n",
      "processing..\n",
      "Done!!!!\n",
      "No file existed, Creating a new file right away...\n",
      "No file existed, Creating a new file right away...\n",
      "processing...\n",
      "processing..\n",
      "processing...\n",
      "processing..\n",
      "processing...\n",
      "processing..\n",
      "processing...\n",
      "processing..\n",
      "Done!!!!\n"
     ]
    }
   ],
   "source": [
    "benny.organic_data_analysis(organic_folder, brandname_list)\n",
    "benny.paid_data_analysis(organic_folder, brandname_list)"
   ]
  }
 ],
 "metadata": {
  "kernelspec": {
   "display_name": "base",
   "language": "python",
   "name": "python3"
  },
  "language_info": {
   "codemirror_mode": {
    "name": "ipython",
    "version": 3
   },
   "file_extension": ".py",
   "mimetype": "text/x-python",
   "name": "python",
   "nbconvert_exporter": "python",
   "pygments_lexer": "ipython3",
   "version": "3.11.5"
  }
 },
 "nbformat": 4,
 "nbformat_minor": 2
}
