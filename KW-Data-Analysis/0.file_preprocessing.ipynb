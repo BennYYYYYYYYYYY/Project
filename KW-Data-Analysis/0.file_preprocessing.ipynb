{
 "cells": [
  {
   "cell_type": "markdown",
   "metadata": {},
   "source": [
    "### 處理檔案名稱\n",
    "奇數: 代表paid<br>\n",
    "偶數: 代表organic"
   ]
  },
  {
   "cell_type": "code",
   "execution_count": 1,
   "metadata": {},
   "outputs": [],
   "source": [
    "from pathlib import Path\n",
    "import pandas as pd\n",
    "\n",
    "# 抓資料夾內各excel的path\n",
    "def get_dir_path(folder_path):\n",
    "    '''\n",
    "    將指定資料夾內檔案路徑全部放進list中。\n",
    "\n",
    "    :param folder_path: 希望開啟資料夾之路徑。\n",
    "    '''\n",
    "    pathlib_Path_object = Path(folder_path)  # return Path object\n",
    "\n",
    "    # .iterdir() 遍歷 Path object 路徑下的所有項目(包括檔案和子資料夾)。返回的 f 為 Path object(即為路徑)，若不須path可用 f.name。\n",
    "    file_list = [f for f in pathlib_Path_object.iterdir() if f.is_file()]\n",
    "    print(f\"There are {len(file_list)} files here.\")\n",
    "    \n",
    "    for idx, file in enumerate(file_list):\n",
    "        print(f\"{idx+1}: {file}\")\n",
    "    \n",
    "    return list(enumerate(file_list))\n",
    "\n",
    "\n",
    "# 清理Excel\n",
    "def excel_clean(input_excel, path_replacements=None, output_folder=\"New_folder\"):\n",
    "    \"\"\"\n",
    "    將Excel檔案名部分刪除，選擇工作表二，輸出成新excel檔案，並放入新資料夾中。\n",
    "\n",
    "    :param input_excel: Excel 檔案的路徑。\n",
    "    :param path_replacements: dictionary，{要替換的字串:替換值}。替換 output_path。\n",
    "    :param output_folder: str，輸出資料夾的路徑。\n",
    "    \"\"\"\n",
    "    ExcelFile_object = pd.ExcelFile(input_excel) # pandas.ExcelFile object\n",
    "    df = ExcelFile_object.parse(sheet_name=1)  # 讀取工作表 2\n",
    "\n",
    "    # default output path\n",
    "    output_excel = str(input_excel)\n",
    "\n",
    "    # 如果有指定替換字串，進行替換\n",
    "    if path_replacements is not None:   \n",
    "        for old_str, new_str in path_replacements.items():\n",
    "            output_excel = output_excel.replace(old_str, new_str)\n",
    "\n",
    "    # 如果指定了 output_folder，則將檔案放入該資料夾\n",
    "    if output_folder is not None:\n",
    "        output_folder_path_object = Path(output_folder)\n",
    "        output_folder_path_object.mkdir(parents=True, exist_ok=True)  # 如果資料夾不存在則創建，parents參數會遞迴創建必要的父資料夾。\n",
    "        output_excel = output_folder_path_object / Path(output_excel).name  # 將檔案放入資料夾中，/ 是 pathlib 提供的操作符，用來連接路徑部分。\n",
    "\n",
    "    return output_excel, df, input_excel\n",
    "\n",
    "\n",
    "def main(folder_path, path_replacements=None, output_folder=\"New_folder\"):\n",
    "    files_with_index = get_dir_path(folder_path)\n",
    "\n",
    "\n",
    "    for idx, file in files_with_index:\n",
    "        output_excel, df, input_excel = excel_clean(file, path_replacements, output_folder)\n",
    "\n",
    "        # 將索引加到輸出的檔案名稱前面\n",
    "        final_output = f\"{output_folder}/{idx+1}_{Path(output_excel).name}\"\n",
    "\n",
    "        df.to_excel(final_output, index=False)\n",
    "        \n"
   ]
  },
  {
   "cell_type": "markdown",
   "metadata": {},
   "source": [
    "# run\n"
   ]
  },
  {
   "cell_type": "code",
   "execution_count": null,
   "metadata": {},
   "outputs": [],
   "source": [
    "folder_path = r\"C:\\Users\\user\\Desktop\\Python\\Martech\\test\"\n",
    "\n",
    "path_replacements = {\n",
    "    \"Website\": \"\",\n",
    "    \"Keywords-\":\"\",\n",
    "    \".com.tw\":\"\", \n",
    "    \"-(999)-\":\"\",\n",
    "    \"(1)\":\"\"\n",
    "}\n",
    "\n",
    "main(folder_path, path_replacements)"
   ]
  }
 ],
 "metadata": {
  "kernelspec": {
   "display_name": "base",
   "language": "python",
   "name": "python3"
  },
  "language_info": {
   "codemirror_mode": {
    "name": "ipython",
    "version": 3
   },
   "file_extension": ".py",
   "mimetype": "text/x-python",
   "name": "python",
   "nbconvert_exporter": "python",
   "pygments_lexer": "ipython3",
   "version": "3.11.5"
  }
 },
 "nbformat": 4,
 "nbformat_minor": 2
}
