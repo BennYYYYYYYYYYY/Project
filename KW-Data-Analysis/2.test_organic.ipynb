{
 "cells": [
  {
   "cell_type": "code",
   "execution_count": 1,
   "metadata": {},
   "outputs": [
    {
     "name": "stdout",
     "output_type": "stream",
     "text": [
      "<class 'pandas.core.frame.DataFrame'>\n",
      "RangeIndex: 1000 entries, 0 to 999\n",
      "Data columns (total 15 columns):\n",
      " #   Column         Non-Null Count  Dtype  \n",
      "---  ------         --------------  -----  \n",
      " 0   关键词            1000 non-null   object \n",
      " 1   点击量            1000 non-null   object \n",
      " 2   Traffic        732 non-null    object \n",
      " 3   变动             1000 non-null   object \n",
      " 4   28 天的体量        1000 non-null   int64  \n",
      " 5   流量变化           1000 non-null   object \n",
      " 6   桌面端份额          1000 non-null   object \n",
      " 7   移动端份额          1000 non-null   object \n",
      " 8   KD             557 non-null    float64\n",
      " 9   意图             581 non-null    object \n",
      " 10  平均体量           1000 non-null   object \n",
      " 11  CPC            1000 non-null   object \n",
      " 12  零点击            741 non-null    float64\n",
      " 13  热门网址           1000 non-null   object \n",
      " 14  SERP Features  781 non-null    object \n",
      "dtypes: float64(2), int64(1), object(12)\n",
      "memory usage: 117.3+ KB\n"
     ]
    }
   ],
   "source": [
    "import pandas as pd\n",
    "path = r\"C:\\Users\\user\\Desktop\\Python\\Martech\\Python關鍵字分析\\new_folder\\2_ cathay-ins(2024_08_05-2024_09_01).xlsx\"\n",
    "data = pd.ExcelFile(path)\n",
    "df = data.parse()\n",
    "df.info()"
   ]
  },
  {
   "cell_type": "code",
   "execution_count": 2,
   "metadata": {},
   "outputs": [
    {
     "data": {
      "text/plain": [
       "Index(['关键词', '点击量', 'Traffic ', '变动', '28 天的体量', '流量变化', '桌面端份额', '移动端份额',\n",
       "       'KD', '意图', '平均体量', 'CPC', '零点击', '热门网址', 'SERP Features'],\n",
       "      dtype='object')"
      ]
     },
     "execution_count": 2,
     "metadata": {},
     "output_type": "execute_result"
    }
   ],
   "source": [
    "df.columns"
   ]
  },
  {
   "cell_type": "code",
   "execution_count": 3,
   "metadata": {},
   "outputs": [
    {
     "name": "stdout",
     "output_type": "stream",
     "text": [
      "<class 'pandas.core.frame.DataFrame'>\n",
      "RangeIndex: 1000 entries, 0 to 999\n",
      "Data columns (total 3 columns):\n",
      " #   Column   Non-Null Count  Dtype \n",
      "---  ------   --------------  ----- \n",
      " 0   Keyword  1000 non-null   object\n",
      " 1   Clicks   1000 non-null   object\n",
      " 2   Website  1000 non-null   object\n",
      "dtypes: object(3)\n",
      "memory usage: 23.6+ KB\n"
     ]
    }
   ],
   "source": [
    "# 只使用三欄位\n",
    "three_df_old = df[['关键词', '点击量', '热门网址']]\n",
    "three_df = three_df_old.rename(columns={'关键词':\"Keyword\", '点击量':\"Clicks\", '热门网址':\"Website\"})\n",
    "three_df.info()"
   ]
  },
  {
   "cell_type": "markdown",
   "metadata": {},
   "source": [
    "# 清洗"
   ]
  },
  {
   "cell_type": "code",
   "execution_count": 4,
   "metadata": {},
   "outputs": [
    {
     "data": {
      "text/plain": [
       "Keyword    586\n",
       "Clicks     586\n",
       "Website    586\n",
       "dtype: int64"
      ]
     },
     "execution_count": 4,
     "metadata": {},
     "output_type": "execute_result"
    }
   ],
   "source": [
    "# not int\n",
    "non_int_row = three_df.loc[three_df['Clicks'].apply(lambda x: not isinstance(x, int))]\n",
    "non_int_row.count()\n"
   ]
  },
  {
   "cell_type": "code",
   "execution_count": 5,
   "metadata": {},
   "outputs": [
    {
     "name": "stdout",
     "output_type": "stream",
     "text": [
      "['<50' '0']\n"
     ]
    }
   ],
   "source": [
    "# type of string\n",
    "unique_values = non_int_row['Clicks'].unique() # return a Numpyarray\n",
    "print(unique_values)"
   ]
  },
  {
   "cell_type": "code",
   "execution_count": 6,
   "metadata": {},
   "outputs": [
    {
     "data": {
      "text/plain": [
       "Keyword    318\n",
       "Clicks     318\n",
       "Website    318\n",
       "dtype: int64"
      ]
     },
     "execution_count": 6,
     "metadata": {},
     "output_type": "execute_result"
    }
   ],
   "source": [
    "# counts of \"<50\"\n",
    "str_row1 = non_int_row.loc[non_int_row['Clicks'].apply(lambda x: x == \"<50\")]\n",
    "str_row1.count()\n"
   ]
  },
  {
   "cell_type": "code",
   "execution_count": 7,
   "metadata": {},
   "outputs": [
    {
     "data": {
      "text/plain": [
       "Keyword    268\n",
       "Clicks     268\n",
       "Website    268\n",
       "dtype: int64"
      ]
     },
     "execution_count": 7,
     "metadata": {},
     "output_type": "execute_result"
    }
   ],
   "source": [
    "# counts of \"0\"\n",
    "str_row2 = non_int_row.loc[non_int_row['Clicks'].apply(lambda x: x == \"0\")]\n",
    "str_row2.count()"
   ]
  },
  {
   "cell_type": "code",
   "execution_count": 8,
   "metadata": {},
   "outputs": [
    {
     "name": "stdout",
     "output_type": "stream",
     "text": [
      "<class 'pandas.core.frame.DataFrame'>\n",
      "RangeIndex: 1000 entries, 0 to 999\n",
      "Data columns (total 3 columns):\n",
      " #   Column   Non-Null Count  Dtype \n",
      "---  ------   --------------  ----- \n",
      " 0   Keyword  1000 non-null   object\n",
      " 1   Clicks   1000 non-null   object\n",
      " 2   Website  1000 non-null   object\n",
      "dtypes: object(3)\n",
      "memory usage: 23.6+ KB\n"
     ]
    }
   ],
   "source": [
    "# string -> 0\n",
    "three_df.loc[:, 'Clicks'] = three_df['Clicks'].apply(lambda x: 0 if isinstance(x, str) else x)\n",
    "three_df.info()"
   ]
  },
  {
   "cell_type": "markdown",
   "metadata": {},
   "source": [
    "# 分組"
   ]
  },
  {
   "cell_type": "code",
   "execution_count": 9,
   "metadata": {},
   "outputs": [
    {
     "name": "stdout",
     "output_type": "stream",
     "text": [
      "<class 'pandas.core.frame.DataFrame'>\n",
      "Index: 211 entries, 0 to 994\n",
      "Data columns (total 3 columns):\n",
      " #   Column   Non-Null Count  Dtype \n",
      "---  ------   --------------  ----- \n",
      " 0   Keyword  211 non-null    object\n",
      " 1   Clicks   211 non-null    object\n",
      " 2   Website  211 non-null    object\n",
      "dtypes: object(3)\n",
      "memory usage: 6.6+ KB\n"
     ]
    }
   ],
   "source": [
    "# 包含國泰 contain_df\n",
    "contain_df = three_df.loc[three_df['Keyword'].str.contains('國泰', na=False)]\n",
    "contain_df.info()"
   ]
  },
  {
   "cell_type": "code",
   "execution_count": 10,
   "metadata": {},
   "outputs": [
    {
     "name": "stdout",
     "output_type": "stream",
     "text": [
      "<class 'pandas.core.frame.DataFrame'>\n",
      "Index: 789 entries, 1 to 999\n",
      "Data columns (total 3 columns):\n",
      " #   Column   Non-Null Count  Dtype \n",
      "---  ------   --------------  ----- \n",
      " 0   Keyword  789 non-null    object\n",
      " 1   Clicks   789 non-null    object\n",
      " 2   Website  789 non-null    object\n",
      "dtypes: object(3)\n",
      "memory usage: 24.7+ KB\n"
     ]
    }
   ],
   "source": [
    "# 不包含國泰 not_contain_df\n",
    "not_contain_df = three_df.loc[~three_df['Keyword'].str.contains('國泰', na=False)]\n",
    "not_contain_df.info()"
   ]
  },
  {
   "cell_type": "markdown",
   "metadata": {},
   "source": [
    "# 聚合"
   ]
  },
  {
   "cell_type": "code",
   "execution_count": 11,
   "metadata": {},
   "outputs": [
    {
     "data": {
      "text/html": [
       "<div>\n",
       "<style scoped>\n",
       "    .dataframe tbody tr th:only-of-type {\n",
       "        vertical-align: middle;\n",
       "    }\n",
       "\n",
       "    .dataframe tbody tr th {\n",
       "        vertical-align: top;\n",
       "    }\n",
       "\n",
       "    .dataframe thead th {\n",
       "        text-align: right;\n",
       "    }\n",
       "</style>\n",
       "<table border=\"1\" class=\"dataframe\">\n",
       "  <thead>\n",
       "    <tr style=\"text-align: right;\">\n",
       "      <th></th>\n",
       "      <th>Website</th>\n",
       "      <th>Clicks</th>\n",
       "      <th>Keyword</th>\n",
       "    </tr>\n",
       "  </thead>\n",
       "  <tbody>\n",
       "    <tr>\n",
       "      <th>45</th>\n",
       "      <td>cathay-ins.com.tw/cathayins/personal</td>\n",
       "      <td>31390</td>\n",
       "      <td>{國泰, 國泰產檢, 國泰產險網站, 國泰世紀產物, 國泰車險, 國泰 車險, 國泰產物線上...</td>\n",
       "    </tr>\n",
       "    <tr>\n",
       "      <th>8</th>\n",
       "      <td>cathay-ins.com.tw/INSEBWeb/BOBE/travel/travel_...</td>\n",
       "      <td>8620</td>\n",
       "      <td>{國泰旅遊不便險, 國泰人壽 不便險, 國泰 旅平險, 國泰不便險, 國泰產險 旅平險, 國...</td>\n",
       "    </tr>\n",
       "    <tr>\n",
       "      <th>29</th>\n",
       "      <td>cathay-ins.com.tw/INSPFWeb/servlet/HttpDispatc...</td>\n",
       "      <td>4520</td>\n",
       "      <td>{國泰人壽客服電話, 國泰產險 客服信箱, 國泰人壽客服, 國泰產險客服, 國泰信用卡 客服...</td>\n",
       "    </tr>\n",
       "    <tr>\n",
       "      <th>11</th>\n",
       "      <td>cathay-ins.com.tw/INSEBWeb/servlet/HttpDispatc...</td>\n",
       "      <td>2510</td>\n",
       "      <td>{國泰產 機車, 國泰強制險, 機車強制險 國泰, 國泰機車三責, 國泰 機車保險, 國泰機...</td>\n",
       "    </tr>\n",
       "    <tr>\n",
       "      <th>82</th>\n",
       "      <td>smartpay.cathay-ins.com.tw</td>\n",
       "      <td>2240</td>\n",
       "      <td>{國泰保險查詢, 國泰保單號碼查詢, 國泰保單查詢, 國泰產險 登入, 國泰產險保單查詢, ...</td>\n",
       "    </tr>\n",
       "  </tbody>\n",
       "</table>\n",
       "</div>"
      ],
      "text/plain": [
       "                                              Website Clicks  \\\n",
       "45               cathay-ins.com.tw/cathayins/personal  31390   \n",
       "8   cathay-ins.com.tw/INSEBWeb/BOBE/travel/travel_...   8620   \n",
       "29  cathay-ins.com.tw/INSPFWeb/servlet/HttpDispatc...   4520   \n",
       "11  cathay-ins.com.tw/INSEBWeb/servlet/HttpDispatc...   2510   \n",
       "82                         smartpay.cathay-ins.com.tw   2240   \n",
       "\n",
       "                                              Keyword  \n",
       "45  {國泰, 國泰產檢, 國泰產險網站, 國泰世紀產物, 國泰車險, 國泰 車險, 國泰產物線上...  \n",
       "8   {國泰旅遊不便險, 國泰人壽 不便險, 國泰 旅平險, 國泰不便險, 國泰產險 旅平險, 國...  \n",
       "29  {國泰人壽客服電話, 國泰產險 客服信箱, 國泰人壽客服, 國泰產險客服, 國泰信用卡 客服...  \n",
       "11  {國泰產 機車, 國泰強制險, 機車強制險 國泰, 國泰機車三責, 國泰 機車保險, 國泰機...  \n",
       "82  {國泰保險查詢, 國泰保單號碼查詢, 國泰保單查詢, 國泰產險 登入, 國泰產險保單查詢, ...  "
      ]
     },
     "execution_count": 11,
     "metadata": {},
     "output_type": "execute_result"
    }
   ],
   "source": [
    "# 包含國泰\n",
    "group_df1 = contain_df.groupby(\"Website\", as_index=False).agg({ # as_index=False: Website not as a new index\n",
    "    \"Clicks\":\"sum\",\n",
    "    \"Keyword\":lambda x: set(x)\n",
    "})  \n",
    "\n",
    "contain_sorted_df = group_df1.sort_values(by=\"Clicks\", ascending=False)\n",
    "contain_sorted_df.head(5)"
   ]
  },
  {
   "cell_type": "code",
   "execution_count": 12,
   "metadata": {},
   "outputs": [
    {
     "data": {
      "text/html": [
       "<div>\n",
       "<style scoped>\n",
       "    .dataframe tbody tr th:only-of-type {\n",
       "        vertical-align: middle;\n",
       "    }\n",
       "\n",
       "    .dataframe tbody tr th {\n",
       "        vertical-align: top;\n",
       "    }\n",
       "\n",
       "    .dataframe thead th {\n",
       "        text-align: right;\n",
       "    }\n",
       "</style>\n",
       "<table border=\"1\" class=\"dataframe\">\n",
       "  <thead>\n",
       "    <tr style=\"text-align: right;\">\n",
       "      <th></th>\n",
       "      <th>Website</th>\n",
       "      <th>Clicks</th>\n",
       "      <th>Keyword</th>\n",
       "    </tr>\n",
       "  </thead>\n",
       "  <tbody>\n",
       "    <tr>\n",
       "      <th>0</th>\n",
       "      <td>cathay-ins.com.tw/cathayins/personal</td>\n",
       "      <td>31390</td>\n",
       "      <td>{國泰, 國泰產檢, 國泰產險網站, 國泰世紀產物, 國泰車險, 國泰 車險, 國泰產物線上...</td>\n",
       "    </tr>\n",
       "    <tr>\n",
       "      <th>1</th>\n",
       "      <td>cathay-ins.com.tw/INSEBWeb/BOBE/travel/travel_...</td>\n",
       "      <td>8620</td>\n",
       "      <td>{國泰旅遊不便險, 國泰人壽 不便險, 國泰 旅平險, 國泰不便險, 國泰產險 旅平險, 國...</td>\n",
       "    </tr>\n",
       "  </tbody>\n",
       "</table>\n",
       "</div>"
      ],
      "text/plain": [
       "                                             Website Clicks  \\\n",
       "0               cathay-ins.com.tw/cathayins/personal  31390   \n",
       "1  cathay-ins.com.tw/INSEBWeb/BOBE/travel/travel_...   8620   \n",
       "\n",
       "                                             Keyword  \n",
       "0  {國泰, 國泰產檢, 國泰產險網站, 國泰世紀產物, 國泰車險, 國泰 車險, 國泰產物線上...  \n",
       "1  {國泰旅遊不便險, 國泰人壽 不便險, 國泰 旅平險, 國泰不便險, 國泰產險 旅平險, 國...  "
      ]
     },
     "execution_count": 12,
     "metadata": {},
     "output_type": "execute_result"
    }
   ],
   "source": [
    "contain_sorted_df.reset_index(drop=True, inplace=True)\n",
    "contain_sorted_df.head(2)"
   ]
  },
  {
   "cell_type": "code",
   "execution_count": 13,
   "metadata": {},
   "outputs": [
    {
     "data": {
      "text/html": [
       "<div>\n",
       "<style scoped>\n",
       "    .dataframe tbody tr th:only-of-type {\n",
       "        vertical-align: middle;\n",
       "    }\n",
       "\n",
       "    .dataframe tbody tr th {\n",
       "        vertical-align: top;\n",
       "    }\n",
       "\n",
       "    .dataframe thead th {\n",
       "        text-align: right;\n",
       "    }\n",
       "</style>\n",
       "<table border=\"1\" class=\"dataframe\">\n",
       "  <thead>\n",
       "    <tr style=\"text-align: right;\">\n",
       "      <th></th>\n",
       "      <th>Website</th>\n",
       "      <th>Clicks</th>\n",
       "      <th>Keyword</th>\n",
       "    </tr>\n",
       "  </thead>\n",
       "  <tbody>\n",
       "    <tr>\n",
       "      <th>19</th>\n",
       "      <td>cathay-ins.com.tw/INSEBWeb/BOBE/travel/travel_...</td>\n",
       "      <td>26450</td>\n",
       "      <td>{旅平險, 美國旅遊險 ptt, 15歲以下旅平險線上投保, 不便險 多家投保, 旅行平安險...</td>\n",
       "    </tr>\n",
       "    <tr>\n",
       "      <th>122</th>\n",
       "      <td>cathay-ins.com.tw/cathayins/personal/motorcycl...</td>\n",
       "      <td>7400</td>\n",
       "      <td>{機車強制險, 強制險 機車, 機車強制責任險, 機車強制險一年多少錢, 機車強制險費用, ...</td>\n",
       "    </tr>\n",
       "    <tr>\n",
       "      <th>70</th>\n",
       "      <td>cathay-ins.com.tw/cathayins/personal/car/liabi...</td>\n",
       "      <td>5670</td>\n",
       "      <td>{汽車第三責任險費用, 汽車第三責任險, 32撞是什麼, 第三人責任保險, 強制險有賠財損嗎...</td>\n",
       "    </tr>\n",
       "    <tr>\n",
       "      <th>102</th>\n",
       "      <td>cathay-ins.com.tw/cathayins/personal/knowledge...</td>\n",
       "      <td>3370</td>\n",
       "      <td>{機車 牌照稅, 汽車牌照, 牌照, 燃料稅過期一天, 牌照稅級距, 監理站牌照稅查詢, 汽...</td>\n",
       "    </tr>\n",
       "    <tr>\n",
       "      <th>68</th>\n",
       "      <td>cathay-ins.com.tw/cathayins/personal/car</td>\n",
       "      <td>2800</td>\n",
       "      <td>{新車 保險 生效日, 汽車 保險, 汽車保險推薦, 汽車保險 推薦, 車子保險, 汽車保險...</td>\n",
       "    </tr>\n",
       "  </tbody>\n",
       "</table>\n",
       "</div>"
      ],
      "text/plain": [
       "                                               Website Clicks  \\\n",
       "19   cathay-ins.com.tw/INSEBWeb/BOBE/travel/travel_...  26450   \n",
       "122  cathay-ins.com.tw/cathayins/personal/motorcycl...   7400   \n",
       "70   cathay-ins.com.tw/cathayins/personal/car/liabi...   5670   \n",
       "102  cathay-ins.com.tw/cathayins/personal/knowledge...   3370   \n",
       "68            cathay-ins.com.tw/cathayins/personal/car   2800   \n",
       "\n",
       "                                               Keyword  \n",
       "19   {旅平險, 美國旅遊險 ptt, 15歲以下旅平險線上投保, 不便險 多家投保, 旅行平安險...  \n",
       "122  {機車強制險, 強制險 機車, 機車強制責任險, 機車強制險一年多少錢, 機車強制險費用, ...  \n",
       "70   {汽車第三責任險費用, 汽車第三責任險, 32撞是什麼, 第三人責任保險, 強制險有賠財損嗎...  \n",
       "102  {機車 牌照稅, 汽車牌照, 牌照, 燃料稅過期一天, 牌照稅級距, 監理站牌照稅查詢, 汽...  \n",
       "68   {新車 保險 生效日, 汽車 保險, 汽車保險推薦, 汽車保險 推薦, 車子保險, 汽車保險...  "
      ]
     },
     "execution_count": 13,
     "metadata": {},
     "output_type": "execute_result"
    }
   ],
   "source": [
    "# 不包含國泰\n",
    "group_df2 = not_contain_df.groupby(\"Website\", as_index=False).agg({ # as_index=False: Website not as a new index\n",
    "    \"Clicks\":\"sum\",\n",
    "    \"Keyword\":lambda x: set(x)\n",
    "})  \n",
    "\n",
    "not_contain_sorted_df = group_df2.sort_values(by=\"Clicks\", ascending=False)\n",
    "not_contain_sorted_df.head(5)"
   ]
  },
  {
   "cell_type": "code",
   "execution_count": 14,
   "metadata": {},
   "outputs": [
    {
     "data": {
      "text/html": [
       "<div>\n",
       "<style scoped>\n",
       "    .dataframe tbody tr th:only-of-type {\n",
       "        vertical-align: middle;\n",
       "    }\n",
       "\n",
       "    .dataframe tbody tr th {\n",
       "        vertical-align: top;\n",
       "    }\n",
       "\n",
       "    .dataframe thead th {\n",
       "        text-align: right;\n",
       "    }\n",
       "</style>\n",
       "<table border=\"1\" class=\"dataframe\">\n",
       "  <thead>\n",
       "    <tr style=\"text-align: right;\">\n",
       "      <th></th>\n",
       "      <th>Website</th>\n",
       "      <th>Clicks</th>\n",
       "      <th>Keyword</th>\n",
       "    </tr>\n",
       "  </thead>\n",
       "  <tbody>\n",
       "    <tr>\n",
       "      <th>0</th>\n",
       "      <td>cathay-ins.com.tw/INSEBWeb/BOBE/travel/travel_...</td>\n",
       "      <td>26450</td>\n",
       "      <td>{旅平險, 美國旅遊險 ptt, 15歲以下旅平險線上投保, 不便險 多家投保, 旅行平安險...</td>\n",
       "    </tr>\n",
       "    <tr>\n",
       "      <th>1</th>\n",
       "      <td>cathay-ins.com.tw/cathayins/personal/motorcycl...</td>\n",
       "      <td>7400</td>\n",
       "      <td>{機車強制險, 強制險 機車, 機車強制責任險, 機車強制險一年多少錢, 機車強制險費用, ...</td>\n",
       "    </tr>\n",
       "  </tbody>\n",
       "</table>\n",
       "</div>"
      ],
      "text/plain": [
       "                                             Website Clicks  \\\n",
       "0  cathay-ins.com.tw/INSEBWeb/BOBE/travel/travel_...  26450   \n",
       "1  cathay-ins.com.tw/cathayins/personal/motorcycl...   7400   \n",
       "\n",
       "                                             Keyword  \n",
       "0  {旅平險, 美國旅遊險 ptt, 15歲以下旅平險線上投保, 不便險 多家投保, 旅行平安險...  \n",
       "1  {機車強制險, 強制險 機車, 機車強制責任險, 機車強制險一年多少錢, 機車強制險費用, ...  "
      ]
     },
     "execution_count": 14,
     "metadata": {},
     "output_type": "execute_result"
    }
   ],
   "source": [
    "# reset index\n",
    "not_contain_sorted_df.reset_index(drop=True, inplace=True) # drop=True: drop old index\n",
    "not_contain_sorted_df.head(2)"
   ]
  },
  {
   "cell_type": "markdown",
   "metadata": {},
   "source": [
    "# 總整理"
   ]
  },
  {
   "cell_type": "code",
   "execution_count": 15,
   "metadata": {},
   "outputs": [
    {
     "data": {
      "text/html": [
       "<div>\n",
       "<style scoped>\n",
       "    .dataframe tbody tr th:only-of-type {\n",
       "        vertical-align: middle;\n",
       "    }\n",
       "\n",
       "    .dataframe tbody tr th {\n",
       "        vertical-align: top;\n",
       "    }\n",
       "\n",
       "    .dataframe thead th {\n",
       "        text-align: right;\n",
       "    }\n",
       "</style>\n",
       "<table border=\"1\" class=\"dataframe\">\n",
       "  <thead>\n",
       "    <tr style=\"text-align: right;\">\n",
       "      <th></th>\n",
       "      <th>國泰_有國泰</th>\n",
       "      <th>國泰_沒國泰</th>\n",
       "    </tr>\n",
       "  </thead>\n",
       "  <tbody>\n",
       "    <tr>\n",
       "      <th>0</th>\n",
       "      <td>{國泰, 國泰產檢, 國泰產險網站, 國泰世紀產物, 國泰車險, 國泰 車險, 國泰產物線上...</td>\n",
       "      <td>{旅平險, 美國旅遊險 ptt, 15歲以下旅平險線上投保, 不便險 多家投保, 旅行平安險...</td>\n",
       "    </tr>\n",
       "    <tr>\n",
       "      <th>1</th>\n",
       "      <td>{國泰旅遊不便險, 國泰人壽 不便險, 國泰 旅平險, 國泰不便險, 國泰產險 旅平險, 國...</td>\n",
       "      <td>{機車強制險, 強制險 機車, 機車強制責任險, 機車強制險一年多少錢, 機車強制險費用, ...</td>\n",
       "    </tr>\n",
       "    <tr>\n",
       "      <th>2</th>\n",
       "      <td>{國泰人壽客服電話, 國泰產險 客服信箱, 國泰人壽客服, 國泰產險客服, 國泰信用卡 客服...</td>\n",
       "      <td>{汽車第三責任險費用, 汽車第三責任險, 32撞是什麼, 第三人責任保險, 強制險有賠財損嗎...</td>\n",
       "    </tr>\n",
       "    <tr>\n",
       "      <th>3</th>\n",
       "      <td>{國泰產 機車, 國泰強制險, 機車強制險 國泰, 國泰機車三責, 國泰 機車保險, 國泰機...</td>\n",
       "      <td>{機車 牌照稅, 汽車牌照, 牌照, 燃料稅過期一天, 牌照稅級距, 監理站牌照稅查詢, 汽...</td>\n",
       "    </tr>\n",
       "    <tr>\n",
       "      <th>4</th>\n",
       "      <td>{國泰保險查詢, 國泰保單號碼查詢, 國泰保單查詢, 國泰產險 登入, 國泰產險保單查詢, ...</td>\n",
       "      <td>{新車 保險 生效日, 汽車 保險, 汽車保險推薦, 汽車保險 推薦, 車子保險, 汽車保險...</td>\n",
       "    </tr>\n",
       "  </tbody>\n",
       "</table>\n",
       "</div>"
      ],
      "text/plain": [
       "                                              國泰_有國泰  \\\n",
       "0  {國泰, 國泰產檢, 國泰產險網站, 國泰世紀產物, 國泰車險, 國泰 車險, 國泰產物線上...   \n",
       "1  {國泰旅遊不便險, 國泰人壽 不便險, 國泰 旅平險, 國泰不便險, 國泰產險 旅平險, 國...   \n",
       "2  {國泰人壽客服電話, 國泰產險 客服信箱, 國泰人壽客服, 國泰產險客服, 國泰信用卡 客服...   \n",
       "3  {國泰產 機車, 國泰強制險, 機車強制險 國泰, 國泰機車三責, 國泰 機車保險, 國泰機...   \n",
       "4  {國泰保險查詢, 國泰保單號碼查詢, 國泰保單查詢, 國泰產險 登入, 國泰產險保單查詢, ...   \n",
       "\n",
       "                                              國泰_沒國泰  \n",
       "0  {旅平險, 美國旅遊險 ptt, 15歲以下旅平險線上投保, 不便險 多家投保, 旅行平安險...  \n",
       "1  {機車強制險, 強制險 機車, 機車強制責任險, 機車強制險一年多少錢, 機車強制險費用, ...  \n",
       "2  {汽車第三責任險費用, 汽車第三責任險, 32撞是什麼, 第三人責任保險, 強制險有賠財損嗎...  \n",
       "3  {機車 牌照稅, 汽車牌照, 牌照, 燃料稅過期一天, 牌照稅級距, 監理站牌照稅查詢, 汽...  \n",
       "4  {新車 保險 生效日, 汽車 保險, 汽車保險推薦, 汽車保險 推薦, 車子保險, 汽車保險...  "
      ]
     },
     "execution_count": 15,
     "metadata": {},
     "output_type": "execute_result"
    }
   ],
   "source": [
    "# Sheet1\n",
    "organic_all_data = pd.DataFrame()\n",
    "organic_all_data[\"國泰_有國泰\"] = contain_sorted_df[\"Keyword\"].head(5)\n",
    "organic_all_data[\"國泰_沒國泰\"] = not_contain_sorted_df[\"Keyword\"].head(5)\n",
    "with pd.ExcelWriter(\"organic_all_data.xlsx\", mode='w') as writer:\n",
    "    organic_all_data.to_excel(writer, sheet_name=\"Sheet1\", index=False)\n",
    "\n",
    "organic_all_data"
   ]
  },
  {
   "cell_type": "code",
   "execution_count": 16,
   "metadata": {},
   "outputs": [],
   "source": [
    "# 新sheet \"國泰_有國泰\"\n",
    "file = r\"C:\\Users\\user\\Desktop\\Python\\Martech\\Python關鍵字分析\\organic_all_data.xlsx\"\n",
    "with pd.ExcelWriter(file, mode='a', if_sheet_exists=\"overlay\") as writer:\n",
    "    contain_sorted_df.to_excel(writer, sheet_name='國泰_有國泰', index=False)"
   ]
  },
  {
   "cell_type": "code",
   "execution_count": 17,
   "metadata": {},
   "outputs": [],
   "source": [
    "with pd.ExcelWriter(file, mode='a', if_sheet_exists=\"overlay\") as writer:\n",
    "    not_contain_sorted_df.to_excel(writer, sheet_name='國泰_沒國泰', index=False)# 新sheet \"國泰_沒國泰\""
   ]
  }
 ],
 "metadata": {
  "kernelspec": {
   "display_name": "base",
   "language": "python",
   "name": "python3"
  },
  "language_info": {
   "codemirror_mode": {
    "name": "ipython",
    "version": 3
   },
   "file_extension": ".py",
   "mimetype": "text/x-python",
   "name": "python",
   "nbconvert_exporter": "python",
   "pygments_lexer": "ipython3",
   "version": "3.11.5"
  }
 },
 "nbformat": 4,
 "nbformat_minor": 2
}
